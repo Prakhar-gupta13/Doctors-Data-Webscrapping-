{
  "nbformat": 4,
  "nbformat_minor": 0,
  "metadata": {
    "colab": {
      "name": "doctor webscrapping_rough.ipynb",
      "provenance": []
    },
    "kernelspec": {
      "name": "python3",
      "display_name": "Python 3"
    },
    "language_info": {
      "name": "python"
    }
  },
  "cells": [
    {
      "cell_type": "markdown",
      "metadata": {
        "id": "bjYqOcQ-lM2V"
      },
      "source": [
        "### DOCTORS WEB SCRAPPING\n"
      ]
    },
    {
      "cell_type": "code",
      "metadata": {
        "id": "FFtPjweXlS9g"
      },
      "source": [
        "###using https://www.drdata.in/list-doctors.php"
      ],
      "execution_count": null,
      "outputs": []
    },
    {
      "cell_type": "code",
      "metadata": {
        "colab": {
          "base_uri": "https://localhost:8080/"
        },
        "id": "b6kMb3oRl1lo",
        "outputId": "8a12bba8-0b51-4a85-8294-d0384791d854"
      },
      "source": [
        "!pip install requests"
      ],
      "execution_count": null,
      "outputs": [
        {
          "output_type": "stream",
          "name": "stdout",
          "text": [
            "Requirement already satisfied: requests in /usr/local/lib/python3.7/dist-packages (2.23.0)\n",
            "Requirement already satisfied: urllib3!=1.25.0,!=1.25.1,<1.26,>=1.21.1 in /usr/local/lib/python3.7/dist-packages (from requests) (1.24.3)\n",
            "Requirement already satisfied: certifi>=2017.4.17 in /usr/local/lib/python3.7/dist-packages (from requests) (2021.5.30)\n",
            "Requirement already satisfied: chardet<4,>=3.0.2 in /usr/local/lib/python3.7/dist-packages (from requests) (3.0.4)\n",
            "Requirement already satisfied: idna<3,>=2.5 in /usr/local/lib/python3.7/dist-packages (from requests) (2.10)\n"
          ]
        }
      ]
    },
    {
      "cell_type": "code",
      "metadata": {
        "id": "j2CPl5BAl7Y2"
      },
      "source": [
        "import requests"
      ],
      "execution_count": null,
      "outputs": []
    },
    {
      "cell_type": "code",
      "metadata": {
        "id": "-XkD_RblmDWR"
      },
      "source": [
        "doc_url=\"https://www.drdata.in/list-doctors.php\""
      ],
      "execution_count": null,
      "outputs": []
    },
    {
      "cell_type": "code",
      "metadata": {
        "id": "O8Jf54gYmHba"
      },
      "source": [
        "response=requests.get(doc_url)"
      ],
      "execution_count": null,
      "outputs": []
    },
    {
      "cell_type": "code",
      "metadata": {
        "colab": {
          "base_uri": "https://localhost:8080/"
        },
        "id": "wJ4riF9fmNp7",
        "outputId": "9255154e-97e8-4565-ccdc-48a246e8a6eb"
      },
      "source": [
        "response.status_code"
      ],
      "execution_count": null,
      "outputs": [
        {
          "output_type": "execute_result",
          "data": {
            "text/plain": [
              "200"
            ]
          },
          "metadata": {},
          "execution_count": 8
        }
      ]
    },
    {
      "cell_type": "code",
      "metadata": {
        "colab": {
          "base_uri": "https://localhost:8080/"
        },
        "id": "XV02ILBBmPw4",
        "outputId": "17d41508-6a9c-4e35-cd21-82aa9fb9bd46"
      },
      "source": [
        "len(response.text)"
      ],
      "execution_count": null,
      "outputs": [
        {
          "output_type": "execute_result",
          "data": {
            "text/plain": [
              "139018"
            ]
          },
          "metadata": {},
          "execution_count": 9
        }
      ]
    },
    {
      "cell_type": "code",
      "metadata": {
        "colab": {
          "base_uri": "https://localhost:8080/",
          "height": 100
        },
        "id": "Uu4QlXFqpDeb",
        "outputId": "eae6e29a-7183-49c0-dd38-4f740d35b94c"
      },
      "source": [
        "response.text[:1000]"
      ],
      "execution_count": null,
      "outputs": [
        {
          "output_type": "execute_result",
          "data": {
            "application/vnd.google.colaboratory.intrinsic+json": {
              "type": "string"
            },
            "text/plain": [
              "'<!DOCTYPE html>\\r\\n<html lang=\"en\"><head>\\r\\n<script async src=\"https://www.googletagmanager.com/gtag/js?id=UA-61981285-1\"></script><script>var _$_48c7=[\"dataLayer\",\"push\",\"js\",\"config\",\"UA-61981285-1\"];window[_$_48c7[0]]= window[_$_48c7[0]]|| [];function gtag(){dataLayer[_$_48c7[1]](arguments)}gtag(_$_48c7[2], new Date());gtag(_$_48c7[3],_$_48c7[4])</script><script>(function(i,s,o,g,r,a,m){i[\\'GoogleAnalyticsObject\\']=r;i[r]=i[r]||function(){\\n(i[r].q=i[r].q||[]).push(arguments)},i[r].l=1*new Date();a=s.createElement(o),\\nm=s.getElementsByTagName(o)[0];a.async=1;a.src=g;m.parentNode.insertBefore(a,m)\\n})(window,document,\\'script\\',\\'https://www.google-analytics.com/analytics.js\\',\\'ga\\');\\nga(\\'create\\', \\'UA-61981285-1\\', \\'auto\\');\\nga(\\'send\\', \\'pageview\\');</script><meta charset=\"utf-8\"><meta http-equiv=\"X-UA-Compatible\" content=\"IE=edge\"><meta name=\"viewport\" content=\"width=device-width, initial-scale=1\"><meta name=\"author\" content=\"DrData\"><meta name=\"distribution\" content=\"global\"><meta name=\"robots\" co'"
            ]
          },
          "metadata": {},
          "execution_count": 10
        }
      ]
    },
    {
      "cell_type": "code",
      "metadata": {
        "id": "nWDtRQyhnuEr"
      },
      "source": [
        "page_content_1= response.text\n",
        "with open (\"webpage html\", \"w\") as f:\n",
        "  f.write(page_content_1)"
      ],
      "execution_count": null,
      "outputs": []
    },
    {
      "cell_type": "code",
      "metadata": {
        "colab": {
          "base_uri": "https://localhost:8080/"
        },
        "id": "d7J4MXL1mta4",
        "outputId": "fa87341d-690b-4a5d-b485-dc989afd2e6d"
      },
      "source": [
        "!pip install beautifulsoup4"
      ],
      "execution_count": null,
      "outputs": [
        {
          "output_type": "stream",
          "name": "stdout",
          "text": [
            "Requirement already satisfied: beautifulsoup4 in /usr/local/lib/python3.7/dist-packages (4.6.3)\n"
          ]
        }
      ]
    },
    {
      "cell_type": "code",
      "metadata": {
        "id": "3I2G2KsumwlQ"
      },
      "source": [
        "from bs4 import BeautifulSoup"
      ],
      "execution_count": null,
      "outputs": []
    },
    {
      "cell_type": "code",
      "metadata": {
        "id": "dwUhCCPonZiX"
      },
      "source": [
        "soup=BeautifulSoup(page_content_1,\"html.parser\")"
      ],
      "execution_count": null,
      "outputs": []
    },
    {
      "cell_type": "code",
      "metadata": {
        "colab": {
          "base_uri": "https://localhost:8080/"
        },
        "id": "iP4aWb5iyMM_",
        "outputId": "36486c2e-3023-40a4-c3d7-be90081aed9a"
      },
      "source": [
        "len(soup)"
      ],
      "execution_count": null,
      "outputs": [
        {
          "output_type": "execute_result",
          "data": {
            "text/plain": [
              "3"
            ]
          },
          "metadata": {},
          "execution_count": 15
        }
      ]
    },
    {
      "cell_type": "code",
      "metadata": {
        "id": "7bNJWn3ToIqy"
      },
      "source": [
        "doctor_name_tag=soup.find_all(\"td\",{\"data-title\":\"Name\"})"
      ],
      "execution_count": null,
      "outputs": []
    },
    {
      "cell_type": "code",
      "metadata": {
        "id": "uqoymdPBoJmc",
        "colab": {
          "base_uri": "https://localhost:8080/"
        },
        "outputId": "c1e88732-bcd8-4cc0-8912-630b7fa9b3fc"
      },
      "source": [
        "len(doctor_name_tag)"
      ],
      "execution_count": null,
      "outputs": [
        {
          "output_type": "execute_result",
          "data": {
            "text/plain": [
              "15"
            ]
          },
          "metadata": {},
          "execution_count": 17
        }
      ]
    },
    {
      "cell_type": "code",
      "metadata": {
        "colab": {
          "base_uri": "https://localhost:8080/",
          "height": 35
        },
        "id": "Grq6VIFUq1Qs",
        "outputId": "49a3eb0d-e427-41f9-e736-4a10465a5df0"
      },
      "source": [
        "doctor_name_tag[0].text.strip()"
      ],
      "execution_count": null,
      "outputs": [
        {
          "output_type": "execute_result",
          "data": {
            "application/vnd.google.colaboratory.intrinsic+json": {
              "type": "string"
            },
            "text/plain": [
              "'Dr. Achwal Suvarna'"
            ]
          },
          "metadata": {},
          "execution_count": 18
        }
      ]
    },
    {
      "cell_type": "code",
      "metadata": {
        "colab": {
          "base_uri": "https://localhost:8080/"
        },
        "id": "B83j54ARQ8nq",
        "outputId": "eb69f0e9-6f74-42b0-9bdc-6996fdeb8c3c"
      },
      "source": [
        "len(doctor_name_tag)"
      ],
      "execution_count": null,
      "outputs": [
        {
          "output_type": "execute_result",
          "data": {
            "text/plain": [
              "15"
            ]
          },
          "metadata": {},
          "execution_count": 19
        }
      ]
    },
    {
      "cell_type": "code",
      "metadata": {
        "id": "AO2U6W7xq4AO"
      },
      "source": [
        "doctors_name_1=[]\n",
        "\n",
        "for i in doctor_name_tag[0:15]:\n",
        "  doctors_name_1.append(i.text.strip())"
      ],
      "execution_count": null,
      "outputs": []
    },
    {
      "cell_type": "code",
      "metadata": {
        "id": "kldYE4nHq_A_",
        "colab": {
          "base_uri": "https://localhost:8080/"
        },
        "outputId": "e0514705-5da4-459f-8e5f-b874e76839ff"
      },
      "source": [
        "doctors_name_1"
      ],
      "execution_count": null,
      "outputs": [
        {
          "output_type": "execute_result",
          "data": {
            "text/plain": [
              "['Dr. Achwal Suvarna',\n",
              " 'Dr. Agarwal Priyank',\n",
              " 'Dr. Aggarwal Supriya',\n",
              " 'Dr. Agnihotri Basant Kumar',\n",
              " 'Dr. Agrawal Arun Kumar',\n",
              " 'Dr. Agrawal Ashutosh',\n",
              " 'Dr. Agrawal Deepak',\n",
              " 'Dr. Agrawal Himanshu',\n",
              " 'Dr. Agrawal Nisha',\n",
              " 'Dr. Agrawal Shanu',\n",
              " 'Dr. Asati Pranav',\n",
              " 'Dr. Asrani Sumit',\n",
              " 'Dr. Baghel Satyendra Singh',\n",
              " 'Dr. Baghel Yadvendra Singh',\n",
              " 'Dr. Bansal Amardeep Singh']"
            ]
          },
          "metadata": {},
          "execution_count": 21
        }
      ]
    },
    {
      "cell_type": "code",
      "metadata": {
        "id": "p0ieVoLErEWm"
      },
      "source": [
        "detail_tag= soup.find_all(\"td\",{\"data-title\":\"Details\"})"
      ],
      "execution_count": null,
      "outputs": []
    },
    {
      "cell_type": "code",
      "metadata": {
        "id": "FDmQydpPr4ls",
        "colab": {
          "base_uri": "https://localhost:8080/"
        },
        "outputId": "2ac7b3f4-7905-4bae-fc93-38a128a60e96"
      },
      "source": [
        "len(detail_tag)"
      ],
      "execution_count": null,
      "outputs": [
        {
          "output_type": "execute_result",
          "data": {
            "text/plain": [
              "15"
            ]
          },
          "metadata": {},
          "execution_count": 23
        }
      ]
    },
    {
      "cell_type": "code",
      "metadata": {
        "colab": {
          "base_uri": "https://localhost:8080/"
        },
        "id": "MKiQxdNsMe88",
        "outputId": "6f08028b-f801-4214-9682-6d4eac071a4b"
      },
      "source": [
        "detail_tag[0]"
      ],
      "execution_count": null,
      "outputs": [
        {
          "output_type": "execute_result",
          "data": {
            "text/plain": [
              "<td data-title=\"Details\" valign=\"top\"> <a href=\"drachwalbina\" title=\"Dr. Achwal Suvarna Profile Page\"><button class=\"btn btn-info\" type=\"button\">Connect Profile ❯❯</button></a> </td>"
            ]
          },
          "metadata": {},
          "execution_count": 24
        }
      ]
    },
    {
      "cell_type": "code",
      "metadata": {
        "id": "aNzd4rg3MfBp"
      },
      "source": [
        "detail_link=[]\n",
        "for i in detail_tag:\n",
        "  detail_link_url=i.find_all(\"a\")\n",
        "  #print(detail_link_url)\n",
        "  for j in detail_link_url:\n",
        "    detail_link.append(\"http://www.drdata.in/\" + j[\"href\"])\n",
        "   "
      ],
      "execution_count": null,
      "outputs": []
    },
    {
      "cell_type": "code",
      "metadata": {
        "colab": {
          "base_uri": "https://localhost:8080/"
        },
        "id": "OsaqNI19MfHQ",
        "outputId": "ce66cb7d-74a2-40f0-d297-cedf15151e1a"
      },
      "source": [
        "detail_link ,doctors_name_1"
      ],
      "execution_count": null,
      "outputs": [
        {
          "output_type": "execute_result",
          "data": {
            "text/plain": [
              "(['http://www.drdata.in/drachwalbina',\n",
              "  'http://www.drdata.in/drpriyankagarwalbina',\n",
              "  'http://www.drdata.in/drsupriyaaggarwal',\n",
              "  'http://www.drdata.in/drbasantagnihotri',\n",
              "  'http://www.drdata.in/drarunagrawalrewa',\n",
              "  'http://www.drdata.in/drashutoshagrawal',\n",
              "  'http://www.drdata.in/drdeepakagrawal',\n",
              "  'http://www.drdata.in/drhimanshuagrawal',\n",
              "  'http://www.drdata.in/drnishaagrawalrewa',\n",
              "  'http://www.drdata.in/drshanuagrawal',\n",
              "  'http://www.drdata.in/pranavasati',\n",
              "  'http://www.drdata.in/asranisumit',\n",
              "  'http://www.drdata.in/drssbaghel',\n",
              "  'http://www.drdata.in/drysbaghelrewa',\n",
              "  'http://www.drdata.in/drasbansal'],\n",
              " ['Dr. Achwal Suvarna',\n",
              "  'Dr. Agarwal Priyank',\n",
              "  'Dr. Aggarwal Supriya',\n",
              "  'Dr. Agnihotri Basant Kumar',\n",
              "  'Dr. Agrawal Arun Kumar',\n",
              "  'Dr. Agrawal Ashutosh',\n",
              "  'Dr. Agrawal Deepak',\n",
              "  'Dr. Agrawal Himanshu',\n",
              "  'Dr. Agrawal Nisha',\n",
              "  'Dr. Agrawal Shanu',\n",
              "  'Dr. Asati Pranav',\n",
              "  'Dr. Asrani Sumit',\n",
              "  'Dr. Baghel Satyendra Singh',\n",
              "  'Dr. Baghel Yadvendra Singh',\n",
              "  'Dr. Bansal Amardeep Singh'])"
            ]
          },
          "metadata": {},
          "execution_count": 26
        }
      ]
    },
    {
      "cell_type": "code",
      "metadata": {
        "id": "EgPa0T9XMfLV"
      },
      "source": [
        "import pandas as pd"
      ],
      "execution_count": null,
      "outputs": []
    },
    {
      "cell_type": "code",
      "metadata": {
        "id": "8_Uvpk9MMfO7"
      },
      "source": [
        "dict={\n",
        "    \"doctorname\":doctors_name_1,\n",
        "    \"conatc_detail_link\": detail_link\n",
        "}"
      ],
      "execution_count": null,
      "outputs": []
    },
    {
      "cell_type": "code",
      "metadata": {
        "id": "vJ7efW6RMfTF"
      },
      "source": [
        "df1=pd.DataFrame(dict)"
      ],
      "execution_count": null,
      "outputs": []
    },
    {
      "cell_type": "code",
      "metadata": {
        "id": "nDolANJdMfWl"
      },
      "source": [
        "df1\n",
        "df1.to_csv(\"doctor _1_details\",index=None)"
      ],
      "execution_count": null,
      "outputs": []
    },
    {
      "cell_type": "code",
      "metadata": {
        "colab": {
          "base_uri": "https://localhost:8080/",
          "height": 502
        },
        "id": "eMmkMn-rSiO9",
        "outputId": "24ec9d83-2b11-4845-fec1-00688912d349"
      },
      "source": [
        "df1"
      ],
      "execution_count": null,
      "outputs": [
        {
          "output_type": "execute_result",
          "data": {
            "text/html": [
              "<div>\n",
              "<style scoped>\n",
              "    .dataframe tbody tr th:only-of-type {\n",
              "        vertical-align: middle;\n",
              "    }\n",
              "\n",
              "    .dataframe tbody tr th {\n",
              "        vertical-align: top;\n",
              "    }\n",
              "\n",
              "    .dataframe thead th {\n",
              "        text-align: right;\n",
              "    }\n",
              "</style>\n",
              "<table border=\"1\" class=\"dataframe\">\n",
              "  <thead>\n",
              "    <tr style=\"text-align: right;\">\n",
              "      <th></th>\n",
              "      <th>doctorname</th>\n",
              "      <th>conatc_detail_link</th>\n",
              "    </tr>\n",
              "  </thead>\n",
              "  <tbody>\n",
              "    <tr>\n",
              "      <th>0</th>\n",
              "      <td>Dr. Achwal Suvarna</td>\n",
              "      <td>http://www.drdata.in/drachwalbina</td>\n",
              "    </tr>\n",
              "    <tr>\n",
              "      <th>1</th>\n",
              "      <td>Dr. Agarwal Priyank</td>\n",
              "      <td>http://www.drdata.in/drpriyankagarwalbina</td>\n",
              "    </tr>\n",
              "    <tr>\n",
              "      <th>2</th>\n",
              "      <td>Dr. Aggarwal Supriya</td>\n",
              "      <td>http://www.drdata.in/drsupriyaaggarwal</td>\n",
              "    </tr>\n",
              "    <tr>\n",
              "      <th>3</th>\n",
              "      <td>Dr. Agnihotri Basant Kumar</td>\n",
              "      <td>http://www.drdata.in/drbasantagnihotri</td>\n",
              "    </tr>\n",
              "    <tr>\n",
              "      <th>4</th>\n",
              "      <td>Dr. Agrawal Arun Kumar</td>\n",
              "      <td>http://www.drdata.in/drarunagrawalrewa</td>\n",
              "    </tr>\n",
              "    <tr>\n",
              "      <th>5</th>\n",
              "      <td>Dr. Agrawal Ashutosh</td>\n",
              "      <td>http://www.drdata.in/drashutoshagrawal</td>\n",
              "    </tr>\n",
              "    <tr>\n",
              "      <th>6</th>\n",
              "      <td>Dr. Agrawal Deepak</td>\n",
              "      <td>http://www.drdata.in/drdeepakagrawal</td>\n",
              "    </tr>\n",
              "    <tr>\n",
              "      <th>7</th>\n",
              "      <td>Dr. Agrawal Himanshu</td>\n",
              "      <td>http://www.drdata.in/drhimanshuagrawal</td>\n",
              "    </tr>\n",
              "    <tr>\n",
              "      <th>8</th>\n",
              "      <td>Dr. Agrawal Nisha</td>\n",
              "      <td>http://www.drdata.in/drnishaagrawalrewa</td>\n",
              "    </tr>\n",
              "    <tr>\n",
              "      <th>9</th>\n",
              "      <td>Dr. Agrawal Shanu</td>\n",
              "      <td>http://www.drdata.in/drshanuagrawal</td>\n",
              "    </tr>\n",
              "    <tr>\n",
              "      <th>10</th>\n",
              "      <td>Dr. Asati Pranav</td>\n",
              "      <td>http://www.drdata.in/pranavasati</td>\n",
              "    </tr>\n",
              "    <tr>\n",
              "      <th>11</th>\n",
              "      <td>Dr. Asrani Sumit</td>\n",
              "      <td>http://www.drdata.in/asranisumit</td>\n",
              "    </tr>\n",
              "    <tr>\n",
              "      <th>12</th>\n",
              "      <td>Dr. Baghel Satyendra Singh</td>\n",
              "      <td>http://www.drdata.in/drssbaghel</td>\n",
              "    </tr>\n",
              "    <tr>\n",
              "      <th>13</th>\n",
              "      <td>Dr. Baghel Yadvendra Singh</td>\n",
              "      <td>http://www.drdata.in/drysbaghelrewa</td>\n",
              "    </tr>\n",
              "    <tr>\n",
              "      <th>14</th>\n",
              "      <td>Dr. Bansal Amardeep Singh</td>\n",
              "      <td>http://www.drdata.in/drasbansal</td>\n",
              "    </tr>\n",
              "  </tbody>\n",
              "</table>\n",
              "</div>"
            ],
            "text/plain": [
              "                    doctorname                         conatc_detail_link\n",
              "0           Dr. Achwal Suvarna          http://www.drdata.in/drachwalbina\n",
              "1          Dr. Agarwal Priyank  http://www.drdata.in/drpriyankagarwalbina\n",
              "2         Dr. Aggarwal Supriya     http://www.drdata.in/drsupriyaaggarwal\n",
              "3   Dr. Agnihotri Basant Kumar     http://www.drdata.in/drbasantagnihotri\n",
              "4       Dr. Agrawal Arun Kumar     http://www.drdata.in/drarunagrawalrewa\n",
              "5         Dr. Agrawal Ashutosh     http://www.drdata.in/drashutoshagrawal\n",
              "6           Dr. Agrawal Deepak       http://www.drdata.in/drdeepakagrawal\n",
              "7         Dr. Agrawal Himanshu     http://www.drdata.in/drhimanshuagrawal\n",
              "8            Dr. Agrawal Nisha    http://www.drdata.in/drnishaagrawalrewa\n",
              "9            Dr. Agrawal Shanu        http://www.drdata.in/drshanuagrawal\n",
              "10            Dr. Asati Pranav           http://www.drdata.in/pranavasati\n",
              "11            Dr. Asrani Sumit           http://www.drdata.in/asranisumit\n",
              "12  Dr. Baghel Satyendra Singh            http://www.drdata.in/drssbaghel\n",
              "13  Dr. Baghel Yadvendra Singh        http://www.drdata.in/drysbaghelrewa\n",
              "14   Dr. Bansal Amardeep Singh            http://www.drdata.in/drasbansal"
            ]
          },
          "metadata": {},
          "execution_count": 31
        }
      ]
    },
    {
      "cell_type": "code",
      "metadata": {
        "colab": {
          "base_uri": "https://localhost:8080/"
        },
        "id": "OE6grlzWh24E",
        "outputId": "30a45ef7-e846-4db9-f8c9-1a31845a338d"
      },
      "source": [
        "doc_url=\"https://www.drdata.in/list-doctors.php\"\n",
        "response=requests.get(doc_url)\n",
        "soup=BeautifulSoup(page_content_1,\"html.parser\")\n",
        "#doctor name\n",
        "doctor_name_tag=soup.find_all(\"td\",{\"data-title\":\"Name\"})\n",
        "doctors_name_1=[]\n",
        "\n",
        "for i in doctor_name_tag:\n",
        "  doctors_name_1.append(i.text.strip())\n",
        "print(doctors_name_1)\n",
        "# link \n",
        "detail_tag= soup.find_all(\"td\",{\"data-title\":\"Details\"})\n",
        "detail_link=[]\n",
        "for i in detail_tag:\n",
        "  detail_link_url=i.find_all(\"a\")\n",
        "  #print(detail_link_url)\n",
        "  for j in detail_link_url:\n",
        "    detail_link.append(\"http://www.drdata.in/\" + j[\"href\"])\n",
        "print(detail_link)\n",
        "\n"
      ],
      "execution_count": null,
      "outputs": [
        {
          "output_type": "stream",
          "name": "stdout",
          "text": [
            "['Dr. Achwal Suvarna', 'Dr. Agarwal Priyank', 'Dr. Aggarwal Supriya', 'Dr. Agnihotri Basant Kumar', 'Dr. Agrawal Arun Kumar', 'Dr. Agrawal Ashutosh', 'Dr. Agrawal Deepak', 'Dr. Agrawal Himanshu', 'Dr. Agrawal Nisha', 'Dr. Agrawal Shanu', 'Dr. Asati Pranav', 'Dr. Asrani Sumit', 'Dr. Baghel Satyendra Singh', 'Dr. Baghel Yadvendra Singh', 'Dr. Bansal Amardeep Singh']\n",
            "['http://www.drdata.in/drachwalbina', 'http://www.drdata.in/drpriyankagarwalbina', 'http://www.drdata.in/drsupriyaaggarwal', 'http://www.drdata.in/drbasantagnihotri', 'http://www.drdata.in/drarunagrawalrewa', 'http://www.drdata.in/drashutoshagrawal', 'http://www.drdata.in/drdeepakagrawal', 'http://www.drdata.in/drhimanshuagrawal', 'http://www.drdata.in/drnishaagrawalrewa', 'http://www.drdata.in/drshanuagrawal', 'http://www.drdata.in/pranavasati', 'http://www.drdata.in/asranisumit', 'http://www.drdata.in/drssbaghel', 'http://www.drdata.in/drysbaghelrewa', 'http://www.drdata.in/drasbansal']\n"
          ]
        }
      ]
    },
    {
      "cell_type": "code",
      "metadata": {
        "colab": {
          "base_uri": "https://localhost:8080/"
        },
        "id": "lLIqXQgOh6FK",
        "outputId": "c05b8b3a-2731-4355-e373-c85f7c9ab9f6"
      },
      "source": [
        "\n",
        "#spec\n",
        "\n",
        "spec_list=[]\n",
        "spec_tag= soup.find_all(\"td\",{\"data-title\":\"Special.\"})\n",
        "#len(spec_tag)\n",
        "for i in spec_tag:\n",
        "  spec_list.append(i.text.strip())\n",
        "print(spec_list)"
      ],
      "execution_count": null,
      "outputs": [
        {
          "output_type": "stream",
          "name": "stdout",
          "text": [
            "['Gynaecologist', 'Orthopaedic Surgeon', 'ENT Surgeon', 'Paediatrician', 'Ophthalmologist', 'Radiologist', 'Surgeon (MS General Surgery)', 'Ophthalmologist', 'Gynaecologist', 'Gynaecologist', 'Dental Surgeon', 'Dental Surgeon', 'AYUSH Doctor', 'ENT Surgeon', 'Gastro Surgeon']\n"
          ]
        }
      ]
    },
    {
      "cell_type": "code",
      "metadata": {
        "colab": {
          "base_uri": "https://localhost:8080/"
        },
        "id": "8c-EFZDgBDwl",
        "outputId": "d9f74896-f904-4b34-a703-eebf32f968e5"
      },
      "source": [
        "#degree\n",
        "\n",
        "degree_list =[]\n",
        "degree_tag= soup.find_all(\"td\",{\"data-title\":\"Degree\"})\n",
        "for i in degree_tag:\n",
        "  degree_list.append(i.text.strip())\n",
        "print(degree_list)\n",
        "len(degree_list)"
      ],
      "execution_count": null,
      "outputs": [
        {
          "output_type": "stream",
          "name": "stdout",
          "text": [
            "['MBBS, DGO', 'MBBS, MS (Ortho)', 'MBBS, DLO', 'MBBS, MD (Paediatrics)', 'MBBS, MS (Ophthalmology)', 'MBBS, DMRD', 'MBBS, MS (Gen. Surg.)', 'MBBS, MS (Ophthalmology)', 'MBBS, DGO', 'MBBS, DGO', 'BDS, MDS (Oral & Maxillofacial Surgery)', 'BDS, MDS (Oral & Maxillofacial Surgery)', 'DHB, BHMS, CSD', 'MBBS, DLO', 'MBBS, MS, FIAGES, Diploma in Minimal Access Surgery, FAIS']\n"
          ]
        },
        {
          "output_type": "execute_result",
          "data": {
            "text/plain": [
              "15"
            ]
          },
          "metadata": {},
          "execution_count": 34
        }
      ]
    },
    {
      "cell_type": "code",
      "metadata": {
        "colab": {
          "base_uri": "https://localhost:8080/"
        },
        "id": "W_VJSlSIBD9l",
        "outputId": "b53f6e03-e3e8-43e7-f8fe-336e9f34bf6b"
      },
      "source": [
        "#state\n",
        "\n",
        "state_list =[]\n",
        "state_tag= soup.find_all(\"td\",{\"data-title\":\"State\"})\n",
        "for i in state_tag:\n",
        "  state_list.append(i.text.strip())\n",
        "print(state_list)\n",
        "len(state_list)"
      ],
      "execution_count": null,
      "outputs": [
        {
          "output_type": "stream",
          "name": "stdout",
          "text": [
            "['Madhya Pradesh', 'Madhya Pradesh', 'Madhya Pradesh', 'Madhya Pradesh', 'Madhya Pradesh', 'Madhya Pradesh', 'Madhya Pradesh', 'Madhya Pradesh', 'Madhya Pradesh', 'Madhya Pradesh', 'Madhya Pradesh', 'Madhya Pradesh', 'Madhya Pradesh', 'Madhya Pradesh', 'Madhya Pradesh']\n"
          ]
        },
        {
          "output_type": "execute_result",
          "data": {
            "text/plain": [
              "15"
            ]
          },
          "metadata": {},
          "execution_count": 35
        }
      ]
    },
    {
      "cell_type": "code",
      "metadata": {
        "colab": {
          "base_uri": "https://localhost:8080/"
        },
        "id": "788MXo4lDZCr",
        "outputId": "cebb9d37-b5cb-4b2c-d689-7e00ad223ba9"
      },
      "source": [
        "doctors_name_1 , detail_link , spec_list, degree_list , state_list"
      ],
      "execution_count": null,
      "outputs": [
        {
          "output_type": "execute_result",
          "data": {
            "text/plain": [
              "(['Dr. Achwal Suvarna',\n",
              "  'Dr. Agarwal Priyank',\n",
              "  'Dr. Aggarwal Supriya',\n",
              "  'Dr. Agnihotri Basant Kumar',\n",
              "  'Dr. Agrawal Arun Kumar',\n",
              "  'Dr. Agrawal Ashutosh',\n",
              "  'Dr. Agrawal Deepak',\n",
              "  'Dr. Agrawal Himanshu',\n",
              "  'Dr. Agrawal Nisha',\n",
              "  'Dr. Agrawal Shanu',\n",
              "  'Dr. Asati Pranav',\n",
              "  'Dr. Asrani Sumit',\n",
              "  'Dr. Baghel Satyendra Singh',\n",
              "  'Dr. Baghel Yadvendra Singh',\n",
              "  'Dr. Bansal Amardeep Singh'],\n",
              " ['http://www.drdata.in/drachwalbina',\n",
              "  'http://www.drdata.in/drpriyankagarwalbina',\n",
              "  'http://www.drdata.in/drsupriyaaggarwal',\n",
              "  'http://www.drdata.in/drbasantagnihotri',\n",
              "  'http://www.drdata.in/drarunagrawalrewa',\n",
              "  'http://www.drdata.in/drashutoshagrawal',\n",
              "  'http://www.drdata.in/drdeepakagrawal',\n",
              "  'http://www.drdata.in/drhimanshuagrawal',\n",
              "  'http://www.drdata.in/drnishaagrawalrewa',\n",
              "  'http://www.drdata.in/drshanuagrawal',\n",
              "  'http://www.drdata.in/pranavasati',\n",
              "  'http://www.drdata.in/asranisumit',\n",
              "  'http://www.drdata.in/drssbaghel',\n",
              "  'http://www.drdata.in/drysbaghelrewa',\n",
              "  'http://www.drdata.in/drasbansal'],\n",
              " ['Gynaecologist',\n",
              "  'Orthopaedic Surgeon',\n",
              "  'ENT Surgeon',\n",
              "  'Paediatrician',\n",
              "  'Ophthalmologist',\n",
              "  'Radiologist',\n",
              "  'Surgeon (MS General Surgery)',\n",
              "  'Ophthalmologist',\n",
              "  'Gynaecologist',\n",
              "  'Gynaecologist',\n",
              "  'Dental Surgeon',\n",
              "  'Dental Surgeon',\n",
              "  'AYUSH Doctor',\n",
              "  'ENT Surgeon',\n",
              "  'Gastro Surgeon'],\n",
              " ['MBBS, DGO',\n",
              "  'MBBS, MS (Ortho)',\n",
              "  'MBBS, DLO',\n",
              "  'MBBS, MD (Paediatrics)',\n",
              "  'MBBS, MS (Ophthalmology)',\n",
              "  'MBBS, DMRD',\n",
              "  'MBBS, MS (Gen. Surg.)',\n",
              "  'MBBS, MS (Ophthalmology)',\n",
              "  'MBBS, DGO',\n",
              "  'MBBS, DGO',\n",
              "  'BDS, MDS (Oral & Maxillofacial Surgery)',\n",
              "  'BDS, MDS (Oral & Maxillofacial Surgery)',\n",
              "  'DHB, BHMS, CSD',\n",
              "  'MBBS, DLO',\n",
              "  'MBBS, MS, FIAGES, Diploma in Minimal Access Surgery, FAIS'],\n",
              " ['Madhya Pradesh',\n",
              "  'Madhya Pradesh',\n",
              "  'Madhya Pradesh',\n",
              "  'Madhya Pradesh',\n",
              "  'Madhya Pradesh',\n",
              "  'Madhya Pradesh',\n",
              "  'Madhya Pradesh',\n",
              "  'Madhya Pradesh',\n",
              "  'Madhya Pradesh',\n",
              "  'Madhya Pradesh',\n",
              "  'Madhya Pradesh',\n",
              "  'Madhya Pradesh',\n",
              "  'Madhya Pradesh',\n",
              "  'Madhya Pradesh',\n",
              "  'Madhya Pradesh'])"
            ]
          },
          "metadata": {},
          "execution_count": 36
        }
      ]
    },
    {
      "cell_type": "code",
      "metadata": {
        "colab": {
          "base_uri": "https://localhost:8080/"
        },
        "id": "E6mzY7B9BECG",
        "outputId": "b6bf8968-c769-472f-a03c-f86fd958bc68"
      },
      "source": [
        "dict={\n",
        "    \"doctorname\":doctors_name_1,\n",
        "    \"contact_detail_link\": detail_link ,\n",
        "    \"specialization\" : spec_list ,\n",
        "    \"degree\" : degree_list ,\n",
        "    \"state\" : state_list ,\n",
        "}\n",
        "\n",
        "dict\n",
        "\n",
        "\n"
      ],
      "execution_count": null,
      "outputs": [
        {
          "output_type": "execute_result",
          "data": {
            "text/plain": [
              "{'contact_detail_link': ['http://www.drdata.in/drachwalbina',\n",
              "  'http://www.drdata.in/drpriyankagarwalbina',\n",
              "  'http://www.drdata.in/drsupriyaaggarwal',\n",
              "  'http://www.drdata.in/drbasantagnihotri',\n",
              "  'http://www.drdata.in/drarunagrawalrewa',\n",
              "  'http://www.drdata.in/drashutoshagrawal',\n",
              "  'http://www.drdata.in/drdeepakagrawal',\n",
              "  'http://www.drdata.in/drhimanshuagrawal',\n",
              "  'http://www.drdata.in/drnishaagrawalrewa',\n",
              "  'http://www.drdata.in/drshanuagrawal',\n",
              "  'http://www.drdata.in/pranavasati',\n",
              "  'http://www.drdata.in/asranisumit',\n",
              "  'http://www.drdata.in/drssbaghel',\n",
              "  'http://www.drdata.in/drysbaghelrewa',\n",
              "  'http://www.drdata.in/drasbansal'],\n",
              " 'degree': ['MBBS, DGO',\n",
              "  'MBBS, MS (Ortho)',\n",
              "  'MBBS, DLO',\n",
              "  'MBBS, MD (Paediatrics)',\n",
              "  'MBBS, MS (Ophthalmology)',\n",
              "  'MBBS, DMRD',\n",
              "  'MBBS, MS (Gen. Surg.)',\n",
              "  'MBBS, MS (Ophthalmology)',\n",
              "  'MBBS, DGO',\n",
              "  'MBBS, DGO',\n",
              "  'BDS, MDS (Oral & Maxillofacial Surgery)',\n",
              "  'BDS, MDS (Oral & Maxillofacial Surgery)',\n",
              "  'DHB, BHMS, CSD',\n",
              "  'MBBS, DLO',\n",
              "  'MBBS, MS, FIAGES, Diploma in Minimal Access Surgery, FAIS'],\n",
              " 'doctorname': ['Dr. Achwal Suvarna',\n",
              "  'Dr. Agarwal Priyank',\n",
              "  'Dr. Aggarwal Supriya',\n",
              "  'Dr. Agnihotri Basant Kumar',\n",
              "  'Dr. Agrawal Arun Kumar',\n",
              "  'Dr. Agrawal Ashutosh',\n",
              "  'Dr. Agrawal Deepak',\n",
              "  'Dr. Agrawal Himanshu',\n",
              "  'Dr. Agrawal Nisha',\n",
              "  'Dr. Agrawal Shanu',\n",
              "  'Dr. Asati Pranav',\n",
              "  'Dr. Asrani Sumit',\n",
              "  'Dr. Baghel Satyendra Singh',\n",
              "  'Dr. Baghel Yadvendra Singh',\n",
              "  'Dr. Bansal Amardeep Singh'],\n",
              " 'specialization': ['Gynaecologist',\n",
              "  'Orthopaedic Surgeon',\n",
              "  'ENT Surgeon',\n",
              "  'Paediatrician',\n",
              "  'Ophthalmologist',\n",
              "  'Radiologist',\n",
              "  'Surgeon (MS General Surgery)',\n",
              "  'Ophthalmologist',\n",
              "  'Gynaecologist',\n",
              "  'Gynaecologist',\n",
              "  'Dental Surgeon',\n",
              "  'Dental Surgeon',\n",
              "  'AYUSH Doctor',\n",
              "  'ENT Surgeon',\n",
              "  'Gastro Surgeon'],\n",
              " 'state': ['Madhya Pradesh',\n",
              "  'Madhya Pradesh',\n",
              "  'Madhya Pradesh',\n",
              "  'Madhya Pradesh',\n",
              "  'Madhya Pradesh',\n",
              "  'Madhya Pradesh',\n",
              "  'Madhya Pradesh',\n",
              "  'Madhya Pradesh',\n",
              "  'Madhya Pradesh',\n",
              "  'Madhya Pradesh',\n",
              "  'Madhya Pradesh',\n",
              "  'Madhya Pradesh',\n",
              "  'Madhya Pradesh',\n",
              "  'Madhya Pradesh',\n",
              "  'Madhya Pradesh']}"
            ]
          },
          "metadata": {},
          "execution_count": 37
        }
      ]
    },
    {
      "cell_type": "code",
      "metadata": {
        "colab": {
          "base_uri": "https://localhost:8080/",
          "height": 78
        },
        "id": "3NNpzTpiDroc",
        "outputId": "0573f73e-2676-43bf-f4cc-21edc2668f9b"
      },
      "source": [
        "df_new=pd.DataFrame(dict)\n",
        "df_new.head(1)"
      ],
      "execution_count": null,
      "outputs": [
        {
          "output_type": "execute_result",
          "data": {
            "text/html": [
              "<div>\n",
              "<style scoped>\n",
              "    .dataframe tbody tr th:only-of-type {\n",
              "        vertical-align: middle;\n",
              "    }\n",
              "\n",
              "    .dataframe tbody tr th {\n",
              "        vertical-align: top;\n",
              "    }\n",
              "\n",
              "    .dataframe thead th {\n",
              "        text-align: right;\n",
              "    }\n",
              "</style>\n",
              "<table border=\"1\" class=\"dataframe\">\n",
              "  <thead>\n",
              "    <tr style=\"text-align: right;\">\n",
              "      <th></th>\n",
              "      <th>doctorname</th>\n",
              "      <th>contact_detail_link</th>\n",
              "      <th>specialization</th>\n",
              "      <th>degree</th>\n",
              "      <th>state</th>\n",
              "    </tr>\n",
              "  </thead>\n",
              "  <tbody>\n",
              "    <tr>\n",
              "      <th>0</th>\n",
              "      <td>Dr. Achwal Suvarna</td>\n",
              "      <td>http://www.drdata.in/drachwalbina</td>\n",
              "      <td>Gynaecologist</td>\n",
              "      <td>MBBS, DGO</td>\n",
              "      <td>Madhya Pradesh</td>\n",
              "    </tr>\n",
              "  </tbody>\n",
              "</table>\n",
              "</div>"
            ],
            "text/plain": [
              "           doctorname  ...           state\n",
              "0  Dr. Achwal Suvarna  ...  Madhya Pradesh\n",
              "\n",
              "[1 rows x 5 columns]"
            ]
          },
          "metadata": {},
          "execution_count": 38
        }
      ]
    },
    {
      "cell_type": "markdown",
      "metadata": {
        "id": "4jv7-BBTEes8"
      },
      "source": [
        "# **foir multiple pages **"
      ]
    },
    {
      "cell_type": "code",
      "metadata": {
        "id": "6ReKTtieBEHo"
      },
      "source": [
        ""
      ],
      "execution_count": null,
      "outputs": []
    },
    {
      "cell_type": "code",
      "metadata": {
        "id": "RrL4yhjvh1e2"
      },
      "source": [
        "from time import sleep\n",
        "from random import randint"
      ],
      "execution_count": null,
      "outputs": []
    },
    {
      "cell_type": "code",
      "metadata": {
        "id": "PxNm4iZvh0q7"
      },
      "source": [
        "def get_doctors_info(n):\n",
        "\n",
        "  doc_url=\"https://www.drdata.in/list-doctors.php?search=Doctor&page=\" +str(n)\n",
        "  response=requests.get(doc_url)\n",
        "  soup=BeautifulSoup(page_content_1,\"html.parser\")\n",
        "  \n",
        "  # for doctor name list\n",
        "  doctor_name_tag=soup.find_all(\"td\",{\"data-title\":\"Name\"})\n",
        "  doctors_name_1=[]\n",
        "  for i in doctor_name_tag[0:15]:\n",
        "    doctors_name_1.append(i.text.strip())\n",
        "   \n",
        "  # link \n",
        "  detail_tag= soup.find_all(\"td\",{\"data-title\":\"Details\"})\n",
        "  detail_link=[]\n",
        "  for i in detail_tag[0:15]:\n",
        "    detail_link_url=i.find_all(\"a\")\n",
        "    for j in detail_link_url[0:15]:\n",
        "      detail_link.append(\"http://www.drdata.in/\" + j[\"href\"])\n",
        "  print(detail_link)\n",
        "  \n",
        "  #spec\n",
        "  spec_list=[]\n",
        "  spec_tag= soup.find_all(\"td\",{\"data-title\":\"Special.\"})\n",
        "  for i in spec_tag[0:15]:\n",
        "    spec_list.append(i.text.strip())\n",
        "  \n",
        "  #degree\n",
        "  degree_list =[]\n",
        "  degree_tag= soup.find_all(\"td\",{\"data-title\":\"Degree\"})\n",
        "  for i in degree_tag[0:15]:\n",
        "    degree_list.append(i.text.strip())\n",
        "  \n",
        "  #state\n",
        "  state_list =[]\n",
        "  state_tag= soup.find_all(\"td\",{\"data-title\":\"State\"})\n",
        "  for i in state_tag[0:15]:\n",
        "    state_list.append(i.text.strip())\n",
        "  return doctors_name_1 ,detail_link , spec_list , degree_list ,state_list\n",
        "\n",
        "\n"
      ],
      "execution_count": null,
      "outputs": []
    },
    {
      "cell_type": "code",
      "metadata": {
        "colab": {
          "base_uri": "https://localhost:8080/"
        },
        "id": "mbVcUarChyuU",
        "outputId": "049c0f70-161b-461e-ba9c-e2768789ba10"
      },
      "source": [
        "get_doctors_info(2)"
      ],
      "execution_count": null,
      "outputs": [
        {
          "output_type": "stream",
          "name": "stdout",
          "text": [
            "['http://www.drdata.in/drachwalbina', 'http://www.drdata.in/drpriyankagarwalbina', 'http://www.drdata.in/drsupriyaaggarwal', 'http://www.drdata.in/drbasantagnihotri', 'http://www.drdata.in/drarunagrawalrewa', 'http://www.drdata.in/drashutoshagrawal', 'http://www.drdata.in/drdeepakagrawal', 'http://www.drdata.in/drhimanshuagrawal', 'http://www.drdata.in/drnishaagrawalrewa', 'http://www.drdata.in/drshanuagrawal', 'http://www.drdata.in/pranavasati', 'http://www.drdata.in/asranisumit', 'http://www.drdata.in/drssbaghel', 'http://www.drdata.in/drysbaghelrewa', 'http://www.drdata.in/drasbansal']\n"
          ]
        },
        {
          "output_type": "execute_result",
          "data": {
            "text/plain": [
              "(['Dr. Achwal Suvarna',\n",
              "  'Dr. Agarwal Priyank',\n",
              "  'Dr. Aggarwal Supriya',\n",
              "  'Dr. Agnihotri Basant Kumar',\n",
              "  'Dr. Agrawal Arun Kumar',\n",
              "  'Dr. Agrawal Ashutosh',\n",
              "  'Dr. Agrawal Deepak',\n",
              "  'Dr. Agrawal Himanshu',\n",
              "  'Dr. Agrawal Nisha',\n",
              "  'Dr. Agrawal Shanu',\n",
              "  'Dr. Asati Pranav',\n",
              "  'Dr. Asrani Sumit',\n",
              "  'Dr. Baghel Satyendra Singh',\n",
              "  'Dr. Baghel Yadvendra Singh',\n",
              "  'Dr. Bansal Amardeep Singh'],\n",
              " ['http://www.drdata.in/drachwalbina',\n",
              "  'http://www.drdata.in/drpriyankagarwalbina',\n",
              "  'http://www.drdata.in/drsupriyaaggarwal',\n",
              "  'http://www.drdata.in/drbasantagnihotri',\n",
              "  'http://www.drdata.in/drarunagrawalrewa',\n",
              "  'http://www.drdata.in/drashutoshagrawal',\n",
              "  'http://www.drdata.in/drdeepakagrawal',\n",
              "  'http://www.drdata.in/drhimanshuagrawal',\n",
              "  'http://www.drdata.in/drnishaagrawalrewa',\n",
              "  'http://www.drdata.in/drshanuagrawal',\n",
              "  'http://www.drdata.in/pranavasati',\n",
              "  'http://www.drdata.in/asranisumit',\n",
              "  'http://www.drdata.in/drssbaghel',\n",
              "  'http://www.drdata.in/drysbaghelrewa',\n",
              "  'http://www.drdata.in/drasbansal'],\n",
              " ['Gynaecologist',\n",
              "  'Orthopaedic Surgeon',\n",
              "  'ENT Surgeon',\n",
              "  'Paediatrician',\n",
              "  'Ophthalmologist',\n",
              "  'Radiologist',\n",
              "  'Surgeon (MS General Surgery)',\n",
              "  'Ophthalmologist',\n",
              "  'Gynaecologist',\n",
              "  'Gynaecologist',\n",
              "  'Dental Surgeon',\n",
              "  'Dental Surgeon',\n",
              "  'AYUSH Doctor',\n",
              "  'ENT Surgeon',\n",
              "  'Gastro Surgeon'],\n",
              " ['MBBS, DGO',\n",
              "  'MBBS, MS (Ortho)',\n",
              "  'MBBS, DLO',\n",
              "  'MBBS, MD (Paediatrics)',\n",
              "  'MBBS, MS (Ophthalmology)',\n",
              "  'MBBS, DMRD',\n",
              "  'MBBS, MS (Gen. Surg.)',\n",
              "  'MBBS, MS (Ophthalmology)',\n",
              "  'MBBS, DGO',\n",
              "  'MBBS, DGO',\n",
              "  'BDS, MDS (Oral & Maxillofacial Surgery)',\n",
              "  'BDS, MDS (Oral & Maxillofacial Surgery)',\n",
              "  'DHB, BHMS, CSD',\n",
              "  'MBBS, DLO',\n",
              "  'MBBS, MS, FIAGES, Diploma in Minimal Access Surgery, FAIS'],\n",
              " ['Madhya Pradesh',\n",
              "  'Madhya Pradesh',\n",
              "  'Madhya Pradesh',\n",
              "  'Madhya Pradesh',\n",
              "  'Madhya Pradesh',\n",
              "  'Madhya Pradesh',\n",
              "  'Madhya Pradesh',\n",
              "  'Madhya Pradesh',\n",
              "  'Madhya Pradesh',\n",
              "  'Madhya Pradesh',\n",
              "  'Madhya Pradesh',\n",
              "  'Madhya Pradesh',\n",
              "  'Madhya Pradesh',\n",
              "  'Madhya Pradesh',\n",
              "  'Madhya Pradesh'])"
            ]
          },
          "metadata": {},
          "execution_count": 41
        }
      ]
    },
    {
      "cell_type": "code",
      "metadata": {
        "id": "DG7Sq0lAhzDZ"
      },
      "source": [
        ""
      ],
      "execution_count": null,
      "outputs": []
    },
    {
      "cell_type": "code",
      "metadata": {
        "id": "b3iNhySshzG9"
      },
      "source": [
        ""
      ],
      "execution_count": null,
      "outputs": []
    },
    {
      "cell_type": "code",
      "metadata": {
        "id": "b5ewCjGWhzMc"
      },
      "source": [
        ""
      ],
      "execution_count": null,
      "outputs": []
    },
    {
      "cell_type": "code",
      "metadata": {
        "id": "dm3ICS9shzRr"
      },
      "source": [
        ""
      ],
      "execution_count": null,
      "outputs": []
    },
    {
      "cell_type": "code",
      "metadata": {
        "id": "bl_Bv0KrhzV7"
      },
      "source": [
        ""
      ],
      "execution_count": null,
      "outputs": []
    },
    {
      "cell_type": "markdown",
      "metadata": {
        "id": "2qhftLAJTSIt"
      },
      "source": [
        "# **Getting out conatct details for these doctors **"
      ]
    },
    {
      "cell_type": "code",
      "metadata": {
        "id": "2U-aOXLPMfcT"
      },
      "source": [
        "doc_url=detail_link[0]"
      ],
      "execution_count": null,
      "outputs": []
    },
    {
      "cell_type": "code",
      "metadata": {
        "id": "6pbFjDIBMffA",
        "colab": {
          "base_uri": "https://localhost:8080/",
          "height": 35
        },
        "outputId": "f122fdb1-b1f3-4cf6-d50e-59786e7bac42"
      },
      "source": [
        "doc_url #https://www.drdata.in/drachwalbina"
      ],
      "execution_count": null,
      "outputs": [
        {
          "output_type": "execute_result",
          "data": {
            "application/vnd.google.colaboratory.intrinsic+json": {
              "type": "string"
            },
            "text/plain": [
              "'http://www.drdata.in/drachwalbina'"
            ]
          },
          "metadata": {},
          "execution_count": 43
        }
      ]
    },
    {
      "cell_type": "code",
      "metadata": {
        "id": "bicp1VJjPn-z"
      },
      "source": [
        ""
      ],
      "execution_count": null,
      "outputs": []
    },
    {
      "cell_type": "code",
      "metadata": {
        "id": "9zq3l--XPoCH"
      },
      "source": [
        ""
      ],
      "execution_count": null,
      "outputs": []
    },
    {
      "cell_type": "code",
      "metadata": {
        "id": "GTrOsOfvPoHn"
      },
      "source": [
        ""
      ],
      "execution_count": null,
      "outputs": []
    },
    {
      "cell_type": "code",
      "metadata": {
        "id": "Y46T-cZuPoNU"
      },
      "source": [
        ""
      ],
      "execution_count": null,
      "outputs": []
    },
    {
      "cell_type": "code",
      "metadata": {
        "id": "2dAJfKFMMfiU"
      },
      "source": [
        "r=requests.get(doc_url)"
      ],
      "execution_count": null,
      "outputs": []
    },
    {
      "cell_type": "markdown",
      "metadata": {
        "id": "CB5mA-YnjFCu"
      },
      "source": [
        ""
      ]
    },
    {
      "cell_type": "code",
      "metadata": {
        "colab": {
          "base_uri": "https://localhost:8080/"
        },
        "id": "-f3ubCTVjHe1",
        "outputId": "f69a7222-3f7a-489a-92e9-285eb1a55308"
      },
      "source": [
        "\"07580-223076\" in r.text"
      ],
      "execution_count": null,
      "outputs": [
        {
          "output_type": "execute_result",
          "data": {
            "text/plain": [
              "True"
            ]
          },
          "metadata": {},
          "execution_count": 45
        }
      ]
    },
    {
      "cell_type": "code",
      "metadata": {
        "id": "ZPCRLARWj4CX"
      },
      "source": [
        "#print(r.text)"
      ],
      "execution_count": null,
      "outputs": []
    },
    {
      "cell_type": "code",
      "metadata": {
        "id": "CTmUkC5bjn0X"
      },
      "source": [
        "import re"
      ],
      "execution_count": null,
      "outputs": []
    },
    {
      "cell_type": "code",
      "metadata": {
        "colab": {
          "base_uri": "https://localhost:8080/"
        },
        "id": "e52vEhAgjr7e",
        "outputId": "80a43e07-ea65-45cd-b3f7-37115c4029c8"
      },
      "source": [
        "match = re.search(\"Phone Number</strong></td> <td>(\\d+)-(\\d+)\",r.text)\n",
        "match\n"
      ],
      "execution_count": null,
      "outputs": [
        {
          "output_type": "execute_result",
          "data": {
            "text/plain": [
              "<re.Match object; span=(15544, 15587), match='Phone Number</strong></td> <td>07580-223076'>"
            ]
          },
          "metadata": {},
          "execution_count": 48
        }
      ]
    },
    {
      "cell_type": "code",
      "metadata": {
        "colab": {
          "base_uri": "https://localhost:8080/",
          "height": 35
        },
        "id": "NAIFNZyHmn3r",
        "outputId": "f88942c4-1c17-44c7-e4c9-845d43f734df"
      },
      "source": [
        "match.group(0)\n"
      ],
      "execution_count": null,
      "outputs": [
        {
          "output_type": "execute_result",
          "data": {
            "application/vnd.google.colaboratory.intrinsic+json": {
              "type": "string"
            },
            "text/plain": [
              "'Phone Number</strong></td> <td>07580-223076'"
            ]
          },
          "metadata": {},
          "execution_count": 49
        }
      ]
    },
    {
      "cell_type": "code",
      "metadata": {
        "colab": {
          "base_uri": "https://localhost:8080/",
          "height": 35
        },
        "id": "KkV3al_mN3H2",
        "outputId": "c3b39685-5108-40e9-f113-18583b7c03db"
      },
      "source": [
        "a=str(match.group(1))\n",
        "a"
      ],
      "execution_count": null,
      "outputs": [
        {
          "output_type": "execute_result",
          "data": {
            "application/vnd.google.colaboratory.intrinsic+json": {
              "type": "string"
            },
            "text/plain": [
              "'07580'"
            ]
          },
          "metadata": {},
          "execution_count": 50
        }
      ]
    },
    {
      "cell_type": "code",
      "metadata": {
        "colab": {
          "base_uri": "https://localhost:8080/",
          "height": 35
        },
        "id": "QpqSheV1N3FK",
        "outputId": "fcc4f022-cb49-49e5-b7d4-69f2b5f13576"
      },
      "source": [
        "b=str(match.group(2))\n",
        "b"
      ],
      "execution_count": null,
      "outputs": [
        {
          "output_type": "execute_result",
          "data": {
            "application/vnd.google.colaboratory.intrinsic+json": {
              "type": "string"
            },
            "text/plain": [
              "'223076'"
            ]
          },
          "metadata": {},
          "execution_count": 51
        }
      ]
    },
    {
      "cell_type": "code",
      "metadata": {
        "colab": {
          "base_uri": "https://localhost:8080/",
          "height": 35
        },
        "id": "W4BP0fzHN3B8",
        "outputId": "3bbdefd9-83f7-482d-fab7-ccc1cbb20251"
      },
      "source": [
        "a+b"
      ],
      "execution_count": null,
      "outputs": [
        {
          "output_type": "execute_result",
          "data": {
            "application/vnd.google.colaboratory.intrinsic+json": {
              "type": "string"
            },
            "text/plain": [
              "'07580223076'"
            ]
          },
          "metadata": {},
          "execution_count": 52
        }
      ]
    },
    {
      "cell_type": "code",
      "metadata": {
        "id": "7dr3QGcMN2-j"
      },
      "source": [
        ""
      ],
      "execution_count": null,
      "outputs": []
    },
    {
      "cell_type": "code",
      "metadata": {
        "id": "vN3M_PzvN26i"
      },
      "source": [
        ""
      ],
      "execution_count": null,
      "outputs": []
    },
    {
      "cell_type": "code",
      "metadata": {
        "id": "u2NhaKoQN23Q"
      },
      "source": [
        ""
      ],
      "execution_count": null,
      "outputs": []
    },
    {
      "cell_type": "code",
      "metadata": {
        "id": "LnRkJCiBN2zH"
      },
      "source": [
        ""
      ],
      "execution_count": null,
      "outputs": []
    },
    {
      "cell_type": "code",
      "metadata": {
        "id": "4O38N59BN2vt"
      },
      "source": [
        ""
      ],
      "execution_count": null,
      "outputs": []
    },
    {
      "cell_type": "code",
      "metadata": {
        "id": "-tPJEAWWMflL",
        "colab": {
          "base_uri": "https://localhost:8080/"
        },
        "outputId": "270e4dfc-bb6e-4188-b94a-518b6bbe2815"
      },
      "source": [
        "r.status_code"
      ],
      "execution_count": null,
      "outputs": [
        {
          "output_type": "execute_result",
          "data": {
            "text/plain": [
              "200"
            ]
          },
          "metadata": {},
          "execution_count": 53
        }
      ]
    },
    {
      "cell_type": "code",
      "metadata": {
        "colab": {
          "base_uri": "https://localhost:8080/"
        },
        "id": "pQj9Krj6UnHp",
        "outputId": "43a591ce-141b-44f7-c00c-99857b4ecc21"
      },
      "source": [
        "len(r.text)"
      ],
      "execution_count": null,
      "outputs": [
        {
          "output_type": "execute_result",
          "data": {
            "text/plain": [
              "98483"
            ]
          },
          "metadata": {},
          "execution_count": 54
        }
      ]
    },
    {
      "cell_type": "code",
      "metadata": {
        "id": "0KeJZnAnMfoM"
      },
      "source": [
        "soup1=BeautifulSoup(r.text , \"html.parser\")"
      ],
      "execution_count": null,
      "outputs": []
    },
    {
      "cell_type": "code",
      "metadata": {
        "id": "k32OFAZmMfs5",
        "colab": {
          "base_uri": "https://localhost:8080/"
        },
        "outputId": "e5f0f03f-6aa7-486b-aa3f-140a05b38ac1"
      },
      "source": [
        "len(soup1)"
      ],
      "execution_count": null,
      "outputs": [
        {
          "output_type": "execute_result",
          "data": {
            "text/plain": [
              "5"
            ]
          },
          "metadata": {},
          "execution_count": 56
        }
      ]
    },
    {
      "cell_type": "code",
      "metadata": {
        "colab": {
          "base_uri": "https://localhost:8080/"
        },
        "id": "wAcA8QAvbKfa",
        "outputId": "54c9773e-d998-4637-e7f6-148735f8bfc9"
      },
      "source": [
        "soup1"
      ],
      "execution_count": null,
      "outputs": [
        {
          "output_type": "execute_result",
          "data": {
            "text/plain": [
              "\n",
              "<!DOCTYPE html>\n",
              "\n",
              "<html lang=\"en\">\n",
              "<head>\n",
              "<script async=\"\" src=\"https://www.googletagmanager.com/gtag/js?id=UA-61981285-1\"></script><script>var _$_48c7=[\"dataLayer\",\"push\",\"js\",\"config\",\"UA-61981285-1\"];window[_$_48c7[0]]= window[_$_48c7[0]]|| [];function gtag(){dataLayer[_$_48c7[1]](arguments)}gtag(_$_48c7[2], new Date());gtag(_$_48c7[3],_$_48c7[4])</script><script>(function(i,s,o,g,r,a,m){i['GoogleAnalyticsObject']=r;i[r]=i[r]||function(){\n",
              "(i[r].q=i[r].q||[]).push(arguments)},i[r].l=1*new Date();a=s.createElement(o),\n",
              "m=s.getElementsByTagName(o)[0];a.async=1;a.src=g;m.parentNode.insertBefore(a,m)\n",
              "})(window,document,'script','https://www.google-analytics.com/analytics.js','ga');\n",
              "ga('create', 'UA-61981285-1', 'auto');\n",
              "ga('send', 'pageview');</script><meta charset=\"utf-8\"/><meta content=\"IE=edge\" http-equiv=\"X-UA-Compatible\"/><meta content=\"width=device-width, initial-scale=1\" name=\"viewport\"/><meta content=\"DrData\" name=\"author\"/><meta content=\"global\" name=\"distribution\"/><meta content=\"index, follow\" name=\"robots\"/><meta content=\"DrData\" name=\"publisher\"/><meta content=\"&amp;copy; 2017 by DrData, DDirect Communicare Private Limited\" name=\"copyright\"/><meta content=\"general\" name=\"rating\"/><link href=\"img/drdata-small-logo.png\" rel=\"shortcut icon\" title=\"DrData\" type=\"image/x-icon\"/><link href=\"https://plus.google.com/+DrdataIndoctordirectoryindia\" rel=\"publisher\"/><meta content=\"dGLN4pCg1vl4yQPkh3VPUGWH1jfsTIvEDOJDcWLzRpw\" name=\"google-site-verification\"><link href=\"https://www.drdata.in/drachwalbina\" rel=\"canonical\"/><link href=\"https://www.drdata.in/drachwalbina\" hreflang=\"en\" rel=\"alternate\"><link href=\"https://www.drdata.in/drachwalbina\" hreflang=\"en-in\" rel=\"alternate\"><link href=\"https://www.drdata.in/drachwalbina\" hreflang=\"en-au\" rel=\"alternate\"><link href=\"https://www.drdata.in/drachwalbina\" hreflang=\"en-us\" rel=\"alternate\"/><link href=\"https://www.drdata.in/drachwalbina\" hreflang=\"en-gb\" rel=\"alternate\"/><link href=\"https://www.drdata.in/drachwalbina\" hreflang=\"en-ca\" rel=\"alternate\"/><link href=\"https://www.drdata.in/drachwalbina\" hreflang=\"en-nl\" rel=\"alternate\"/><link href=\"https://www.drdata.in/drachwalbina\" hreflang=\"en-nz\" rel=\"alternate\"/><link href=\"https://www.drdata.in/drachwalbina\" hreflang=\"en-no\" rel=\"alternate\"/><link href=\"https://www.drdata.in/drachwalbina\" hreflang=\"en-ae\" rel=\"alternate\"/><link href=\"https://www.drdata.in/drachwalbina\" hreflang=\"en-sa\" rel=\"alternate\"/><link href=\"https://www.drdata.in/drachwalbina\" hreflang=\"en-ie\" rel=\"alternate\"/><meta content=\"Dr. Suvarna Achwal Contact Details, Gynaecologist, Bina, Sagar, Best Nursing Home in Bina, Sagar, Best Feminine Care in Bina, Doctor\" name=\"classification\"/><title>Dr. Suvarna Achwal, Best Gynaecologist in Sagar, Bina - DrData</title><meta content=\"Dr. Suvarna Achwal Contact Details, Best Gynaecologist in Sagar, Bina, Obstetrics and Gynaecology, Best Nursing Home in Bina, Sagar, Best Feminine Care in Bina\" name=\"description\"/><meta content=\"Dr. Suvarna Achwal Contact Details, Best Gynaecologist, Sagar, Bina, Best Nursing Home in Bina, Sagar, Best Feminine Care in Bina, DrData\" name=\"keywords\"/> <meta content=\"google89b84e9a1b27ae66.html\" name=\"google-site-verification\"><meta content=\"2fc435d0b65dec50a3ae6b903060effc\" name=\"p:domain_verify\"><meta content=\"5C9FD481087036FAEEA9A2C52F969F87\" name=\"msvalidate.01\"><meta content=\"FaZigFPR9SlJXx-RblhptsF4uUg\" name=\"alexaVerifyID\"><meta content=\"en_US\" property=\"og:locale\"/><meta content=\"Dr. Suvarna Achwal Contact Details Website - DrData\" property=\"og:site_name\"><meta content=\"website\" property=\"og:type\"><meta content=\"https://www.drdata.in/drachwalbina\" property=\"og:url\"><meta content=\"Best Gynaecologist in Sagar, Dr. Suvarna Achwal - DrData\" property=\"og:title\"><meta content=\"https://www.drdata.in/profile_pictute/doc_17172.jpg\" property=\"og:image\"><meta content=\"Dr. Suvarna Achwal, Sagar\" property=\"og:image:alt\"><meta content=\"1130980740319547\" property=\"fb:app_id\"><meta content=\"Dr. Suvarna Achwal Contact Details, Best Gynaecologist in Sagar, Bina, Obstetrics and Gynaecology, Best Nursing Home in Bina, Sagar, Best Feminine Care in Bina\" property=\"og:description\"><meta content=\"summary\" name=\"twitter:card\"/><meta content=\"@drdata_in\" name=\"twitter:site\"><meta content=\"https://www.drdata.in/drachwalbina\" name=\"twitter:url\"/><meta content=\"Best Gynaecologist in Sagar, Dr. Suvarna Achwal - DrData\" name=\"twitter:title\"/><meta content=\"https://www.drdata.in/profile_pictute/doc_17172.jpg\" name=\"twitter:image\"/><meta content=\"Dr. Suvarna Achwal, Sagar\" name=\"twitter:image:alt\"/><meta content=\"Dr. Suvarna Achwal Contact Details, Best Gynaecologist in Sagar, Bina, Obstetrics and Gynaecology, Best Nursing Home in Bina, Sagar, Best Feminine Care in Bina\" name=\"twitter:description\"/> <script type=\"application/ld+json\">{ \"@context\": \"http://schema.org\", \"@type\": \"WebSite\", \"name\": \"Best Gynaecologist in Sagar, Dr. Suvarna Achwal - DrData\", \"description\": \"Dr. Suvarna Achwal Contact Details, Best Gynaecologist in Sagar, Bina, Obstetrics and Gynaecology, Best Nursing Home in Bina, Sagar, Best Feminine Care in Bina\", \"url\":\"https:\\/\\/https://www.drdata.in/drachwalbina\\/\", \"image\": \"https://www.drdata.in/profile_pictute/doc_17172.jpg\", \"sameAs\" : [ \"https://www.facebook.com/drdata.in\", \"https://twitter.com/drdata_in\", \"https://plus.google.com/+DrdataIndoctordirectoryindia\" ] }</script><link href=\"css/chns.css\" rel=\"stylesheet\"/><link href=\"css/chns.min.css\" rel=\"stylesheet\"/> <script type=\"text/javascript\">var message=\"\";function clickIE(){if(document.all){(message);return!1}}\n",
              "function clickNS(e){if(document.layers||(document.getElementById&&!document.all)){if(e.which==2||e.which==3){(message);return!1}}}\n",
              "if(document.layers)\n",
              "{document.captureEvents(Event.MOUSEDOWN);document.onmousedown=clickNS}\n",
              "else{document.onmouseup=clickNS;document.oncontextmenu=clickIE}\n",
              "document.oncontextmenu=new Function(\"return false\")\n",
              "function disSel(target){if(typeof target.onselectstart!=\"undefined\")\n",
              "target.onselectstart=function(){return!1}\n",
              "else if(typeof target.style.MozUserSelect!=\"undefined\")\n",
              "target.style.MozUserSelect=\"none\"\n",
              "else target.onmousedown=function(){return!1}\n",
              "target.style.cursor=\"default\"}</script><script type=\"text/javascript\">window.onload=function(){document.body.onselectstart=function(){return!1}\n",
              "document.body.ondragstart=function(){return!1}}</script><script type=\"text/javascript\">\n",
              "function make_blank()\n",
              "{document.form1.type.value=\"\"}</script><script async=\"\" src=\"//pagead2.googlesyndication.com/pagead/js/adsbygoogle.js\"></script><script> (adsbygoogle = window.adsbygoogle || []).push({ google_ad_client: \"ca-pub-5620942351678176\", enable_page_level_ads: true });</script><script async=\"\" src=\"https://www.googletagmanager.com/gtag/js?id=UA-61981285-1\"></script><script>var _$_48c7=[\"dataLayer\",\"push\",\"js\",\"config\",\"UA-61981285-1\"];window[_$_48c7[0]]= window[_$_48c7[0]]|| [];function gtag(){dataLayer[_$_48c7[1]](arguments)}gtag(_$_48c7[2], new Date());gtag(_$_48c7[3],_$_48c7[4])</script></meta></meta></meta></meta></meta></meta></meta></meta></meta></meta></meta></meta></meta></link></link></link></meta></head><body><script type=\"text/javascript\">var _gaq=_gaq||[];_gaq.push(['_setAccount','UA-61981285-1']);_gaq.push(['_trackPageview']);(function(){var ga=document.createElement('script');ga.type='text/javascript';ga.async=!0;ga.src=('https:'==document.location.protocol?'https://ssl':'http://www')+'.google-analytics.com/ga.js';var s=document.getElementsByTagName('script')[0];s.parentNode.insertBefore(ga,s)})()</script><script>window.fbAsyncInit=function(){FB.init({appId:'1130980740319547',xfbml:!0,version:'v2.10'});FB.AppEvents.logPageView()};(function(d,s,id){var js,fjs=d.getElementsByTagName(s)[0];if(d.getElementById(id)){return}\n",
              "js=d.createElement(s);js.id=id;js.src=\"//connect.facebook.net/en_US/sdk.js\";fjs.parentNode.insertBefore(js,fjs)}(document,'script','facebook-jssdk'))</script><noscript><iframe height=\"0\" src=\"https://www.googletagmanager.com/ns.html?id=GTM-M7BKMF\" style=\"display:none;visibility:hidden\" width=\"0\"></iframe></noscript> <div> <div class=\"col-md-12\" style=\"margin-top:0px; margin-bottom:25px;background:#666666;border-bottom:1px solid #dcdcdc\"> <strong style=\"color:#F6FF03;\"> <marquee behavior=\"scroll\" direction=\"left\" onmouseout=\"this.start();\" onmouseover=\"this.stop();\" scrollamount=\"5\"> <p class=\"list-group-item-text\" style=\"margin-top:10px;margin-bottom:5px\">Dr. Suvarna Achwal, Obstetrician &amp; Gynaecologist, Achwal Clinic and Maternity Home, Itawa Bazar, Garhi, Bina, District Sagar (M.P.)</p></marquee></strong> </div> <div class=\"container\"> <div class=\"row\"> <div class=\"col-lg-12\" style=\"margin-top:-20px;\"> <div class=\"col-lg-5 pull-left visible-lg visible-md visible-sm\"> <h1 class=\"list-group-item-heading\">Dr. Suvarna Achwal</h1> <button class=\"btn btn-success\" type=\"button\">[✔] Verified Profile</button><p><div class=\"addthis_inline_share_toolbox\" style=\"width:160px;float:left;padding:0;margin:0\"></div></p> </div> <div class=\"col-lg-7 pull-right visible-lg visible-md pull right\"><script async=\"\" src=\"//pagead2.googlesyndication.com/pagead/js/adsbygoogle.js\"></script> <ins class=\"adsbygoogle\" data-ad-client=\"ca-pub-5620942351678176\" data-ad-format=\"fluid\" data-ad-layout=\"in-article\" data-ad-slot=\"3402143609\" style=\"display:block; text-align:center;\"></ins><script> (adsbygoogle = window.adsbygoogle || []).push({});</script></div> <div align=\"center\" class=\"col-lg-3 pull-center visible-xs\"> <h2 class=\"list-group-item-heading\">Dr. Suvarna Achwal</h2> <button class=\"btn btn-success\" type=\"button\">[✔] Verified Profile</button> <p><div class=\"addthis_inline_share_toolbox\" style=\"width:160px;float:center;padding:0;margin:0\"></div></p> </div> </div> <div style=\"margin-bottom:20px; margin-top:-20px;\"></div> <div class=\"clearfix\"></div> <div class=\"col-md-3\"> <div class=\"thumbnail\"> <img alt=\"Profile Picture of Dr. Suvarna Achwal, Sagar, Bina © DrData\" class=\"border_profile\" src=\"profile_pictute/doc_17172.jpg\" title=\"Profile Picture of Dr. Suvarna Achwal\"/> </div> <div align=\"center\"> <p> <strong style=\"font-size:24px\">Social Profiles</strong><br/> <a href=\"http://facebook.com/suvarna.achwal?ref=drdata.in\" target=\"_blank\"><img alt=\"Dr. Suvarna Achwal, Bina on Facebook\" height=\"32\" src=\"images/facebook36x36.png\" title=\"Dr. Suvarna Achwal\" width=\"32\"/></a> <a href=\"http://www.twitter.com/drdata_in\" target=\"_blank\"><img alt=\"Dr. Suvarna Achwal, Bina on Twitter\" height=\"32\" src=\"images/twitter36x36.png\" title=\"Dr. Suvarna Achwal\" width=\"32\"/></a> <a href=\"https://www.linkedin.com/company-beta/13372131/\" target=\"_blank\"><img alt=\"Dr. Suvarna Achwal, Bina on Linkedin\" height=\"32\" src=\"images/linkedin36x36.png\" title=\"Dr. Suvarna Achwal\" width=\"32\"/></a> <a href=\"https://plus.google.com/+DrdataIndoctordirectoryindia\" target=\"_blank\"><img alt=\"Dr. Suvarna Achwal, Bina on GooglePlus\" height=\"32\" src=\"images/googleplus36x36.png\" title=\"Dr. Suvarna Achwal\" width=\"32\"/></a> <a href=\"https://www.instagram.com/drdata.in/\" target=\"_blank\"><img alt=\"Dr. Suvarna Achwal, Bina on Instagram\" height=\"32\" src=\"images/instagram36x36.png\" title=\"Dr. Suvarna Achwal\" width=\"32\"/></a> </p> <p><strong style=\"font-size:24px\">Reviews</strong><div id=\"wpac-rating\"></div><script type=\"text/javascript\">wpac_init=window.wpac_init||[];wpac_init.push({widget:'Rating',id:7274});(function(){if('WIDGETPACK_LOADED' in window)return;WIDGETPACK_LOADED=!0;var mc=document.createElement('script');mc.type='text/javascript';mc.async=!0;mc.src='https://embed.widgetpack.com/widget.js';var s=document.getElementsByTagName('script')[0];s.parentNode.insertBefore(mc,s.nextSibling)})()</script></p> <p> <strong style=\"font-size:24px\">Find Location</strong> <iframe allowfullscreen=\"\" frameborder=\"0\" height=\"280\" src=\"https://www.google.com/maps/embed?pb=!1m18!1m12!1m3!1d3639.558686597051!2d78.20135181457151!3d24.187205284375874!2m3!1f0!2f0!3f0!3m2!1i1024!2i768!4f13.1!3m3!1m2!1s0x39796c20c016f9ad%3A0x85396484df1a78f9!2sAchwal+Clinic+And+Metarniti+Home!5e0!3m2!1sen!2sin!4v1503969507123\" style=\"border:0\" width=\"280\"></iframe> </p> </div> </div> <div align=\"center\" class=\"col-lg-3 pull-center visible-xs\"><script async=\"\" src=\"//pagead2.googlesyndication.com/pagead/js/adsbygoogle.js\"></script> <ins class=\"adsbygoogle\" data-ad-client=\"ca-pub-5620942351678176\" data-ad-format=\"fluid\" data-ad-layout=\"in-article\" data-ad-slot=\"5577662028\" style=\"display:block; text-align:center;\"></ins> <script> (adsbygoogle = window.adsbygoogle || []).push({}); </script></div> <div class=\"col-md-9\"> <div class=\"clearfix\"></div> <div class=\"visible-xs\"></div> <div class=\"bs-example bs-example-tabs\"><ul class=\"nav nav-tabs\" id=\"myTab\" role=\"tablist\"><li class=\"active\" role=\"presentation\"><a aria-controls=\"profile\" aria-expanded=\"true\" data-toggle=\"tab\" href=\"#profile\" id=\"profile-tab\" role=\"tab\"><strong style=\"font-size:18px\">Profile</strong></a></li><li role=\"presentation\"><a aria-controls=\"about\" aria-expanded=\"true\" data-toggle=\"tab\" href=\"#about\" id=\"about-tab\" role=\"tab\"><strong style=\"font-size:18px\">Services</strong><strong></strong></a></li><li role=\"presentation\"><a aria-controls=\"profile\" data-target=\"#loginQuickcontact\" data-toggle=\"modal\" href=\"\" id=\"profile-tab\" role=\"tab\"><strong style=\"font-size:18px\">Contact Form</strong></a></li><li class=\"active\" role=\"presentation\"><a href=\"list-doctors.php\" id=\"profile-tab\" role=\"tab\"><strong style=\"font-size:18px\">❮ Back</strong></a></li></ul><div class=\"tab-content\" id=\"myTabContent\"> <div aria-labelledby=\"profile-tab\" class=\"tab-pane fade in active\" id=\"profile\" role=\"tabpanel\" style=\"margin-top:10px;\"> <p><table class=\"table-bordered table-striped table-condensed cf\" style=\"width:100%;\"> <tr> <td data-title=\"Name\"><strong>Name</strong></td> <td>Dr. Achwal Suvarna</td> </tr> <tr> <td data-title=\"Specialization\"><strong>Specialization</strong></td> <td>Gynaecologist</td> </tr> <tr> <td data-title=\"Degree\"><strong>Degree</strong></td> <td>MBBS, DGO</td> </tr> <tr> <td data-title=\"Area of Practice\"><strong>Area of Practice</strong></td> <td>Obstetrics and Gynaecology</td> </tr> <tr> <td data-title=\"Practicing Since\"> <strong>Practicing Since</strong></td> <td>2000</td> </tr> <tr> <td data-title=\"Name of Medical Council\"><strong>Name of Medical Council</strong></td> <td>Madhya Pradesh Medical Council</td> </tr> <tr> <td data-title=\"Registration Number\"><strong>Registration Number</strong></td> <td>MP-12723</td> </tr> <tr> <td data-title=\"Clinic/ Hospital Name\"><strong>Clinic/ Hospital Name</strong></td> <td>Achwal Clinic and Maternity Home, Bina</td> </tr> <tr> <td data-title=\"Practice as\"><strong>Practice as</strong></td> <td>Consultant</td> </tr> <tr> <td data-title=\"Management\"><strong>Management</strong></td> <td>Private</td> </tr> <tr> <td data-title=\"Date of Birth\"><strong>Date of Birth</strong></td> <td>0000-11-14</td> </tr> <tr> <td data-title=\"Address\"><strong>Address</strong></td> <td>Achwal Clinic and Maternity Home, Garhi, Madiya Ward, Itawa Bazar, Bina, District Sagar</td> </tr> <tr> <td data-title=\"State\"><strong>State</strong></td> <td>Madhya Pradesh</td> </tr> <tr> <td align=\"left\" data-title=\"District\"><strong>District</strong></td> <td> Sagar</td> </tr> <tr> <td data-title=\"Geographical Area\" valign=\"top\"><strong>Geographical Area</strong></td> <td>Bina</td> </tr> <tr> <td data-title=\"Address2\" valign=\"top\"><strong>Address2</strong></td> <td>Garhi, Madiya Ward, Itawa Bazar, Bina, District Sagar</td> </tr> <tr> <td data-title=\"Phone Number\"><strong>Phone Number</strong></td> <td>07580-223076</td> </tr> <tr> <td data-title=\"Mobile Number\"><strong>Mobile Number and Email</strong></td> <td>Send direct SMS and Email to Doctor by using \"Contact Form\" tab button</td> </tr> <tr> <td data-title=\"Member of\" valign=\"top\"> <strong>Member of</strong></td> <td>Indian Medical Association (IMA)-Madhya Pradesh-Bina (District- Sagar)<br>FOGSI (Obs &amp; Gynae)-Madhya Pradesh-Sagar<br/><br/><br/><br/></br></td> </tr> <tr> <td data-title=\"Graduation Course\"><strong>Graduation Course</strong></td> <td>1987-MBBS-GRMC-Gwalior-Jiwaji University</td> </tr> <tr> <td data-title=\"Post Graduation Course\"><strong>Post Graduation Course</strong></td> <td>1999-DGO-GRMC-Gwalior-Jiwaji University</td> </tr> </table></p> </div> <div aria-labelledby=\"about-tab\" class=\"tab-pane fade panel-body well\" id=\"about\" role=\"tabpanel\" style=\"margin-top:10px; text-align:justify;\"> <p><span style=\"color: rgb(128, 128, 128);\"><div><span style=\"color: rgb(128, 128, 128);\"><span style=\"font-size: large;\">Achwal Clinic and Maternity Home<br/>Bina, District Sagar (M.P.)<br/><br/>Dr. Suwarna Achwal, MBBS, DGO<br/><span style=\"font-size: small;\">Services Available:</span></span> </span><div style=\"color: rgb(0, 0, 0);\"><span style=\"color: rgb(128, 128, 128);\"> </span></div><ul style=\"color: rgb(0, 0, 0);\"> <li><span style=\"color: rgb(128, 128, 128);\">Acute Gynaecology Assessment Clinic</span></li> <li><span style=\"color: rgb(128, 128, 128);\">Assisted Conception Unit</span></li> <li><span style=\"color: rgb(128, 128, 128);\">Colposcopy</span></li> <li><span style=\"color: rgb(128, 128, 128);\">Community Gynaecology Services</span></li> <li><span style=\"color: rgb(128, 128, 128);\">Disorder of Sexual Development (Middlesex clinic)</span></li> <li><span style=\"color: rgb(128, 128, 128);\">Endometriosis</span></li> <li><span style=\"color: rgb(128, 128, 128);\">Family Planning</span></li> <li><span style=\"color: rgb(128, 128, 128);\">Female Genital Mutilation</span></li> <li><span style=\"color: rgb(128, 128, 128);\">Gynaecology diagnostic and treatment unit (gynaecology ultrasound)</span></li> <li><span style=\"color: rgb(128, 128, 128);\">Gynaecology Services</span></li> <li><span style=\"color: rgb(128, 128, 128);\">Gynaecology-Endocrine</span></li> <li><span style=\"color: rgb(128, 128, 128);\">Gynae-Oncological Surgery</span></li> <li><span style=\"color: rgb(128, 128, 128);\">Gynae-Oncology</span></li> <li><span style=\"color: rgb(128, 128, 128);\">HIV-Infection Clinic</span></li> <li><span style=\"color: rgb(128, 128, 128);\">Menopause/Osteoporosis Clinic</span></li> <li><span style=\"color: rgb(128, 128, 128);\">Paedatric Gynaecology</span></li> <li><span style=\"color: rgb(128, 128, 128);\">Pre-Menstrual Syndrome (PMS) and Premature Ovarian Insufficiency (POI) Clinic</span></li> <li><span style=\"color: rgb(128, 128, 128);\">Psychosexual Counselling</span></li> <li><span style=\"color: rgb(128, 128, 128);\">Rapid Access Service</span></li> <li><span style=\"color: rgb(128, 128, 128);\">Reproductive Medicine Care</span></li> <li><span style=\"color: rgb(128, 128, 128);\">Sergical and Medical Termination of Pregnancy Service (MTP)</span></li> <li><span style=\"color: rgb(128, 128, 128);\">Urogynaecology</span></li></ul></div></span></p> </div> </div> <script async=\"\" src=\"//pagead2.googlesyndication.com/pagead/js/adsbygoogle.js\"></script> <ins class=\"adsbygoogle\" data-ad-client=\"ca-pub-5620942351678176\" data-ad-format=\"fluid\" data-ad-layout=\"in-article\" data-ad-slot=\"1551675156\" style=\"display:block; text-align:center;\"></ins><script> (adsbygoogle = window.adsbygoogle || []).push({});</script> </div> </div><div aria-hidden=\"true\" aria-labelledby=\"myModalLabel\" class=\"modal fade\" id=\"loginQuickcontact\" role=\"dialog\" tabindex=\"-1\"> <div class=\"modal-dialog\"> <div class=\"modal-content\"> <div class=\"modal-header\"> <button aria-hidden=\"true\" class=\"close\" data-dismiss=\"modal\" type=\"button\">×</button> <h3 class=\"modal-title form-menu\">Consult with Dr. Suvarna Achwal</h3> </div><div class=\"modal-body\"> <form class=\"form-horizontal\" enctype=\"multipart/form-data\" id=\"loginForm\" method=\"post\"> <div class=\"form-group\"> <label class=\"col-md-3 control-label\">Full Name:</label> <div class=\"col-md-6\"> <input class=\"form-control\" id=\"name\" name=\"name\" onkeypress=\"return ValidateText(this,event)\" required=\"\" type=\"text\"/> </div> </div> <div class=\"form-group\"> <label class=\"col-md-3 control-label\">City:</label> <div class=\"col-md-6\"> <input class=\"form-control\" id=\"city\" name=\"city\" required=\"\" type=\"text\"/> </div> </div> <div class=\"form-group\"> <label class=\"col-md-3 control-label\">Mobile:</label> <div class=\"col-md-6\"> <input class=\"form-control\" id=\"mobile\" maxlength=\"10\" name=\"mobile\" onkeypress=\"return ValidateNum(this,event)\" required=\"\" type=\"text\"/> </div> </div> <div class=\"form-group\"> <label class=\"col-md-3 control-label\">Email:</label> <div class=\"col-md-6\"> <input class=\"form-control\" id=\"email\" name=\"email\" required=\"\" type=\"text\"/> </div> </div> <div class=\"form-group\"> <label class=\"col-md-3 control-label\">Enquiry For:</label> <div class=\"col-md-6\"> <select class=\"form-control\" id=\"for\" name=\"for\" required=\"\"> <option value=\"For Appointment\">For Appointment</option> <option value=\"For Old Patient\">For Old Patient</option> <option value=\"For Second Opinion\">For Second Opinion</option> <option value=\"Other\">Other</option> </select> </div> </div> <div class=\"form-group\"> <label class=\"col-md-3 control-label\">Message:</label> <div class=\"col-md-6\"> <textarea class=\"form-control\" id=\"enquiry\" name=\"enquiry\" required=\"\" rows=\"3\"></textarea> </div> </div> <div class=\"form-group\"> <label class=\"col-md-3 control-label\">Attach Files (Optional):</label> <div class=\"col-md-6\"> <input class=\"form-control\" name=\"pimage1\" type=\"file\"/> <input class=\"form-control\" name=\"pimage2\" type=\"file\"/> <input class=\"form-control\" name=\"pimage3\" type=\"file\"/> </div> </div> <div class=\"form-group\"> <label class=\"col-md-3 control-label\">Enter Text:</label> <div class=\"col-md-4\"> <input class=\"form-control\" id=\"captcha\" name=\"captcha\" required=\"\" type=\"text\"/> </div> <div class=\"col-md-2\"> <img alt=\"captcha for Dr. Suvarna Achwal\" src=\"captcha.php\" style=\"margin-top:2px;\"/> </div> </div> <div class=\"form-group\"> <div class=\"col-md-5 col-md-offset-3\"> <input class=\"btn btn-primary\" id=\"submit_en\" name=\"submit_en\" type=\"submit\" value=\"Submit\"> </input></div> </div> <div class=\"form-group\"> <div class=\"col-md-5 col-md-offset-3\"> Sending enquiry means you are agree with terms and conditions of this website. For more details please read <a href=\"disclaimer-drdata.php\" target=\"_blank\">disclaimer</a>. </div> </div> </form> </div> </div> </div></div> </div><div class=\"clearfix\"></div><footer><hr style=\"margin:0px\"/><div class=\"form-control-static\"><div align=\"center\" class=\"col-lg-12\"><a style=\"color:#666; font-size:16px\">Total Visits <img alt=\"drsuvarnaachwal\" border=\"0\" src=\"http://hitwebcounter.com/counter/counter.php?page=6748699&amp;style=0006&amp;nbdigits=5&amp;type=ip&amp;initCount=1026\" title=\"drsuvarnaachwal\"/><br/>For Dr. Suvarna Achwal</a><br/><a style=\"color:#666; font-size:16px\">This webpage is promoted by</a> <a class=\"btn-link\" href=\"https://www.drdata.in\" style=\"color:#666; font-size:16px\" target=\"_blank\" title=\"DrData Home Page\">DrData</a> <a style=\"color:#666; font-size:16px\">- Indian Medical Directory</a><br/><a style=\"color:#666; font-size:16px\">© 2017 - DRDATA.IN All Rights Reserved</a></div></div></footer><div class=\"clearfix\"></div><h2 align=\"center\" style=\"font-size:20px; margin-top:30px; margin-bottom:-5px;\">Find more doctors in other cities of India on DrData Directory</h2> <div class=\"visible-xs\" style=\"margin-top:5px;\"></div> <footer><div class=\"site-footer\" style=\"margin-top:10px;\"><div class=\"container\"><div class=\"row\" style=\"margin-top:10px;\"> <div class=\"col-md-3 col-sm-6\"><div class=\"footer-widget\"><ul class=\"list-links\"><li><a href=\"list-doctors.php?state=Jharkhand&amp;city=Seraikela%20Kharsawan&amp;geoarea=Adityapur\" title=\"Adityapur Doctors Directory\"><h3 style=\"color:#FFFFFF; font-size:12px; margin-top:10px; margin-bottom:10px;\">Adityapur Doctors Directory</h3></a></li><li><a href=\"list-doctors.php?state=Andhra%20Pradesh&amp;city=Kurnool&amp;geoarea=Adoni\" title=\"Adoni Doctors Directory\"><h3 style=\"color:#FFFFFF; font-size:12px; margin-top:10px; margin-bottom:10px;\">Adoni Doctors Directory</h3></a></li><li><a href=\"list-doctors.php?state=Tripura&amp;city=West%20Tripura&amp;geoarea=Agartala\" title=\"Agartala Doctors Directory\"><h3 style=\"color:#FFFFFF; font-size:12px; margin-top:10px; margin-bottom:10px;\">Agartala Doctors Directory</h3></a></li><li><a href=\"list-doctors.php?state=Uttar%20Pradesh&amp;city=Agra\" title=\"Agra Doctors Directory\"><h3 style=\"color:#FFFFFF; font-size:12px; margin-top:10px; margin-bottom:10px;\">Agra Doctors Directory</h3></a></li><li><a href=\"list-doctors.php?state=Gujarat&amp;city=Ahmedabad\" title=\"Ahmedabad Doctors Directory\"><h3 style=\"color:#FFFFFF; font-size:12px; margin-top:10px; margin-bottom:10px;\">Ahmedabad Doctors Directory</h3></a></li><li><a href=\"list-doctors.php?state=Maharashtra&amp;city=Ahmednagar\" title=\"Ahmednagar Doctors Directory\"><h3 style=\"color:#FFFFFF; font-size:12px; margin-top:10px; margin-bottom:10px;\">Ahmednagar Doctors Directory</h3></a></li><li><a href=\"list-doctors.php?state=Mizoram&amp;city=Aizawl\" title=\"Aizawl Doctors Directory\"><h3 style=\"color:#FFFFFF; font-size:12px; margin-top:10px; margin-bottom:10px;\">Aizawl Doctors Directory</h3></a></li><li><a href=\"list-doctors.php?state=Rajasthan&amp;city=Ajmer\" title=\"Ajmer Doctors Directory\"><h3 style=\"color:#FFFFFF; font-size:12px; margin-top:10px; margin-bottom:10px;\">Ajmer Doctors Directory</h3></a></li><li><a href=\"list-doctors.php?state=Maharashtra&amp;city=Akola\" title=\"Akola Doctors Directory\"><h3 style=\"color:#FFFFFF; font-size:12px; margin-top:10px; margin-bottom:10px;\">Akola Doctors Directory</h3></a></li><li><a href=\"list-doctors.php?state=Tamil%20Nadu&amp;city=Chennai&amp;geoarea=Alandur\" title=\"Alandur Doctors Directory\"><h3 style=\"color:#FFFFFF; font-size:12px; margin-top:10px; margin-bottom:10px;\">Alandur Doctors Directory</h3></a></li><li><a href=\"list-doctors.php?state=Kerala&amp;city=Alappuzha\" title=\"Alappuzha Doctors Directory\"><h3 style=\"color:#FFFFFF; font-size:12px; margin-top:10px; margin-bottom:10px;\">Alappuzha Doctors Directory</h3></a></li><li><a href=\"list-doctors.php?state=Uttar%20Pradesh&amp;city=Aligarh\" title=\"Aligarh Doctors Directory\"><h3 style=\"color:#FFFFFF; font-size:12px; margin-top:10px; margin-bottom:10px;\">Aligarh Doctors Directory</h3></a></li><li><a href=\"list-doctors.php?state=Uttar%20Pradesh&amp;city=Allahabad\" title=\"Allahabad Doctors Directory\"><h3 style=\"color:#FFFFFF; font-size:12px; margin-top:10px; margin-bottom:10px;\">Allahabad Doctors Directory</h3></a></li><li><a href=\"list-doctors.php?state=Rajasthan&amp;city=Alwar\" title=\"Alwar Doctors Directory\"><h3 style=\"color:#FFFFFF; font-size:12px; margin-top:10px; margin-bottom:10px;\">Alwar Doctors Directory</h3></a></li><li><a href=\"list-doctors.php?state=Haryana&amp;city=Ambala\" title=\"Ambala Doctors Directory\"><h3 style=\"color:#FFFFFF; font-size:12px; margin-top:10px; margin-bottom:10px;\">Ambala Doctors Directory</h3></a></li><li><a href=\"list-doctors.php?state=Tamil%20Nadu&amp;city=Chennai&amp;geoarea=Ambattur\" title=\"Ambattur Doctors Directory\"><h3 style=\"color:#FFFFFF; font-size:12px; margin-top:10px; margin-bottom:10px;\">Ambattur Doctors Directory</h3></a></li><li><a href=\"list-doctors.php?state=Maharashtra&amp;city=Thane&amp;geoarea=Ambernath\" title=\"Ambernath Doctors Directory\"><h3 style=\"color:#FFFFFF; font-size:12px; margin-top:10px; margin-bottom:10px;\">Ambernath Doctors Directory</h3></a></li><li><a href=\"list-doctors.php?state=Maharashtra&amp;city=Amravati\" title=\"Amravati Doctors Directory\"><h3 style=\"color:#FFFFFF; font-size:12px; margin-top:10px; margin-bottom:10px;\">Amravati Doctors Directory</h3></a></li><li><a href=\"list-doctors.php?state=Punjab&amp;city=Amritsar\" title=\"Amritsar Doctors Directory\"><h3 style=\"color:#FFFFFF; font-size:12px; margin-top:10px; margin-bottom:10px;\">Amritsar Doctors Directory</h3></a></li><li><a href=\"list-doctors.php?state=Uttar%20Pradesh&amp;city=Amroha\" title=\"Amroha Doctors Directory\"><h3 style=\"color:#FFFFFF; font-size:12px; margin-top:10px; margin-bottom:10px;\">Amroha Doctors Directory</h3></a></li><li><a href=\"list-doctors.php?state=Gujarat&amp;city=Anand\" title=\"Anand Doctors Directory\"><h3 style=\"color:#FFFFFF; font-size:12px; margin-top:10px; margin-bottom:10px;\">Anand Doctors Directory</h3></a></li><li><a href=\"list-doctors.php?state=Andhra%20Pradesh&amp;city=Anantapur\" title=\"Anantapur Doctors Directory\"><h3 style=\"color:#FFFFFF; font-size:12px; margin-top:10px; margin-bottom:10px;\">Anantapur Doctors Directory</h3></a></li><li><a href=\"list-doctors.php?state=Bihar&amp;city=Bhojpur&amp;geoarea=Arrah\" title=\"Arrah Doctors Directory\"><h3 style=\"color:#FFFFFF; font-size:12px; margin-top:10px; margin-bottom:10px;\">Arrah Doctors Directory</h3></a></li><li><a href=\"list-doctors.php?state=West%20Bengal&amp;city=Paschim%20Bardhaman&amp;geoarea=Asansol\" title=\"Asansol Doctors Directory\"><h3 style=\"color:#FFFFFF; font-size:12px; margin-top:10px; margin-bottom:10px;\">Asansol Doctors Directory</h3></a></li><li><a href=\"list-doctors.php?state=Maharashtra&amp;city=Aurangabad\" title=\"Aurangabad Doctors Directory\"><h3 style=\"color:#FFFFFF; font-size:12px; margin-top:10px; margin-bottom:10px;\">Aurangabad Doctors Directory</h3></a></li><li><a href=\"list-doctors.php?state=Tamil%20Nadu&amp;city=Chennai&amp;geoarea=Avadi\" title=\"Avadi Doctors Directory\"><h3 style=\"color:#FFFFFF; font-size:12px; margin-top:10px; margin-bottom:10px;\">Avadi Doctors Directory</h3></a></li><li><a href=\"list-doctors.php?state=Maharashtra&amp;city=Thane&amp;geoarea=Badlapur\" title=\"Badlapur Doctors Directory\"><h3 style=\"color:#FFFFFF; font-size:12px; margin-top:10px; margin-bottom:10px;\">Badlapur Doctors Directory</h3></a></li><li><a href=\"list-doctors.php?state=Haryana&amp;city=Jhajjar&amp;geoarea=Bahadurgarh\" title=\"Bahadurgarh Doctors Directory\"><h3 style=\"color:#FFFFFF; font-size:12px; margin-top:10px; margin-bottom:10px;\">Bahadurgarh Doctors Directory</h3></a></li><li><a href=\"list-doctors.php?state=West%20Bengal&amp;city=Murshidabad&amp;geoarea=Berhampore\" title=\"Berhampore Doctors Directory\"><h3 style=\"color:#FFFFFF; font-size:12px; margin-top:10px; margin-bottom:10px;\">Baharampur Doctors Directory</h3></a></li><li><a href=\"list-doctors.php?state=Uttar%20Pradesh&amp;city=Bahraich\" title=\"Bahraich Doctors Directory\"><h3 style=\"color:#FFFFFF; font-size:12px; margin-top:10px; margin-bottom:10px;\">Bahraich Doctors Directory</h3></a></li><li><a href=\"list-doctors.php?state=West%20Bengal&amp;city=Howrah&amp;geoarea=Bally%20Jagachha\" title=\"Bally Jagachha Doctors Directory\"><h3 style=\"color:#FFFFFF; font-size:12px; margin-top:10px; margin-bottom:10px;\">Bally Jagachha Doctors Directory</h3></a></li><li><a href=\"list-doctors.php?state=Karnataka&amp;city=Bangalore%20Urban\" title=\"Bangalore Doctors Directory\"><h3 style=\"color:#FFFFFF; font-size:12px; margin-top:10px; margin-bottom:10px;\">Bangalore Doctors Directory</h3></a></li><li><a href=\"list-doctors.php?state=West%20Bengal&amp;city=Kolkata&amp;geoarea=Baranagore\" title=\"Baranagar Doctors Directory\"><h3 style=\"color:#FFFFFF; font-size:12px; margin-top:10px; margin-bottom:10px;\">Baranagar Doctors Directory</h3></a></li><li><a href=\"list-doctors.php?state=West%20Bengal&amp;city=North%2024%20Parganas&amp;geoarea=Barasat-I\" title=\"Barasat Doctors Directory\"><h3 style=\"color:#FFFFFF; font-size:12px; margin-top:10px; margin-bottom:10px;\">Barasat Doctors Directory</h3></a></li><li><a href=\"list-doctors.php?state=West%20Bengal&amp;city=Purba%20Bardhaman&amp;geoarea=Bardhaman-I\" title=\"Bardhaman Doctors Directory\"><h3 style=\"color:#FFFFFF; font-size:12px; margin-top:10px; margin-bottom:10px;\">Bardhaman Doctors Directory</h3></a></li><li><a href=\"list-doctors.php?state=Uttar%20Pradesh&amp;city=Bareilly\" title=\"Bareilly Doctors Directory\"><h3 style=\"color:#FFFFFF; font-size:12px; margin-top:10px; margin-bottom:10px;\">Bareilly Doctors Directory</h3></a></li><li><a href=\"list-doctors.php?state=West%20Bengal&amp;city=Kolkata&amp;geoarea=Barrackpore%20H.O.\" title=\"Barrackpore Doctors Directory\"><h3 style=\"color:#FFFFFF; font-size:12px; margin-top:10px; margin-bottom:10px;\">Barrackpore Doctors Directory</h3></a></li><li><a href=\"list-doctors.php?state=Punjab&amp;city=Gurdaspur&amp;geoarea=Batala\" title=\"Batala Doctors Directory\"><h3 style=\"color:#FFFFFF; font-size:12px; margin-top:10px; margin-bottom:10px;\">Batala Doctors Directory</h3></a></li><li><a href=\"list-doctors.php?state=Punjab&amp;city=Bathinda\" title=\"Bathinda Doctors Directory\"><h3 style=\"color:#FFFFFF; font-size:12px; margin-top:10px; margin-bottom:10px;\">Bathinda Doctors Directory</h3></a></li><li><a href=\"list-doctors.php?state=Bihar&amp;city=Begusarai\" title=\"Begusarai Doctors Directory\"><h3 style=\"color:#FFFFFF; font-size:12px; margin-top:10px; margin-bottom:10px;\">Begusarai Doctors Directory</h3></a></li><li><a href=\"list-doctors.php?state=Karnataka&amp;city=Belgaum\" title=\"Belgaum Doctors Directory\"><h3 style=\"color:#FFFFFF; font-size:12px; margin-top:10px; margin-bottom:10px;\">Belgaum Doctors Directory</h3></a></li><li><a href=\"list-doctors.php?state=Karnataka&amp;city=Bellary\" title=\"Bellary Doctors Directory\"><h3 style=\"color:#FFFFFF; font-size:12px; margin-top:10px; margin-bottom:10px;\">Bellary Doctors Directory</h3></a></li><li><a href=\"list-doctors.php?state=Odisha&amp;city=Ganjam&amp;geoarea=Berhampur\" title=\"Berhampur Doctors Directory\"><h3 style=\"color:#FFFFFF; font-size:12px; margin-top:10px; margin-bottom:10px;\">Berhampur Doctors Directory</h3></a></li><li><a href=\"list-doctors.php?state=Bihar&amp;city=Bhagalpur\" title=\"Bhagalpur Doctors Directory\"><h3 style=\"color:#FFFFFF; font-size:12px; margin-top:10px; margin-bottom:10px;\">Bhagalpur Doctors Directory</h3></a></li><li><a href=\"list-doctors.php?state=Delhi&amp;city=North%20West%20Delhi&amp;geoarea=Bhalswa%20Jahangir%20Pur\" title=\"Bhalswa Jahangir Pur Doctors Directory\"><h3 style=\"color:#FFFFFF; font-size:12px; margin-top:10px; margin-bottom:10px;\">Bhalswa Jahangir Pur Doctors Directory</h3></a></li><li><a href=\"list-doctors.php?state=Rajasthan&amp;city=Bharatpur\" title=\"Bharatpur Doctors Directory\"><h3 style=\"color:#FFFFFF; font-size:12px; margin-top:10px; margin-bottom:10px;\">Bharatpur Doctors Directory</h3></a></li><li><a href=\"list-doctors.php?state=Gujarat&amp;city=Bharuch\" title=\"Bharuch Doctors Directory\"><h3 style=\"color:#FFFFFF; font-size:12px; margin-top:10px; margin-bottom:10px;\">Bharuch Doctors Directory</h3></a></li><li><a href=\"list-doctors.php?state=West%20Bengal&amp;city=North%2024%20Parganas&amp;geoarea=Bhatpara\" title=\"Bhatpara Doctors Directory\"><h3 style=\"color:#FFFFFF; font-size:12px; margin-top:10px; margin-bottom:10px;\">Bhatpara Doctors Directory</h3></a></li><li><a href=\"list-doctors.php?state=Gujarat&amp;city=Bhavnagar\" title=\"Bhavnagar Doctors Directory\"><h3 style=\"color:#FFFFFF; font-size:12px; margin-top:10px; margin-bottom:10px;\">Bhavnagar Doctors Directory</h3></a></li><li><a href=\"list-doctors.php?state=Maharashtra&amp;city=Thane&amp;geoarea=Bhayander%20East\" title=\"Bhayander Doctors Directory\"><h3 style=\"color:#FFFFFF; font-size:12px; margin-top:10px; margin-bottom:10px;\">Bhayander Doctors Directory</h3></a></li><li><a href=\"list-doctors.php?state=Chhattisgarh&amp;city=Durg&amp;geoarea=Bhilai\" title=\"Bhilai Nagar Doctors Directory\"><h3 style=\"color:#FFFFFF; font-size:12px; margin-top:10px; margin-bottom:10px;\">Bhilai Nagar Doctors Directory</h3></a></li><li><a href=\"list-doctors.php?state=Rajasthan&amp;city=Bhilwara\" title=\"Bhilwara Doctors Directory\"><h3 style=\"color:#FFFFFF; font-size:12px; margin-top:10px; margin-bottom:10px;\">Bhilwara Doctors Directory</h3></a></li><li><a href=\"list-doctors.php?state=Madhya%20Pradesh&amp;city=Bhind\" title=\"Bhind Doctors Directory\"><h3 style=\"color:#FFFFFF; font-size:12px; margin-top:10px; margin-bottom:10px;\">Bhind Doctors Directory</h3></a></li><li><a href=\"list-doctors.php?state=Maharashtra&amp;city=Thane&amp;geoarea=Bhiwandi\" title=\"Bhiwandi Doctors Directory\"><h3 style=\"color:#FFFFFF; font-size:12px; margin-top:10px; margin-bottom:10px;\">Bhiwandi Doctors Directory</h3></a></li><li><a href=\"list-doctors.php?state=Haryana&amp;city=Bhiwani\" title=\"Bhiwani Doctors Directory\"><h3 style=\"color:#FFFFFF; font-size:12px; margin-top:10px; margin-bottom:10px;\">Bhiwani Doctors Directory</h3></a></li><li><a href=\"list-doctors.php?state=Madhya%20Pradesh&amp;city=Bhopal\" title=\"Bhopal Doctors Directory\"><h3 style=\"color:#FFFFFF; font-size:12px; margin-top:10px; margin-bottom:10px;\">Bhopal Doctors Directory</h3></a></li><li><a href=\"list-doctors.php?state=Odisha&amp;city=Khordha&amp;geoarea=Bhubaneswar\" title=\"Bhubaneswar Doctors Directory\"><h3 style=\"color:#FFFFFF; font-size:12px; margin-top:10px; margin-bottom:10px;\">Bhubaneswar Doctors Directory</h3></a></li><li><a href=\"list-doctors.php?state=Maharashtra&amp;city=Jalgaon&amp;geoarea=Bhusawal\" title=\"Bhusawal Doctors Directory\"><h3 style=\"color:#FFFFFF; font-size:12px; margin-top:10px; margin-bottom:10px;\">Bhusawal Doctors Directory</h3></a></li><li><a href=\"list-doctors.php?state=Karnataka&amp;city=Bidar\" title=\"Bidar Doctors Directory\"><h3 style=\"color:#FFFFFF; font-size:12px; margin-top:10px; margin-bottom:10px;\">Bidar Doctors Directory</h3></a></li><li><a href=\"list-doctors.php?state=West%20Bengal&amp;city=North%2024%20Parganas&amp;geoarea=Bidhan%20Nagar\" title=\"Bidhan Nagar Doctors Directory\"><h3 style=\"color:#FFFFFF; font-size:12px; margin-top:10px; margin-bottom:10px;\">Bidhan Nagar Doctors Directory</h3></a></li><li><a href=\"list-doctors.php?state=Bihar&amp;city=Nalanda&amp;geoarea=Bihar%20Sharif\" title=\"Bihar Sharif Doctors Directory\"><h3 style=\"color:#FFFFFF; font-size:12px; margin-top:10px; margin-bottom:10px;\">Bihar Sharif Doctors Directory</h3></a></li><li><a href=\"list-doctors.php?state=Karnataka&amp;city=Bijapur\" title=\"Bijapur Doctors Directory\"><h3 style=\"color:#FFFFFF; font-size:12px; margin-top:10px; margin-bottom:10px;\">Bijapur Doctors Directory</h3></a></li><li><a href=\"list-doctors.php?state=Rajasthan&amp;city=Bikaner\" title=\"Bikaner Doctors Directory\"><h3 style=\"color:#FFFFFF; font-size:12px; margin-top:10px; margin-bottom:10px;\">Bikaner Doctors Directory</h3></a></li><li><a href=\"list-doctors.php?state=Chhattisgarh&amp;city=Bilaspur\" title=\"Bilaspur Doctors Directory\"><h3 style=\"color:#FFFFFF; font-size:12px; margin-top:10px; margin-bottom:10px;\">Bilaspur Doctors Directory</h3></a></li><li><a href=\"list-doctors.php?state=Jharkhand&amp;city=Bokaro\" title=\"Bokaro Doctors Directory\"><h3 style=\"color:#FFFFFF; font-size:12px; margin-top:10px; margin-bottom:10px;\">Bokaro Doctors Directory</h3></a></li><li><a href=\"list-doctors.php?state=Odisha&amp;city=Ganjam&amp;geoarea=Berhampur\" title=\"Berhampur Doctors Directory\"><h3 style=\"color:#FFFFFF; font-size:12px; margin-top:10px; margin-bottom:10px;\">Berhampur Doctors Directory</h3></a></li><li><a href=\"list-doctors.php?state=Uttar%20Pradesh&amp;city=Budaun\" title=\"Budaun Doctors Directory\"><h3 style=\"color:#FFFFFF; font-size:12px; margin-top:10px; margin-bottom:10px;\">Budaun Doctors Directory</h3></a></li><li><a href=\"list-doctors.php?state=Uttar%20Pradesh&amp;city=Bulandshahar\" title=\"Bulandshahar Doctors Directory\"><h3 style=\"color:#FFFFFF; font-size:12px; margin-top:10px; margin-bottom:10px;\">Bulandshahar Doctors Directory</h3></a></li><li><a href=\"list-doctors.php?state=Madhya%20Pradesh&amp;city=Burhanpur\" title=\"Burhanpur Doctors Directory\"><h3 style=\"color:#FFFFFF; font-size:12px; margin-top:10px; margin-bottom:10px;\">Burhanpur Doctors Directory</h3></a></li><li><a href=\"list-doctors.php?state=Chandigarh\" title=\"Chandigarh Doctors Directory\"><h3 style=\"color:#FFFFFF; font-size:12px; margin-top:10px; margin-bottom:10px;\">Chandigarh Doctors Directory</h3></a></li><li><a href=\"list-doctors.php?state=Maharashtra&amp;city=Chandrapur\" title=\"Chandrapur Doctors Directory\"><h3 style=\"color:#FFFFFF; font-size:12px; margin-top:10px; margin-bottom:10px;\">Chandrapur Doctors Directory</h3></a></li><li><a href=\"list-doctors.php?state=Bihar&amp;city=Saran&amp;geoarea=Chhapra\" title=\"Chhapra Doctors Directory\"><h3 style=\"color:#FFFFFF; font-size:12px; margin-top:10px; margin-bottom:10px;\">Chhapra Doctors Directory</h3></a></li><li><a href=\"list-doctors.php?state=Tamil%20Nadu&amp;city=Chennai\" title=\"Chennai Doctors Directory\"><h3 style=\"color:#FFFFFF; font-size:12px; margin-top:10px; margin-bottom:10px;\">Chennai Doctors Directory</h3></a></li><li><a href=\"list-doctors.php?state=Maharashtra&amp;city=Pune&amp;geoarea=Chinchwad\" title=\"Chinchwad Doctors Directory\"><h3 style=\"color:#FFFFFF; font-size:12px; margin-top:10px; margin-bottom:10px;\">Chinchwad Doctors Directory</h3></a></li><li><a href=\"list-doctors.php?state=Tamil%20Nadu&amp;city=Coimbatore\" title=\"Coimbatore Doctors Directory\"><h3 style=\"color:#FFFFFF; font-size:12px; margin-top:10px; margin-bottom:10px;\">Coimbatore Doctors Directory</h3></a></li><li><a href=\"list-doctors.php?state=Tamil%20Nadu&amp;city=Cuddalore\" title=\"Cuddalore Doctors Directory\"><h3 style=\"color:#FFFFFF; font-size:12px; margin-top:10px; margin-bottom:10px;\">Cuddalore Doctors Directory</h3></a></li><li><a href=\"list-doctors.php?state=Odisha&amp;city=Cuttack\" title=\"Cuttack Doctors Directory\"><h3 style=\"color:#FFFFFF; font-size:12px; margin-top:10px; margin-bottom:10px;\">Cuttack Doctors Directory</h3></a></li><li><a href=\"list-doctors.php?state=Bihar&amp;city=Darbhanga\" title=\"Darbhanga Doctors Directory\"><h3 style=\"color:#FFFFFF; font-size:12px; margin-top:10px; margin-bottom:10px;\">Darbhanga Doctors Directory</h3></a></li><li><a href=\"list-doctors.php?state=West%20Bengal&amp;city=Darjeeling\" title=\"Darjeeling Doctors Directory\"><h3 style=\"color:#FFFFFF; font-size:12px; margin-top:10px; margin-bottom:10px;\">Darjeeling Doctors Directory</h3></a></li><li><a href=\"list-doctors.php?state=Karnataka&amp;city=Davanagere\" title=\"Davanagere Doctors Directory\"><h3 style=\"color:#FFFFFF; font-size:12px; margin-top:10px; margin-bottom:10px;\">Davanagere Doctors Directory</h3></a></li></ul></div></div><div class=\"col-md-3 col-sm-6\"><div class=\"footer-widget\"><ul class=\"list-links\"><li><a href=\"list-doctors.php?state=Uttarakhand&amp;city=Dehradun\" title=\"Dehradun Doctors Directory\"><h3 style=\"color:#FFFFFF; font-size:12px; margin-top:10px; margin-bottom:10px;\">Dehradun Doctors Directory</h3></a></li><li><a href=\"list-doctors.php?state=Delhi\" title=\"Delhi Doctors Directory\"><h3 style=\"color:#FFFFFF; font-size:12px; margin-top:10px; margin-bottom:10px;\">Delhi Doctors Directory</h3></a></li><li><a href=\"list-doctors.php?state=Jharkhand&amp;city=Deoghar\" title=\"Deoghar Doctors Directory\"><h3 style=\"color:#FFFFFF; font-size:12px; margin-top:10px; margin-bottom:10px;\">Deoghar Doctors Directory</h3></a></li><li><a href=\"list-doctors.php?state=Rajasthan&amp;city=Tonk&amp;geoarea=Deoli\" title=\"Deoli Doctors Directory\"><h3 style=\"color:#FFFFFF; font-size:12px; margin-top:10px; margin-bottom:10px;\">Deoli Doctors Directory</h3></a></li><li><a href=\"list-doctors.php?state=Madhya%20Pradesh&amp;city=Dewas\" title=\"Dewas Doctors Directory\"><h3 style=\"color:#FFFFFF; font-size:12px; margin-top:10px; margin-bottom:10px;\">Dewas Doctors Directory</h3></a></li><li><a href=\"list-doctors.php?state=Jharkhand&amp;city=Dhanbad\" title=\"Dhanbad Doctors Directory\"><h3 style=\"color:#FFFFFF; font-size:12px; margin-top:10px; margin-bottom:10px;\">Dhanbad Doctors Directory</h3></a></li><li><a href=\"list-doctors.php?state=Himachal%20Pradesh&amp;city=Kangra&amp;geoarea=Dharmshala\" title=\"Dharmshala Doctors Directory\"><h3 style=\"color:#FFFFFF; font-size:12px; margin-top:10px; margin-bottom:10px;\">Dharmshala Doctors Directory</h3></a></li><li><a href=\"list-doctors.php?state=Karnataka&amp;city=Dharwad\" title=\"Dharwad Doctors Directory\"><h3 style=\"color:#FFFFFF; font-size:12px; margin-top:10px; margin-bottom:10px;\">Dharwad Doctors Directory</h3></a></li><li><a href=\"list-doctors.php?state=Maharashtra&amp;city=Dhule\" title=\"Dhule Doctors Directory\"><h3 style=\"color:#FFFFFF; font-size:12px; margin-top:10px; margin-bottom:10px;\">Dhule Doctors Directory</h3></a></li><li><a href=\"list-doctors.php?state=Tamil%20Nadu&amp;city=Dindigul\" title=\"Dindigul Doctors Directory\"><h3 style=\"color:#FFFFFF; font-size:12px; margin-top:10px; margin-bottom:10px;\">Dindigul Doctors Directory</h3></a></li><li><a href=\"list-doctors.php?state=Kamrup%20Metropolitan&amp;geoarea=Dispur\" title=\"Dispur Doctors Directory\"><h3 style=\"color:#FFFFFF; font-size:12px; margin-top:10px; margin-bottom:10px;\">Dispur Doctors Directory</h3></a></li><li><a href=\"list-doctors.php?state=Maharashtra&amp;city=Thane&amp;geoarea=Dombivali%20(E)\" title=\"Dombivali Doctors Directory\"><h3 style=\"color:#FFFFFF; font-size:12px; margin-top:10px; margin-bottom:10px;\">Dombivali Doctors Directory</h3></a></li><li><a href=\"list-doctors.php?state=West%20Bengal&amp;city=Kolkata&amp;geoarea=Dum%20Dum\" title=\"Dum Dum Doctors Directory\"><h3 style=\"color:#FFFFFF; font-size:12px; margin-top:10px; margin-bottom:10px;\">Dum Dum Doctors Directory</h3></a></li><li><a href=\"list-doctors.php?state=Chhattisgarh&amp;city=Durg\" title=\"Durg Doctors Directory\"><h3 style=\"color:#FFFFFF; font-size:12px; margin-top:10px; margin-bottom:10px;\">Durg Doctors Directory</h3></a></li><li><a href=\"list-doctors.php?state=West%20Bengal&amp;city=Paschim%20Bardhaman&amp;geoarea=Durgapur\" title=\"Durgapur Doctors Directory\"><h3 style=\"color:#FFFFFF; font-size:12px; margin-top:10px; margin-bottom:10px;\">Durgapur Doctors Directory</h3></a></li><li><a href=\"list-doctors.php?state=Andhra%20Pradesh&amp;city=West%20Godavari&amp;geoarea=Eluru\" title=\"Eluru Doctors Directory\"><h3 style=\"color:#FFFFFF; font-size:12px; margin-top:10px; margin-bottom:10px;\">Eluru Doctors Directory</h3></a></li><li><a href=\"list-doctors.php?state=West%20Bengal&amp;city=Malda&amp;geoarea=English%20Bazar\" title=\"English Bazar Malda Doctors Directory\"><h3 style=\"color:#FFFFFF; font-size:12px; margin-top:10px; margin-bottom:10px;\">English Bazar Malda Doctors Directory</h3></a></li><li><a href=\"list-doctors.php?state=Tamil%20Nadu&amp;city=Erode\" title=\"Erode Doctors Directory\"><h3 style=\"color:#FFFFFF; font-size:12px; margin-top:10px; margin-bottom:10px;\">Erode Doctors Directory</h3></a></li><li><a href=\"list-doctors.php?state=Uttar%20Pradesh&amp;city=Etawah\" title=\"Etawah Doctors Directory\"><h3 style=\"color:#FFFFFF; font-size:12px; margin-top:10px; margin-bottom:10px;\">Etawah Doctors Directory</h3></a></li><li><a href=\"list-doctors.php?state=Uttar%20Pradesh&amp;city=Faizabad\" title=\"Faizabad Doctors Directory\"><h3 style=\"color:#FFFFFF; font-size:12px; margin-top:10px; margin-bottom:10px;\">Faizabad Ayodhya Doctors Directory</h3></a></li><li><a href=\"list-doctors.php?state=Haryana&amp;city=Faridabad\" title=\"Faridabad Doctors Directory\"><h3 style=\"color:#FFFFFF; font-size:12px; margin-top:10px; margin-bottom:10px;\">Faridabad Doctors Directory</h3></a></li><li><a href=\"list-doctors.php?state=Uttar%20Pradesh&amp;city=Farrukhabad\" title=\"Farrukhabad Doctors Directory\"><h3 style=\"color:#FFFFFF; font-size:12px; margin-top:10px; margin-bottom:10px;\">Farrukhabad Doctors Directory</h3></a></li><li><a href=\"list-doctors.php?state=Uttar%20Pradesh&amp;city=Fatehpur\" title=\"Fatehpur Doctors Directory\"><h3 style=\"color:#FFFFFF; font-size:12px; margin-top:10px; margin-bottom:10px;\">Fatehpur Doctors Directory</h3></a></li><li><a href=\"list-doctors.php?state=Uttar%20Pradesh&amp;city=Firozabad\" title=\"Firozabad Doctors Directory\"><h3 style=\"color:#FFFFFF; font-size:12px; margin-top:10px; margin-bottom:10px;\">Firozabad Doctors Directory</h3></a></li><li><a href=\"list-doctors.php?state=Karnataka&amp;city=Gadag\" title=\"Gadag Doctors Directory\"><h3 style=\"color:#FFFFFF; font-size:12px; margin-top:10px; margin-bottom:10px;\">Gadag Doctors Directory</h3></a></li><li><a href=\"list-doctors.php?state=Gujarat&amp;city=Kutch&amp;geoarea=Gandhidham\" title=\"Gandhidham Doctors Directory\"><h3 style=\"color:#FFFFFF; font-size:12px; margin-top:10px; margin-bottom:10px;\">Gandhidham Doctors Directory</h3></a></li><li><a href=\"list-doctors.php?state=Gujarat&amp;city=Gandhinagar\" title=\"Gandhinagar Doctors Directory\"><h3 style=\"color:#FFFFFF; font-size:12px; margin-top:10px; margin-bottom:10px;\">Gandhinagar Doctors Directory</h3></a></li><li><a href=\"list-doctors.php?state=Sikkim&amp;city=East%20Sikkim&amp;geoarea=Gangtok\" title=\"Gangtok Doctors Directory\"><h3 style=\"color:#FFFFFF; font-size:12px; margin-top:10px; margin-bottom:10px;\">Gangtok Doctors Directory</h3></a></li><li><a href=\"list-doctors.php?state=Bihar&amp;city=Gaya\" title=\"Gaya Doctors Directory\"><h3 style=\"color:#FFFFFF; font-size:12px; margin-top:10px; margin-bottom:10px;\">Gaya Doctors Directory</h3></a></li><li><a href=\"list-doctors.php?state=Uttar%20Pradesh&amp;city=Ghaziabad\" title=\"Ghaziabad Doctors Directory\"><h3 style=\"color:#FFFFFF; font-size:12px; margin-top:10px; margin-bottom:10px;\">Ghaziabad Doctors Directory</h3></a></li><li><a href=\"list-doctors.php?state=Odisha&amp;city=Ganjam&amp;geoarea=Gopalpur\" title=\"Gopalpur Doctors Directory\"><h3 style=\"color:#FFFFFF; font-size:12px; margin-top:10px; margin-bottom:10px;\">Gopalpur Doctors Directory</h3></a></li><li><a href=\"list-doctors.php?state=Uttar%20Pradesh&amp;city=Gorakhpur\" title=\"Gorakhpur Doctors Directory\"><h3 style=\"color:#FFFFFF; font-size:12px; margin-top:10px; margin-bottom:10px;\">Gorakhpur Doctors Directory</h3></a></li><li><a href=\"list-doctors.php?state=Karnataka&amp;city=Gulbarga\" title=\"Gulbarga Doctors Directory\"><h3 style=\"color:#FFFFFF; font-size:12px; margin-top:10px; margin-bottom:10px;\">Gulbarga Doctors Directory</h3></a></li><li><a href=\"list-doctors.php?state=Madhya%20Pradesh&amp;city=Guna\" title=\"Guna Doctors Directory\"><h3 style=\"color:#FFFFFF; font-size:12px; margin-top:10px; margin-bottom:10px;\">Guna Doctors Directory</h3></a></li><li><a href=\"list-doctors.php?state=Andhra%20Pradesh&amp;city=Guntur\" title=\"Guntur Doctors Directory\"><h3 style=\"color:#FFFFFF; font-size:12px; margin-top:10px; margin-bottom:10px;\">Guntur Doctors Directory</h3></a></li><li><a href=\"list-doctors.php?state=Haryana&amp;city=Gurgaon\" title=\"Gurgaon Doctors Directory\"><h3 style=\"color:#FFFFFF; font-size:12px; margin-top:10px; margin-bottom:10px;\">Gurgaon Doctors Directory</h3></a></li><li><a href=\"list-doctors.php?state=Assam&amp;city=Kamrup%20Metropolitan&amp;geoarea=Guwahati\" title=\"Guwahati Doctors Directory\"><h3 style=\"color:#FFFFFF; font-size:12px; margin-top:10px; margin-bottom:10px;\">Guwahati Doctors Directory</h3></a></li><li><a href=\"list-doctors.php?state=Madhya%20Pradesh&amp;city=Gwalior\" title=\"Gwalior Doctors Directory\"><h3 style=\"color:#FFFFFF; font-size:12px; margin-top:10px; margin-bottom:10px;\">Gwalior Doctors Directory</h3></a></li><li><a href=\"list-doctors.php?state=West%20Bengal&amp;city=Purba%20Medinipur&amp;geoarea=Haldia\" title=\"Haldia Doctors Directory\"><h3 style=\"color:#FFFFFF; font-size:12px; margin-top:10px; margin-bottom:10px;\">Haldia Doctors Directory</h3></a></li><li><a href=\"list-doctors.php?state=Uttarakhand&amp;city=Nainital&amp;geoarea=Haldwani\" title=\"Haldwani Doctors Directory\"><h3 style=\"color:#FFFFFF; font-size:12px; margin-top:10px; margin-bottom:10px;\">Haldwani Doctors Directory</h3></a></li><li><a href=\"list-doctors.php?state=Uttar%20Pradesh&amp;city=Hapur\" title=\"Hapur Doctors Directory\"><h3 style=\"color:#FFFFFF; font-size:12px; margin-top:10px; margin-bottom:10px;\">Hapur Doctors Directory</h3></a></li><li><a href=\"list-doctors.php?state=Uttarakhand&amp;city=Haridwar\" title=\"Haridwar Doctors Directory\"><h3 style=\"color:#FFFFFF; font-size:12px; margin-top:10px; margin-bottom:10px;\">Haridwar Doctors Directory</h3></a></li><li><a href=\"list-doctors.php?state=Delhi&amp;city=West%20Delhi&amp;geoarea=Hastsal\" title=\"Hastsal Doctors Directory\"><h3 style=\"color:#FFFFFF; font-size:12px; margin-top:10px; margin-bottom:10px;\">Hastsal Delhi Doctors Directory</h3></a></li><li><a href=\"list-doctors.php?state=Haryana&amp;city=Hisar\" title=\"Hisar Doctors Directory\"><h3 style=\"color:#FFFFFF; font-size:12px; margin-top:10px; margin-bottom:10px;\">Hisar Doctors Directory</h3></a></li><li><a href=\"list-doctors.php?state=Punjab&amp;city=Hoshiarpur\" title=\"Hoshiarpur Doctors Directory\"><h3 style=\"color:#FFFFFF; font-size:12px; margin-top:10px; margin-bottom:10px;\">Hoshiarpur Doctors Directory</h3></a></li><li><a href=\"list-doctors.php?state=West%20Bengal&amp;city=Hooghly\" title=\"Hooghly Doctors Directory\"><h3 style=\"color:#FFFFFF; font-size:12px; margin-top:10px; margin-bottom:10px;\">Hooghly Doctors Directory</h3></a></li><li><a href=\"list-doctors.php?state=Karnataka&amp;city=Bellary&amp;geoarea=Hospet\" title=\"Hospet Doctors Directory\"><h3 style=\"color:#FFFFFF; font-size:12px; margin-top:10px; margin-bottom:10px;\">Hospet Doctors Directory</h3></a></li><li><a href=\"list-doctors.php?state=West%20Bengal&amp;city=Howrah\" title=\"Howrah Doctors Directory\"><h3 style=\"color:#FFFFFF; font-size:12px; margin-top:10px; margin-bottom:10px;\">Howrah Doctors Directory</h3></a></li><li><a href=\"list-doctors.php?state=Karnataka&amp;city=Dharwad&amp;geoarea=Hubli\" title=\"Hubli Doctors Directory\"><h3 style=\"color:#FFFFFF; font-size:12px; margin-top:10px; margin-bottom:10px;\">Hubli Doctors Directory</h3></a></li><li><a href=\"list-doctors.php?state=Telangana&amp;city=Hyderabad\" title=\"Hyderabad Doctors Directory\"><h3 style=\"color:#FFFFFF; font-size:12px; margin-top:10px; margin-bottom:10px;\">Hyderabad Doctors Directory</h3></a></li><li><a href=\"list-doctors.php?state=Maharashtra&amp;city=Kolhapur&amp;geoarea=Ichalkaranji\" title=\"Ichalkaranji Doctors Directory\"><h3 style=\"color:#FFFFFF; font-size:12px; margin-top:10px; margin-bottom:10px;\">Ichalkaranji Doctors Directory</h3></a></li><li><a href=\"list-doctors.php?state=Manipur&amp;city=Imphal%20West\" title=\"Imphal Doctors Directory\"><h3 style=\"color:#FFFFFF; font-size:12px; margin-top:10px; margin-bottom:10px;\">Imphal Doctors Directory</h3></a></li><li><a href=\"list-doctors.php?state=Madhya%20Pradesh&amp;city=Indore\" title=\"Indore Doctors Directory\"><h3 style=\"color:#FFFFFF; font-size:12px; margin-top:10px; margin-bottom:10px;\">Indore Doctors Directory</h3></a></li><li><a href=\"list-doctors.php?state=Arunachal%20Pradesh&amp;city=Papum%20Pare&amp;geoarea=Itanagar\" title=\"Itanagar Doctors Directory\"><h3 style=\"color:#FFFFFF; font-size:12px; margin-top:10px; margin-bottom:10px;\">Itanagar Doctors Directory</h3></a></li><li><a href=\"list-doctors.php?state=Madhya%20Pradesh&amp;city=Jabalpur\" title=\"Jabalpur Doctors Directory\"><h3 style=\"color:#FFFFFF; font-size:12px; margin-top:10px; margin-bottom:10px;\">Jabalpur Doctors Directory</h3></a></li><li><a href=\"list-doctors.php?state=Rajasthan&amp;city=Jaipur\" title=\"Jaipur Doctors Directory\"><h3 style=\"color:#FFFFFF; font-size:12px; margin-top:10px; margin-bottom:10px;\">Jaipur Doctors Directory</h3></a></li><li><a href=\"list-doctors.php?state=Punjab&amp;city=Jalandhar\" title=\"Jalandhar Doctors Directory\"><h3 style=\"color:#FFFFFF; font-size:12px; margin-top:10px; margin-bottom:10px;\">Jalandhar Doctors Directory</h3></a></li><li><a href=\"list-doctors.php?state=Maharashtra&amp;city=Jalgaon\" title=\"Jalgaon Doctors Directory\"><h3 style=\"color:#FFFFFF; font-size:12px; margin-top:10px; margin-bottom:10px;\">Jalgaon Doctors Directory</h3></a></li><li><a href=\"list-doctors.php?state=Maharashtra&amp;city=Jalna\" title=\"Jalna Doctors Directory\"><h3 style=\"color:#FFFFFF; font-size:12px; margin-top:10px; margin-bottom:10px;\">Jalna Doctors Directory</h3></a></li><li><a href=\"list-doctors.php?state=Jammu%20and%20Kashmir&amp;city=Jammu\" title=\"Jammu Doctors Directory\"><h3 style=\"color:#FFFFFF; font-size:12px; margin-top:10px; margin-bottom:10px;\">Jammu Doctors Directory</h3></a></li><li><a href=\"list-doctors.php?state=Gujarat&amp;city=Jamnagar\" title=\"Jamnagar Doctors Directory\"><h3 style=\"color:#FFFFFF; font-size:12px; margin-top:10px; margin-bottom:10px;\">Jamnagar Doctors Directory</h3></a></li><li><a href=\"list-doctors.php?state=Jharkhand&amp;city=East%20Singhbhum&amp;geoarea=Jamshedpur\" title=\"Jamshedpur Doctors Directory\"><h3 style=\"color:#FFFFFF; font-size:12px; margin-top:10px; margin-bottom:10px;\">Jamshedpur Doctors Directory</h3></a></li><li><a href=\"list-doctors.php?state=Uttar%20Pradesh&amp;city=Jaunpur\" title=\"Jaunpur Doctors Directory\"><h3 style=\"color:#FFFFFF; font-size:12px; margin-top:10px; margin-bottom:10px;\">Jaunpur Doctors Directory</h3></a></li><li><a href=\"list-doctors.php?state=Haryana&amp;city=Jhajjar\" title=\"Jhajjar Doctors Directory\"><h3 style=\"color:#FFFFFF; font-size:12px; margin-top:10px; margin-bottom:10px;\">Jhajjar Doctors Directory</h3></a></li><li><a href=\"list-doctors.php?state=Uttar%20Pradesh&amp;city=Jhansi\" title=\"Jhansi Doctors Directory\"><h3 style=\"color:#FFFFFF; font-size:12px; margin-top:10px; margin-bottom:10px;\">Jhansi Doctors Directory</h3></a></li><li><a href=\"list-doctors.php?state=Haryana&amp;city=Jind\" title=\"Jind Doctors Directory\"><h3 style=\"color:#FFFFFF; font-size:12px; margin-top:10px; margin-bottom:10px;\">Jind Doctors Directory</h3></a></li><li><a href=\"list-doctors.php?state=Rajasthan&amp;city=Jodhpur\" title=\"Jodhpur Doctors Directory\"><h3 style=\"color:#FFFFFF; font-size:12px; margin-top:10px; margin-bottom:10px;\">Jodhpur Doctors Directory</h3></a></li><li><a href=\"list-doctors.php?state=Gujarat&amp;city=Junagadh\" title=\"Junagadh Doctors Directory\"><h3 style=\"color:#FFFFFF; font-size:12px; margin-top:10px; margin-bottom:10px;\">Junagadh Doctors Directory</h3></a></li><li><a href=\"list-doctors.php?state=Andhra%20Pradesh&amp;city=Kadapa\" title=\"Kadapa Doctors Directory\"><h3 style=\"color:#FFFFFF; font-size:12px; margin-top:10px; margin-bottom:10px;\">Kadapa Doctors Directory</h3></a></li><li><a href=\"list-doctors.php?state=Andhra%20Pradesh&amp;city=East%20Godavari&amp;geoarea=Kakinada\" title=\"Kakinada Doctors Directory\"><h3 style=\"color:#FFFFFF; font-size:12px; margin-top:10px; margin-bottom:10px;\">Kakinada Doctors Directory</h3></a></li><li><a href=\"list-doctors.php?state=Maharashtra&amp;city=Thane&amp;geoarea=Kalyan\" title=\"Kalyan Doctors Directory\"><h3 style=\"color:#FFFFFF; font-size:12px; margin-top:10px; margin-bottom:10px;\">Kalyan Doctors Directory</h3></a></li><li><a href=\"list-doctors.php?state=West%20Bengal&amp;city=North%2024%20Parganas&amp;geoarea=Kamarhati\" title=\"Kamarhati Doctors Directory\"><h3 style=\"color:#FFFFFF; font-size:12px; margin-top:10px; margin-bottom:10px;\">Kamarhati Doctors Directory</h3></a></li><li><a href=\"list-doctors.php?state=Tamil%20Nadu&amp;city=Kanchipuram\" title=\"Kanchipuram Doctors Directory\"><h3 style=\"color:#FFFFFF; font-size:12px; margin-top:10px; margin-bottom:10px;\">Kanchipuram Doctors Directory</h3></a></li><li><a href=\"list-doctors.php?state=Uttar%20Pradesh&amp;city=Kanpur%20Nagar\" title=\"Kanpur Doctors Directory\"><h3 style=\"color:#FFFFFF; font-size:12px; margin-top:10px; margin-bottom:10px;\">Kanpur Doctors Directory</h3></a></li><li><a href=\"list-doctors.php?state=Delhi&amp;city=North%20East%20Delhi&amp;geoarea=Karawal%20Nagar\" title=\"Karawal Nagar Doctors Directory\"><h3 style=\"color:#FFFFFF; font-size:12px; margin-top:10px; margin-bottom:10px;\">Karawal Nagar Doctors Directory</h3></a></li><li><a href=\"list-doctors.php?state=Telangana&amp;city=Karimnagar\" title=\"Karimnagar Doctors Directory\"><h3 style=\"color:#FFFFFF; font-size:12px; margin-top:10px; margin-bottom:10px;\">Karimnagar Doctors Directory</h3></a></li><li><a href=\"list-doctors.php?state=Haryana&amp;city=Karnal\" title=\"Karnal Doctors Directory\"><h3 style=\"color:#FFFFFF; font-size:12px; margin-top:10px; margin-bottom:10px;\">Karnal Doctors Directory</h3></a></li><li><a href=\"list-doctors.php?state=Bihar&amp;city=Katihar\" title=\"Katihar Doctors Directory\"><h3 style=\"color:#FFFFFF; font-size:12px; margin-top:10px; margin-bottom:10px;\">Katihar Doctors Directory</h3></a></li><li><a href=\"list-doctors.php?state=Madhya%20Pradesh&amp;city=Katni\" title=\"Katni Doctors Directory\"><h3 style=\"color:#FFFFFF; font-size:12px; margin-top:10px; margin-bottom:10px;\">Katni Doctors Directory</h3></a></li><li><a href=\"list-doctors.php?state=Lakshadweep&amp;city=Lakshadweep&amp;geoarea=Kavaratti\" title=\"Kavaratti Doctors Directory\"><h3 style=\"color:#FFFFFF; font-size:12px; margin-top:10px; margin-bottom:10px;\">Kavaratti Doctors Directory</h3></a></li></ul></div></div><div class=\"col-md-3 col-sm-6\"><div class=\"footer-widget\"><ul class=\"list-links\"><li><a href=\"list-doctors.php?state=Telangana&amp;city=Khammam\" title=\"Khammam Doctors Directory\"><h3 style=\"color:#FFFFFF; font-size:12px; margin-top:10px; margin-bottom:10px;\">Khammam Doctors Directory</h3></a></li><li><a href=\"list-doctors.php?state=Madhya%20Pradesh&amp;city=Khandwa\" title=\"Khandwa Doctors Directory\"><h3 style=\"color:#FFFFFF; font-size:12px; margin-top:10px; margin-bottom:10px;\">Khandwa Doctors Directory</h3></a></li><li><a href=\"list-doctors.php?state=West%20Bengal&amp;city=Paschim%20Medinipur&amp;geoarea=Kharagpur-I\" title=\"Kharagpur Doctors Directory\"><h3 style=\"color:#FFFFFF; font-size:12px; margin-top:10px; margin-bottom:10px;\">Kharagpur Doctors Directory</h3></a></li><li><a href=\"list-doctors.php?state=Uttar%20Pradesh&amp;city=Ghaziabad&amp;geoarea=Khora\" title=\"Khora Doctors Directory\"><h3 style=\"color:#FFFFFF; font-size:12px; margin-top:10px; margin-bottom:10px;\">Khora Doctors Directory</h3></a></li><li><a href=\"list-doctors.php?state=Delhi&amp;city=North%20West%20Delhi&amp;geoarea=Kirari%20Suleman%20Nagar\" title=\"Kirari Suleman Nagar Doctors Directory\"><h3 style=\"color:#FFFFFF; font-size:12px; margin-top:10px; margin-bottom:10px;\">Kirari Suleman Nagar Doctors Directory</h3></a></li><li><a href=\"list-doctors.php?state=Rajasthan&amp;city=Ajmer&amp;geoarea=Kishangarh\" title=\"Kishangarh Doctors Directory\"><h3 style=\"color:#FFFFFF; font-size:12px; margin-top:10px; margin-bottom:10px;\">Kishangarh Doctors Directory</h3></a></li><li><a href=\"list-doctors.php?state=Kerala&amp;city=Ernakulam&amp;geoarea=Kochi%20(Cochin)\" title=\"Kochi Doctors Directory\"><h3 style=\"color:#FFFFFF; font-size:12px; margin-top:10px; margin-bottom:10px;\">Kochi Doctors Directory</h3></a></li><li><a href=\"list-doctors.php?state=Nagaland&amp;city=Kohima\" title=\"Kohima Doctors Directory\"><h3 style=\"color:#FFFFFF; font-size:12px; margin-top:10px; margin-bottom:10px;\">Kohima Doctors Directory</h3></a></li><li><a href=\"list-doctors.php?state=Maharashtra&amp;city=Kolhapur\" title=\"Kolhapur Doctors Directory\"><h3 style=\"color:#FFFFFF; font-size:12px; margin-top:10px; margin-bottom:10px;\">Kolhapur Doctors Directory</h3></a></li><li><a href=\"list-doctors.php?state=West%20Bengal&amp;city=Kolkata\" title=\"Kolkata Doctors Directory\"><h3 style=\"color:#FFFFFF; font-size:12px; margin-top:10px; margin-bottom:10px;\">Kolkata Doctors Directory</h3></a></li><li><a href=\"list-doctors.php?state=Kerala&amp;city=Kollam\" title=\"Kollam Doctors Directory\"><h3 style=\"color:#FFFFFF; font-size:12px; margin-top:10px; margin-bottom:10px;\">Kollam Doctors Directory</h3></a></li><li><a href=\"list-doctors.php?state=Chhattisgarh&amp;city=Korba\" title=\"Korba Doctors Directory\"><h3 style=\"color:#FFFFFF; font-size:12px; margin-top:10px; margin-bottom:10px;\">Korba Doctors Directory</h3></a></li><li><a href=\"list-doctors.php?state=Rajasthan&amp;city=Kota\" title=\"Kota Doctors Directory\"><h3 style=\"color:#FFFFFF; font-size:12px; margin-top:10px; margin-bottom:10px;\">Kota Doctors Directory</h3></a></li><li><a href=\"list-doctors.php?state=Kerala&amp;city=Kozhikode\" title=\"Kozhikode Doctors Directory\"><h3 style=\"color:#FFFFFF; font-size:12px; margin-top:10px; margin-bottom:10px;\">Kozhikode Doctors Directory</h3></a></li><li><a href=\"list-doctors.php?state=West%20Bengal&amp;city=Paschim%20Bardhaman&amp;geoarea=Kulti\" title=\"Kulti Doctors Directory\"><h3 style=\"color:#FFFFFF; font-size:12px; margin-top:10px; margin-bottom:10px;\">Kulti Doctors Directory</h3></a></li><li><a href=\"list-doctors.php?state=Maharashtra&amp;city=Sangli&amp;geoarea=Kupwad\" title=\"Kupwad Doctors Directory\"><h3 style=\"color:#FFFFFF; font-size:12px; margin-top:10px; margin-bottom:10px;\">Kupwad Doctors Directory</h3></a></li><li><a href=\"list-doctors.php?state=Andhra%20Pradesh&amp;city=Kurnool\" title=\"Kurnool Doctors Directory\"><h3 style=\"color:#FFFFFF; font-size:12px; margin-top:10px; margin-bottom:10px;\">Kurnool Doctors Directory</h3></a></li><li><a href=\"list-doctors.php?state=Maharashtra&amp;city=Latur\" title=\"Latur Doctors Directory\"><h3 style=\"color:#FFFFFF; font-size:12px; margin-top:10px; margin-bottom:10px;\">Latur Doctors Directory</h3></a></li><li><a href=\"list-doctors.php?state=Uttar%20Pradesh&amp;city=Ghaziabad&amp;geoarea=Loni\" title=\"Loni Doctors Directory\"><h3 style=\"color:#FFFFFF; font-size:12px; margin-top:10px; margin-bottom:10px;\">Loni Doctors Directory</h3></a></li><li><a href=\"list-doctors.php?state=Uttar%20Pradesh&amp;city=Lucknow\" title=\"Lucknow Doctors Directory\"><h3 style=\"color:#FFFFFF; font-size:12px; margin-top:10px; margin-bottom:10px;\">Lucknow Doctors Directory</h3></a></li><li><a href=\"list-doctors.php?state=Punjab&amp;city=Ludhiana\" title=\"Ludhiana Doctors Directory\"><h3 style=\"color:#FFFFFF; font-size:12px; margin-top:10px; margin-bottom:10px;\">Ludhiana Doctors Directory</h3></a></li><li><a href=\"list-doctors.php?state=Andhra%20Pradesh&amp;city=Krishna&amp;geoarea=Machilipatnam\" title=\"Machilipatnam Doctors Directory\"><h3 style=\"color:#FFFFFF; font-size:12px; margin-top:10px; margin-bottom:10px;\">Machilipatnam Doctors Directory</h3></a></li><li><a href=\"list-doctors.php?state=West%20Bengal&amp;city=Kolkata&amp;geoarea=Madhyamgram\" title=\"Madhyamgram Doctors Directory\"><h3 style=\"color:#FFFFFF; font-size:12px; margin-top:10px; margin-bottom:10px;\">Madhyamgram Doctors Directory</h3></a></li><li><a href=\"list-doctors.php?state=Tamil%20Nadu&amp;city=Madurai\" title=\"Madurai Doctors Directory\"><h3 style=\"color:#FFFFFF; font-size:12px; margin-top:10px; margin-bottom:10px;\">Madurai Doctors Directory</h3></a></li><li><a href=\"list-doctors.php?state=Telangana&amp;city=Mahbubnagar\" title=\"Mahbubnagar Doctors Directory\"><h3 style=\"color:#FFFFFF; font-size:12px; margin-top:10px; margin-bottom:10px;\">Mahbubnagar Doctors Directory</h3></a></li><li><a href=\"list-doctors.php?state=Gujarat&amp;city=Mehsana\" title=\"Mehsana Doctors Directory\"><h3 style=\"color:#FFFFFF; font-size:12px; margin-top:10px; margin-bottom:10px;\">Mehsana Doctors Directory</h3></a></li><li><a href=\"list-doctors.php?state=West%20Bengal&amp;city=South%2024%20Parganas&amp;geoarea=Maheshtala\" title=\"Maheshtala Doctors Directory\"><h3 style=\"color:#FFFFFF; font-size:12px; margin-top:10px; margin-bottom:10px;\">Maheshtala Doctors Directory</h3></a></li><li><a href=\"list-doctors.php?state=Maharashtra&amp;city=Nashik&amp;geoarea=Malegaon\" title=\"Malegaon Doctors Directory\"><h3 style=\"color:#FFFFFF; font-size:12px; margin-top:10px; margin-bottom:10px;\">Malegaon Doctors Directory</h3></a></li><li><a href=\"list-doctors.php?state=Karnataka&amp;city=Dakshina%20Kannada&amp;geoarea=Mangalore\" title=\"Mangalore Doctors Directory\"><h3 style=\"color:#FFFFFF; font-size:12px; margin-top:10px; margin-bottom:10px;\">Mangalore Doctors Directory</h3></a></li><li><a href=\"list-doctors.php?state=Jharkhand&amp;city=East%20Singhbhum&amp;geoarea=Mango%20Jamshedpur\" title=\"Mango Jamshedpur Doctors Directory\"><h3 style=\"color:#FFFFFF; font-size:12px; margin-top:10px; margin-bottom:10px;\">Mango Jamshedpur Doctors Directory</h3></a></li><li><a href=\"list-doctors.php?state=Uttar%20Pradesh&amp;city=Mathura\" title=\"Mathura Doctors Directory\"><h3 style=\"color:#FFFFFF; font-size:12px; margin-top:10px; margin-bottom:10px;\">Mathura Doctors Directory</h3></a></li><li><a href=\"list-doctors.php?state=Uttar%20Pradesh&amp;city=Mau\" title=\"Mau Doctors Directory\"><h3 style=\"color:#FFFFFF; font-size:12px; margin-top:10px; margin-bottom:10px;\">Mau Doctors Directory</h3></a></li><li><a href=\"list-doctors.php?state=Uttar%20Pradesh&amp;city=Meerut\" title=\"Meerut Doctors Directory\"><h3 style=\"color:#FFFFFF; font-size:12px; margin-top:10px; margin-bottom:10px;\">Meerut Doctors Directory</h3></a></li><li><a href=\"list-doctors.php?state=West%20Bengal&amp;city=Paschim%20Medinipur&amp;geoarea=Midnapore\" title=\"Midnapore Doctors Directory\"><h3 style=\"color:#FFFFFF; font-size:12px; margin-top:10px; margin-bottom:10px;\">Midnapore Doctors Directory</h3></a></li><li><a href=\"list-doctors.php?state=Maharashtra&amp;city=Thane&amp;geoarea=Mira%20Road\" title=\"Mira Road Doctors Directory\"><h3 style=\"color:#FFFFFF; font-size:12px; margin-top:10px; margin-bottom:10px;\">Mira Road Doctors Directory</h3></a></li><li><a href=\"list-doctors.php?state=Maharashtra&amp;city=Sangli&amp;geoarea=Miraj\" title=\"Miraj Doctors Directory\"><h3 style=\"color:#FFFFFF; font-size:12px; margin-top:10px; margin-bottom:10px;\">Miraj Doctors Directory</h3></a></li><li><a href=\"list-doctors.php?state=Uttar%20Pradesh&amp;city=Mirzapur\" title=\"Mirzapur Doctors Directory\"><h3 style=\"color:#FFFFFF; font-size:12px; margin-top:10px; margin-bottom:10px;\">Mirzapur Doctors Directory</h3></a></li><li><a href=\"list-doctors.php?state=Uttar%20Pradesh&amp;city=Moradabad\" title=\"Moradabad Doctors Directory\"><h3 style=\"color:#FFFFFF; font-size:12px; margin-top:10px; margin-bottom:10px;\">Moradabad Doctors Directory</h3></a></li><li><a href=\"list-doctors.php?state=Madhya%20Pradesh&amp;city=Morena\" title=\"Morena Doctors Directory\"><h3 style=\"color:#FFFFFF; font-size:12px; margin-top:10px; margin-bottom:10px;\">Morena Doctors Directory</h3></a></li><li><a href=\"list-doctors.php?state=Gujarat&amp;city=Morbi\" title=\"Morbi Doctors Directory\"><h3 style=\"color:#FFFFFF; font-size:12px; margin-top:10px; margin-bottom:10px;\">Morbi Doctors Directory</h3></a></li><li><a href=\"list-doctors.php?state=Maharashtra&amp;city=Mumbai\" title=\"Mumbai Doctors Directory\"><h3 style=\"color:#FFFFFF; font-size:12px; margin-top:10px; margin-bottom:10px;\">Mumbai Doctors Directory</h3></a></li><li><a href=\"list-doctors.php?state=Bihar&amp;city=Munger\" title=\"Munger Doctors Directory\"><h3 style=\"color:#FFFFFF; font-size:12px; margin-top:10px; margin-bottom:10px;\">Munger Doctors Directory</h3></a></li><li><a href=\"list-doctors.php?state=Uttar%20Pradesh&amp;city=Muzaffarnagar\" title=\"Muzaffarnagar Doctors Directory\"><h3 style=\"color:#FFFFFF; font-size:12px; margin-top:10px; margin-bottom:10px;\">Muzaffarnagar Doctors Directory</h3></a></li><li><a href=\"list-doctors.php?state=Bihar&amp;city=Muzaffarpur\" title=\"Muzaffarpur Doctors Directory\"><h3 style=\"color:#FFFFFF; font-size:12px; margin-top:10px; margin-bottom:10px;\">Muzaffarpur Doctors Directory</h3></a></li><li><a href=\"list-doctors.php?state=Karnataka&amp;city=Mysore\" title=\"Mysore Doctors Directory\"><h3 style=\"color:#FFFFFF; font-size:12px; margin-top:10px; margin-bottom:10px;\">Mysore Doctors Directory</h3></a></li><li><a href=\"list-doctors.php?state=Gujarat&amp;city=Kheda&amp;geoarea=Nadiad\" title=\"Nadiad Doctors Directory\"><h3 style=\"color:#FFFFFF; font-size:12px; margin-top:10px; margin-bottom:10px;\">Nadiad Doctors Directory</h3></a></li><li><a href=\"list-doctors.php?state=amil%20Nadu&amp;city=Kanyakumari&amp;geoarea=Nagercoil\" title=\"Nagercoil Doctors Directory\"><h3 style=\"color:#FFFFFF; font-size:12px; margin-top:10px; margin-bottom:10px;\">Nagercoil Doctors Directory</h3></a></li><li><a href=\"list-doctors.php?state=Maharashtra&amp;city=Nagpur\" title=\"Nagpur Doctors Directory\"><h3 style=\"color:#FFFFFF; font-size:12px; margin-top:10px; margin-bottom:10px;\">Nagpur Doctors Directory</h3></a></li><li><a href=\"list-doctors.php?state=West%20Bengal&amp;city=North%2024%20Parganas&amp;geoarea=Naihati\" title=\"Naihati Doctors Directory\"><h3 style=\"color:#FFFFFF; font-size:12px; margin-top:10px; margin-bottom:10px;\">Naihati Doctors Directory</h3></a></li><li><a href=\"list-doctors.php?state=Maharashtra&amp;city=Nanded\" title=\"Nanded Doctors Directory\"><h3 style=\"color:#FFFFFF; font-size:12px; margin-top:10px; margin-bottom:10px;\">Nanded Doctors Directory</h3></a></li><li><a href=\"list-doctors.php?state=Andhra%20Pradesh&amp;city=Kurnool&amp;geoarea=Nandyal\" title=\"Nandyal Doctors Directory\"><h3 style=\"color:#FFFFFF; font-size:12px; margin-top:10px; margin-bottom:10px;\">Nandyal Doctors Directory</h3></a></li><li><a href=\"list-doctors.php?state=Delhi&amp;city=West%20Delhi&amp;geoarea=Nangloi%20Jat\" title=\"Nangloi Jat Doctors Directory\"><h3 style=\"color:#FFFFFF; font-size:12px; margin-top:10px; margin-bottom:10px;\">Nangloi Jat Doctors Directory</h3></a></li><li><a href=\"list-doctors.php?state=Delhi&amp;city=North%20West%20Delhi&amp;geoarea=Narela\" title=\"Narela Doctors Directory\"><h3 style=\"color:#FFFFFF; font-size:12px; margin-top:10px; margin-bottom:10px;\">Narela Doctors Directory</h3></a></li><li><a href=\"list-doctors.php?state=Maharashtra&amp;city=Nashik\" title=\"Nashik Doctors Directory\"><h3 style=\"color:#FFFFFF; font-size:12px; margin-top:10px; margin-bottom:10px;\">Nashik Doctors Directory</h3></a></li><li><a href=\"list-doctors.php?state=Maharashtra&amp;city=Navi%20Mumbai\" title=\"Navi Mumbai Doctors Directory\"><h3 style=\"color:#FFFFFF; font-size:12px; margin-top:10px; margin-bottom:10px;\">Navi Mumbai Doctors Directory</h3></a></li><li><a href=\"list-doctors.php?state=Gujarat&amp;city=Navsari\" title=\"Navsari Doctors Directory\"><h3 style=\"color:#FFFFFF; font-size:12px; margin-top:10px; margin-bottom:10px;\">Navsari Doctors Directory</h3></a></li><li><a href=\"list-doctors.php?state=Andhra%20Pradesh&amp;city=Nellore\" title=\"Nellore Doctors Directory\"><h3 style=\"color:#FFFFFF; font-size:12px; margin-top:10px; margin-bottom:10px;\">Nellore Doctors Directory</h3></a></li><li><a href=\"list-doctors.php?state=Delhi&amp;city=New%20Delhi\" title=\"New Delhi Doctors Directory\"><h3 style=\"color:#FFFFFF; font-size:12px; margin-top:10px; margin-bottom:10px;\">New Delhi Doctors Directory</h3></a></li><li><a href=\"list-doctors.php?state=Telangana&amp;city=Nizamabad\" title=\"Nizamabad Doctors Directory\"><h3 style=\"color:#FFFFFF; font-size:12px; margin-top:10px; margin-bottom:10px;\">Nizamabad Doctors Directory</h3></a></li><li><a href=\"list-doctors.php?state=Uttar%20Pradesh&amp;city=Gautam%20Budh%20Nagar&amp;geoarea=Noida\" title=\"Noida Doctors Directory\"><h3 style=\"color:#FFFFFF; font-size:12px; margin-top:10px; margin-bottom:10px;\">Noida Doctors Directory</h3></a></li><li><a href=\"list-doctors.php?state=Andhra%20Pradesh&amp;city=Prakasam&amp;geoarea=Ongole\" title=\"Ongole Doctors Directory\"><h3 style=\"color:#FFFFFF; font-size:12px; margin-top:10px; margin-bottom:10px;\">Ongole Doctors Directory</h3></a></li><li><a href=\"list-doctors.php?state=Tamil%20Nadu&amp;city=Nilgiris&amp;geoarea=Ooty%20(Udhagamandalam)\" title=\"Ooty Doctors Directory\"><h3 style=\"color:#FFFFFF; font-size:12px; margin-top:10px; margin-bottom:10px;\">Ooty Doctors Directory</h3></a></li><li><a href=\"list-doctors.php?state=Uttar%20Pradesh&amp;city=Jalaun&amp;geoarea=Orai\" title=\"Orai Doctors Directory\"><h3 style=\"color:#FFFFFF; font-size:12px; margin-top:10px; margin-bottom:10px;\">Orai Doctors Directory</h3></a></li><li><a href=\"list-doctors.php?state=Puducherry&amp;city=Puducherry&amp;geoarea=Ozhukarai\" title=\"Ozhukarai Doctors Directory\"><h3 style=\"color:#FFFFFF; font-size:12px; margin-top:10px; margin-bottom:10px;\">Ozhukarai Doctors Directory</h3></a></li><li><a href=\"list-doctors.php?state=Rajasthan&amp;city=Pali\" title=\"Pali Doctors Directory\"><h3 style=\"color:#FFFFFF; font-size:12px; margin-top:10px; margin-bottom:10px;\">Pali Doctors Directory</h3></a></li><li><a href=\"list-doctors.php?state=Tamil%20Nadu&amp;city=Chennai&amp;geoarea=Pallavaram\" title=\"Pallavaram Doctors Directory\"><h3 style=\"color:#FFFFFF; font-size:12px; margin-top:10px; margin-bottom:10px;\">Pallavaram Doctors Directory</h3></a></li><li><a href=\"list-doctors.php?state=Goa&amp;city=North%20Goa&amp;geoarea=Panaji\" title=\"Panaji Doctors Directory\"><h3 style=\"color:#FFFFFF; font-size:12px; margin-top:10px; margin-bottom:10px;\">Panaji Doctors Directory</h3></a></li><li><a href=\"list-doctors.php?state=Haryana&amp;city=Panchkula\" title=\"Panchkula Doctors Directory\"><h3 style=\"color:#FFFFFF; font-size:12px; margin-top:10px; margin-bottom:10px;\">Panchkula Doctors Directory</h3></a></li><li><a href=\"list-doctors.php?state=West%20Bengal&amp;city=Kolkata&amp;geoarea=Panihati\" title=\"Panihati Doctors Directory\"><h3 style=\"color:#FFFFFF; font-size:12px; margin-top:10px; margin-bottom:10px;\">Panihati Doctors Directory</h3></a></li><li><a href=\"list-doctors.php?state=Haryana&amp;city=Panipat\" title=\"Panipat Doctors Directory\"><h3 style=\"color:#FFFFFF; font-size:12px; margin-top:10px; margin-bottom:10px;\">Panipat Doctors Directory</h3></a></li><li><a href=\"list-doctors.php?state=Maharashtra&amp;city=Raigad&amp;geoarea=Panvel\" title=\"Panvel Doctors Directory\"><h3 style=\"color:#FFFFFF; font-size:12px; margin-top:10px; margin-bottom:10px;\">Panvel Doctors Directory</h3></a></li><li><a href=\"list-doctors.php?state=Maharashtra&amp;city=Parbhani\" title=\"Parbhani Doctors Directory\"><h3 style=\"color:#FFFFFF; font-size:12px; margin-top:10px; margin-bottom:10px;\">Parbhani Doctors Directory</h3></a></li><li><a href=\"list-doctors.php?state=Punjab&amp;city=Patiala\" title=\"Patiala Doctors Directory\"><h3 style=\"color:#FFFFFF; font-size:12px; margin-top:10px; margin-bottom:10px;\">Patiala Doctors Directory</h3></a></li><li><a href=\"list-doctors.php?state=Bihar&amp;city=Patna\" title=\"Patna Doctors Directory\"><h3 style=\"color:#FFFFFF; font-size:12px; margin-top:10px; margin-bottom:10px;\">Patna Doctors Directory</h3></a></li><li><a href=\"list-doctors.php?state=Maharashtra&amp;city=Pune&amp;geoarea=Pimpri\" title=\"Pimpri Doctors Directory\"><h3 style=\"color:#FFFFFF; font-size:12px; margin-top:10px; margin-bottom:10px;\">Pimpri Doctors Directory</h3></a></li><li><a href=\"list-doctors.php?state=Gujarat&amp;city=Porbandar\" title=\"Porbandar Doctors Directory\"><h3 style=\"color:#FFFFFF; font-size:12px; margin-top:10px; margin-bottom:10px;\">Porbandar Doctors Directory</h3></a></li><li><a href=\"list-doctors.php?state=Andaman%20and%20Nicobar&amp;city=South%20Andaman&amp;geoarea=Port%20Blair\" title=\"Port Blair Doctors Directory\"><h3 style=\"color:#FFFFFF; font-size:12px; margin-top:10px; margin-bottom:10px;\">Port Blair Doctors Directory</h3></a></li><li><a href=\"list-doctors.php?state=Puducherry\" title=\"Puducherry Doctors Directory\"><h3 style=\"color:#FFFFFF; font-size:12px; margin-top:10px; margin-bottom:10px;\">Puducherry Doctors Directory</h3></a></li><li><a href=\"list-doctors.php?state=Maharashtra&amp;city=Pune\" title=\"Pune Doctors Directory\"><h3 style=\"color:#FFFFFF; font-size:12px; margin-top:10px; margin-bottom:10px;\">Pune Doctors Directory</h3></a></li><li><a href=\"list-doctors.php?state=Odisha&amp;city=Puri\" title=\"Puri Doctors Directory\"><h3 style=\"color:#FFFFFF; font-size:12px; margin-top:10px; margin-bottom:10px;\">Puri Doctors Directory</h3></a></li></ul></div></div> <div class=\"col-md-3 col-sm-6\"><div class=\"footer-widget\"><ul class=\"list-links\"><li><a href=\"list-doctors.php?state=Bihar&amp;city=Purnia\" title=\"Purnia Doctors Directory\"><h3 style=\"color:#FFFFFF; font-size:12px; margin-top:10px; margin-bottom:10px;\">Purnia Doctors Directory</h3></a></li><li><a href=\"list-doctors.php?state=Uttar%20Pradesh&amp;city=Raebareli\" title=\"Raebareli Doctors Directory\"><h3 style=\"color:#FFFFFF; font-size:12px; margin-top:10px; margin-bottom:10px;\">Raebareli Doctors Directory</h3></a></li><li><a href=\"list-doctors.php?state=Karnataka&amp;city=Raichur\" title=\"Raichur Doctors Directory\"><h3 style=\"color:#FFFFFF; font-size:12px; margin-top:10px; margin-bottom:10px;\">Raichur Doctors Directory</h3></a></li><li><a href=\"list-doctors.php?state=West%20Bengal&amp;city=Uttar%20Dinajpur&amp;geoarea=Raiganj\" title=\"Raiganj Doctors Directory\"><h3 style=\"color:#FFFFFF; font-size:12px; margin-top:10px; margin-bottom:10px;\">Raiganj Doctors Directory</h3></a></li><li><a href=\"list-doctors.php?state=Chhattisgarh&amp;city=Raipur\" title=\"Raipur Doctors Directory\"><h3 style=\"color:#FFFFFF; font-size:12px; margin-top:10px; margin-bottom:10px;\">Raipur Doctors Directory</h3></a></li><li><a href=\"list-doctors.php?state=Andhra%20Pradesh&amp;city=East%20Godavari&amp;geoarea=Rajahmundry\" title=\"Rajahmundry Doctors Directory\"><h3 style=\"color:#FFFFFF; font-size:12px; margin-top:10px; margin-bottom:10px;\">Rajahmundry Doctors Directory</h3></a></li><li><a href=\"list-doctors.php?state=West%20Bengal&amp;city=Kolkata&amp;geoarea=New%20Town%20Rajarhat\" title=\"Rajarhat New Town Doctors Directory\"><h3 style=\"color:#FFFFFF; font-size:12px; margin-top:10px; margin-bottom:10px;\">Rajarhat New Town Doctors Directory</h3></a></li><li><a href=\"list-doctors.php?state=Gujarat&amp;city=Rajkot\" title=\"Rajkot Doctors Directory\"><h3 style=\"color:#FFFFFF; font-size:12px; margin-top:10px; margin-bottom:10px;\">Rajkot Doctors Directory</h3></a></li><li><a href=\"list-doctors.php?state=Chhattisgarh&amp;city=Rajnandgaon\" title=\"Rajnandgaon Doctors Directory\"><h3 style=\"color:#FFFFFF; font-size:12px; margin-top:10px; margin-bottom:10px;\">Rajnandgaon Doctors Directory</h3></a></li><li><a href=\"list-doctors.php?state=West%20Bengal&amp;city=South%2024%20Parganas&amp;geoarea=Sonarpur\" title=\"Rajpur Sonarpur Doctors Directory\"><h3 style=\"color:#FFFFFF; font-size:12px; margin-top:10px; margin-bottom:10px;\">Rajpur Sonarpur Doctors Directory</h3></a></li><li><a href=\"list-doctors.php?state=Telangana&amp;city=Peddapalli&amp;geoarea=Ramagundam\" title=\"Ramagundam Doctors Directory\"><h3 style=\"color:#FFFFFF; font-size:12px; margin-top:10px; margin-bottom:10px;\">Ramagundam Doctors Directory</h3></a></li><li><a href=\"list-doctors.php?state=Uttar%20Pradesh&amp;city=Rampur\" title=\"Rampur Doctors Directory\"><h3 style=\"color:#FFFFFF; font-size:12px; margin-top:10px; margin-bottom:10px;\">Rampur Doctors Directory</h3></a></li><li><a href=\"list-doctors.php?state=Jharkhand&amp;city=Ranchi\" title=\"Ranchi Doctors Directory\"><h3 style=\"color:#FFFFFF; font-size:12px; margin-top:10px; margin-bottom:10px;\">Ranchi Doctors Directory</h3></a></li><li><a href=\"list-doctors.php?state=Madhya%20Pradesh&amp;city=Ratlam\" title=\"Ratlam Doctors Directory\"><h3 style=\"color:#FFFFFF; font-size:12px; margin-top:10px; margin-bottom:10px;\">Ratlam Doctors Directory</h3></a></li><li><a href=\"list-doctors.php?state=Odisha&amp;city=Sundergarh&amp;geoarea=Raurkela%20Town\" title=\"Raurkela Doctors Directory\"><h3 style=\"color:#FFFFFF; font-size:12px; margin-top:10px; margin-bottom:10px;\">Raurkela Doctors Directory</h3></a></li><li><a href=\"list-doctors.php?state=Madhya%20Pradesh&amp;city=Rewa\" title=\"Rewa Doctors Directory\"><h3 style=\"color:#FFFFFF; font-size:12px; margin-top:10px; margin-bottom:10px;\">Rewa Doctors Directory</h3></a></li><li><a href=\"list-doctors.php?state=Karnataka&amp;city=Kolar&amp;geoarea=Robertsonpet\" title=\"Robertsonpet Doctors Directory\"><h3 style=\"color:#FFFFFF; font-size:12px; margin-top:10px; margin-bottom:10px;\">Robertsonpet Doctors Directory</h3></a></li><li><a href=\"list-doctors.php?state=Haryana&amp;city=Rohtak\" title=\"Rohtak Doctors Directory\"><h3 style=\"color:#FFFFFF; font-size:12px; margin-top:10px; margin-bottom:10px;\">Rohtak Doctors Directory</h3></a></li><li><a href=\"list-doctors.php?state=Madhya%20Pradesh&amp;city=Sagar\" title=\"Sagar Doctors Directory\"><h3 style=\"color:#FFFFFF; font-size:12px; margin-top:10px; margin-bottom:10px;\">Sagar Doctors Directory</h3></a></li><li><a href=\"list-doctors.php?state=Uttar%20Pradesh&amp;city=Saharanpur\" title=\"Saharanpur Doctors Directory\"><h3 style=\"color:#FFFFFF; font-size:12px; margin-top:10px; margin-bottom:10px;\">Saharanpur Doctors Directory</h3></a></li><li><a href=\"list-doctors.php?state=Bihar&amp;city=Saharsa\" title=\"Saharsa Doctors Directory\"><h3 style=\"color:#FFFFFF; font-size:12px; margin-top:10px; margin-bottom:10px;\">Saharsa Doctors Directory</h3></a></li><li><a href=\"list-doctors.php?state=Tamil%20Nadu&amp;city=Salem\" title=\"Salem Doctors Directory\"><h3 style=\"color:#FFFFFF; font-size:12px; margin-top:10px; margin-bottom:10px;\">Salem Doctors Directory</h3></a></li><li><a href=\"list-doctors.php?state=Odisha&amp;city=Sambalpur\" title=\"Sambalpur Doctors Directory\"><h3 style=\"color:#FFFFFF; font-size:12px; margin-top:10px; margin-bottom:10px;\">Sambalpur Doctors Directory</h3></a></li><li><a href=\"list-doctors.php?state=Uttar%20Pradesh&amp;city=Sambhal\" title=\"Sambhal Doctors Directory\"><h3 style=\"color:#FFFFFF; font-size:12px; margin-top:10px; margin-bottom:10px;\">Sambhal Doctors Directory</h3></a></li><li><a href=\"list-doctors.php?state=Maharashtra&amp;city=Sangli\" title=\"Sangli Doctors Directory\"><h3 style=\"color:#FFFFFF; font-size:12px; margin-top:10px; margin-bottom:10px;\">Sangli Doctors Directory</h3></a></li><li><a href=\"list-doctors.php?state=Madhya%20Pradesh&amp;city=Satna\" title=\"Satna Doctors Directory\"><h3 style=\"color:#FFFFFF; font-size:12px; margin-top:10px; margin-bottom:10px;\">Satna Doctors Directory</h3></a></li><li><a href=\"list-doctors.php?state=Telangana&amp;city=Hyderabad&amp;geoarea=Secunderabad\" title=\"Secunderabad Doctors Directory\"><h3 style=\"color:#FFFFFF; font-size:12px; margin-top:10px; margin-bottom:10px;\">Secunderabad Doctors Directory</h3></a></li><li><a href=\"list-doctors.php?state=West%20Bengal&amp;city=Hooghly&amp;geoarea=Serampore\" title=\"Serampore Doctors Directory\"><h3 style=\"color:#FFFFFF; font-size:12px; margin-top:10px; margin-bottom:10px;\">Serampore Doctors Directory</h3></a></li><li><a href=\"list-doctors.php?state=Uttar%20Pradesh&amp;city=Shahjahanpur\" title=\"Shahjahanpur Doctors Directory\"><h3 style=\"color:#FFFFFF; font-size:12px; margin-top:10px; margin-bottom:10px;\">Shahjahanpur Doctors Directory</h3></a></li><li><a href=\"list-doctors.php?state=Maharashtra&amp;city=Ahmednagar&amp;geoarea=Shevgaon\" title=\"Shevgaon Doctors Directory\"><h3 style=\"color:#FFFFFF; font-size:12px; margin-top:10px; margin-bottom:10px;\">Shevgaon Doctors Directory</h3></a></li><li><a href=\"list-doctors.php?state=Meghalaya&amp;city=East%20Khasi%20Hills&amp;geoarea=Shillong\" title=\"Shillong Doctors Directory\"><h3 style=\"color:#FFFFFF; font-size:12px; margin-top:10px; margin-bottom:10px;\">Shillong Doctors Directory</h3></a></li><li><a href=\"list-doctors.php?state=Himachal%20Pradesh&amp;city=Shimla\" title=\"Shimla Doctors Directory\"><h3 style=\"color:#FFFFFF; font-size:12px; margin-top:10px; margin-bottom:10px;\">Shimla Doctors Directory</h3></a></li><li><a href=\"list-doctors.php?state=Karnataka&amp;city=Shimoga\" title=\"Shimoga Doctors Directory\"><h3 style=\"color:#FFFFFF; font-size:12px; margin-top:10px; margin-bottom:10px;\">Shimoga Doctors Directory</h3></a></li><li><a href=\"list-doctors.php?state=Maharashtra&amp;city=Ahmednagar&amp;geoarea=Shirdi\" title=\"Shirdi Doctors Directory\"><h3 style=\"color:#FFFFFF; font-size:12px; margin-top:10px; margin-bottom:10px;\">Shirdi Doctors Directory</h3></a></li><li><a href=\"list-doctors.php?state=Madhya%20Pradesh&amp;city=Shivpuri\" title=\"Shivpuri Doctors Directory\"><h3 style=\"color:#FFFFFF; font-size:12px; margin-top:10px; margin-bottom:10px;\">Shivpuri Doctors Directory</h3></a></li><li><a href=\"list-doctors.php?state=Rajasthan&amp;city=Sikar\" title=\"Sikar Doctors Directory\"><h3 style=\"color:#FFFFFF; font-size:12px; margin-top:10px; margin-bottom:10px;\">Sikar Doctors Directory</h3></a></li><li><a href=\"list-doctors.php?state=Assam&amp;city=Cachar&amp;geoarea=Silchar\" title=\"Silchar Doctors Directory\"><h3 style=\"color:#FFFFFF; font-size:12px; margin-top:10px; margin-bottom:10px;\">Silchar Doctors Directory</h3></a></li><li><a href=\"list-doctors.php?state=West%20Bengal&amp;city=Darjeeling&amp;geoarea=Siliguri\" title=\"Siliguri Doctors Directory\"><h3 style=\"color:#FFFFFF; font-size:12px; margin-top:10px; margin-bottom:10px;\">Siliguri Doctors Directory</h3></a></li><li><a href=\"list-doctors.php?state=Dadra%20and%20Nagar%20Haveli&amp;city=Dadra%20and%20Nagar%20Haveli&amp;geoarea=Silvassa\" title=\"Silvassa Doctors Directory\"><h3 style=\"color:#FFFFFF; font-size:12px; margin-top:10px; margin-bottom:10px;\">Silvassa Doctors Directory</h3></a></li><li><a href=\"list-doctors.php?state=Haryana&amp;city=Sirsa\" title=\"Sirsa Doctors Directory\"><h3 style=\"color:#FFFFFF; font-size:12px; margin-top:10px; margin-bottom:10px;\">Sirsa Doctors Directory</h3></a></li><li><a href=\"list-doctors.php?state=Uttar%20Pradesh&amp;city=Sitapur\" title=\"Sitapur Doctors Directory\"><h3 style=\"color:#FFFFFF; font-size:12px; margin-top:10px; margin-bottom:10px;\">Sitapur Doctors Directory</h3></a></li><li><a href=\"list-doctors.php?state=Maharashtra&amp;city=Solapur\" title=\"Solapur Doctors Directory\"><h3 style=\"color:#FFFFFF; font-size:12px; margin-top:10px; margin-bottom:10px;\">Solapur Doctors Directory</h3></a></li><li><a href=\"list-doctors.php?state=Haryana&amp;city=Sonipat\" title=\"Sonipat Doctors Directory\"><h3 style=\"color:#FFFFFF; font-size:12px; margin-top:10px; margin-bottom:10px;\">Sonipat Doctors Directory</h3></a></li><li><a href=\"list-doctors.php?state=Rajasthan&amp;city=Sri%20Ganganagar\" title=\"Sri Ganganagar Doctors Directory\"><h3 style=\"color:#FFFFFF; font-size:12px; margin-top:10px; margin-bottom:10px;\">Sri Ganganagar Doctors Directory</h3></a></li><li><a href=\"list-doctors.php?state=Jammu%20and%20Kashmir&amp;city=Srinagar\" title=\"Srinagar Doctors Directory\"><h3 style=\"color:#FFFFFF; font-size:12px; margin-top:10px; margin-bottom:10px;\">Srinagar Doctors Directory</h3></a></li><li><a href=\"list-doctors.php?state=Delhi&amp;city=North%20West%20Delhi&amp;geoarea=Sultanpur%20Majra\" title=\"Sultanpur Majra Doctors Directory\"><h3 style=\"color:#FFFFFF; font-size:12px; margin-top:10px; margin-bottom:10px;\">Sultanpur Majra Doctors Directory</h3></a></li><li><a href=\"list-doctors.php?state=Gujarat&amp;city=Surat\" title=\"Surat Doctors Directory\"><h3 style=\"color:#FFFFFF; font-size:12px; margin-top:10px; margin-bottom:10px;\">Surat Doctors Directory</h3></a></li><li><a href=\"list-doctors.php?state=Gujarat&amp;city=Surendranagar\" title=\"Surendranagar Doctors Directory\"><h3 style=\"color:#FFFFFF; font-size:12px; margin-top:10px; margin-bottom:10px;\">Surendranagar Doctors Directory</h3></a></li><li><a href=\"list-doctors.php?state=Tamil%20Nadu&amp;city=Chennai&amp;geoarea=Tambaram\" title=\"Tambaram Doctors Directory\"><h3 style=\"color:#FFFFFF; font-size:12px; margin-top:10px; margin-bottom:10px;\">Tambaram Doctors Directory</h3></a></li><li><a href=\"list-doctors.php?state=Andhra%20Pradesh&amp;city=Guntur&amp;geoarea=Tenali\" title=\"Tenali Doctors Directory\"><h3 style=\"color:#FFFFFF; font-size:12px; margin-top:10px; margin-bottom:10px;\">Tenali Doctors Directory</h3></a></li><li><a href=\"list-doctors.php?state=Maharashtra&amp;city=Thane\" title=\"Thane Doctors Directory\"><h3 style=\"color:#FFFFFF; font-size:12px; margin-top:10px; margin-bottom:10px;\">Thane Doctors Directory</h3></a></li><li><a href=\"list-doctors.php?state=Tamil%20Nadu&amp;city=Thanjavur\" title=\"Thanjavur Doctors Directory\"><h3 style=\"color:#FFFFFF; font-size:12px; margin-top:10px; margin-bottom:10px;\">Thanjavur Doctors Directory</h3></a></li><li><a href=\"list-doctors.php?state=Tamil%20Nadu&amp;city=Chennai&amp;geoarea=Tiruvottiyur\" title=\"Tiruvottiyur Doctors Directory\"><h3 style=\"color:#FFFFFF; font-size:12px; margin-top:10px; margin-bottom:10px;\">Tiruvottiyur Doctors Directory</h3></a></li><li><a href=\"list-doctors.php?state=Tamil%20Nadu&amp;city=Thoothukudi\" title=\"Thoothukudi Doctors Directory\"><h3 style=\"color:#FFFFFF; font-size:12px; margin-top:10px; margin-bottom:10px;\">Thoothukudi Doctors Directory</h3></a></li><li><a href=\"list-doctors.php?state=Kerala&amp;city=Thrissur\" title=\"Thrissur Doctors Directory\"><h3 style=\"color:#FFFFFF; font-size:12px; margin-top:10px; margin-bottom:10px;\">Thrissur Doctors Directory</h3></a></li><li><a href=\"list-doctors.php?state=Tamil%20Nadu&amp;city=Tiruchirappalli\" title=\"Tiruchirappalli Doctors Directory\"><h3 style=\"color:#FFFFFF; font-size:12px; margin-top:10px; margin-bottom:10px;\">Tiruchirappalli Doctors Directory</h3></a></li><li><a href=\"list-doctors.php?state=Tamil%20Nadu&amp;city=Tirunelveli\" title=\"Tirunelveli Doctors Directory\"><h3 style=\"color:#FFFFFF; font-size:12px; margin-top:10px; margin-bottom:10px;\">Tirunelveli Doctors Directory</h3></a></li><li><a href=\"list-doctors.php?state=Andhra%20Pradesh&amp;city=Chittoor&amp;geoarea=Tirupati\" title=\"Tirupati Doctors Directory\"><h3 style=\"color:#FFFFFF; font-size:12px; margin-top:10px; margin-bottom:10px;\">Tirupati Doctors Directory</h3></a></li><li><a href=\"list-doctors.php?state=Tamil%20Nadu&amp;city=Tiruppur\" title=\"Tiruppur Doctors Directory\"><h3 style=\"color:#FFFFFF; font-size:12px; margin-top:10px; margin-bottom:10px;\">Tiruppur Doctors Directory</h3></a></li><li><a href=\"list-doctors.php?state=Rajasthan&amp;city=Tonk\" title=\"Tonk Doctors Directory\"><h3 style=\"color:#FFFFFF; font-size:12px; margin-top:10px; margin-bottom:10px;\">Tonk Doctors Directory</h3></a></li><li><a href=\"list-doctors.php?state=Kerala&amp;city=Thiruvananthapuram\" title=\"Thiruvananthapuram Doctors Directory\"><h3 style=\"color:#FFFFFF; font-size:12px; margin-top:10px; margin-bottom:10px;\">Trivandrum Doctors Directory</h3></a></li><li><a href=\"list-doctors.php?state=Karnataka&amp;city=Tumkur\" title=\"Tumkur Doctors Directory\"><h3 style=\"color:#FFFFFF; font-size:12px; margin-top:10px; margin-bottom:10px;\">Tumkur Doctors Directory</h3></a></li><li><a href=\"list-doctors.php?state=Rajasthan&amp;city=Udaipur\" title=\"Udaipur Doctors Directory\"><h3 style=\"color:#FFFFFF; font-size:12px; margin-top:10px; margin-bottom:10px;\">Udaipur Doctors Directory</h3></a></li><li><a href=\"list-doctors.php?state=Madhya%20Pradesh&amp;city=Ujjain\" title=\"Ujjain Doctors Directory\"><h3 style=\"color:#FFFFFF; font-size:12px; margin-top:10px; margin-bottom:10px;\">Ujjain Doctors Directory</h3></a></li><li><a href=\"list-doctors.php?state=Maharashtra&amp;city=Thane&amp;geoarea=Ulhasnagar\" title=\"Ulhasnagar Doctors Directory\"><h3 style=\"color:#FFFFFF; font-size:12px; margin-top:10px; margin-bottom:10px;\">Ulhasnagar Doctors Directory</h3></a></li><li><a href=\"list-doctors.php?state=West%20Bengal&amp;city=Howrah&amp;geoarea=Uluberia-I\" title=\"Uluberia Doctors Directory\"><h3 style=\"color:#FFFFFF; font-size:12px; margin-top:10px; margin-bottom:10px;\">Uluberia Doctors Directory</h3></a></li><li><a href=\"list-doctors.php?state=Uttar%20Pradesh&amp;city=Unnao\" title=\"Unnao Doctors Directory\"><h3 style=\"color:#FFFFFF; font-size:12px; margin-top:10px; margin-bottom:10px;\">Unnao Doctors Directory</h3></a></li><li><a href=\"list-doctors.php?state=West%20Bengal&amp;city=Hooghly&amp;geoarea=Uttarpara\" title=\"Uttarpara Doctors Directory\"><h3 style=\"color:#FFFFFF; font-size:12px; margin-top:10px; margin-bottom:10px;\">Uttarpara Doctors Directory</h3></a></li><li><a href=\"list-doctors.php?state=Gujarat&amp;city=Vadodara\" title=\"Vadodara Doctors Directory\"><h3 style=\"color:#FFFFFF; font-size:12px; margin-top:10px; margin-bottom:10px;\">Vadodara Doctors Directory</h3></a></li><li><a href=\"list-doctors.php?state=Gujarat&amp;city=Valsad&amp;geoarea=Vapi\" title=\"Vapi Doctors Directory\"><h3 style=\"color:#FFFFFF; font-size:12px; margin-top:10px; margin-bottom:10px;\">Vapi Doctors Directory</h3></a></li><li><a href=\"list-doctors.php?state=Uttar%20Pradesh&amp;city=Varanasi\" title=\"Varanasi Doctors Directory\"><h3 style=\"color:#FFFFFF; font-size:12px; margin-top:10px; margin-bottom:10px;\">Varanasi Doctors Directory</h3></a></li><li><a href=\"list-doctors.php?state=Maharashtra&amp;city=Palghar&amp;geoarea=Vasai%20East\" title=\"Vasai Doctors Directory\"><h3 style=\"color:#FFFFFF; font-size:12px; margin-top:10px; margin-bottom:10px;\">Vasai Doctors Directory</h3></a></li><li><a href=\"list-doctors.php?state=Tamil%20Nadu&amp;city=Vellore\" title=\"Vellore Doctors Directory\"><h3 style=\"color:#FFFFFF; font-size:12px; margin-top:10px; margin-bottom:10px;\">Vellore Doctors Directory</h3></a></li><li><a href=\"list-doctors.php?state=Madhya%20Pradesh&amp;city=Vidisha\" title=\"Vidisha Doctors Directory\"><h3 style=\"color:#FFFFFF; font-size:12px; margin-top:10px; margin-bottom:10px;\">Vidisha Doctors Directory</h3></a></li><li><a href=\"list-doctors.php?state=Andhra%20Pradesh&amp;city=Krishna&amp;geoarea=Vijayawada\" title=\"Vijayawada Doctors Directory\"><h3 style=\"color:#FFFFFF; font-size:12px; margin-top:10px; margin-bottom:10px;\">Vijayawada Doctors Directory</h3></a></li><li><a href=\"list-doctors.php?state=Maharashtra&amp;city=Palghar&amp;geoarea=Virar%20East\" title=\"Virar Doctors Directory\"><h3 style=\"color:#FFFFFF; font-size:12px; margin-top:10px; margin-bottom:10px;\">Virar Doctors Directory</h3></a></li><li><a href=\"list-doctors.php?state=Andhra%20Pradesh&amp;city=Visakhapatnam\" title=\"Visakhapatnam Doctors Directory\"><h3 style=\"color:#FFFFFF; font-size:12px; margin-top:10px; margin-bottom:10px;\">Visakhapatnam Doctors Directory</h3></a></li><li><a href=\"list-doctors.php?state=Andhra%20Pradesh&amp;city=Vizianagaram\" title=\"Vizianagaram Doctors Directory\"><h3 style=\"color:#FFFFFF; font-size:12px; margin-top:10px; margin-bottom:10px;\">Vizianagaram Doctors Directory</h3></a></li><li><a href=\"list-doctors.php?state=Telangana&amp;city=Warangal%20(Urban)\" title=\"Warangal Doctors Directory\"><h3 style=\"color:#FFFFFF; font-size:12px; margin-top:10px; margin-bottom:10px;\">Warangal Doctors Directory</h3></a></li><li><a href=\"list-doctors.php?state=Haryana&amp;city=Yamuna%20Nagar\" title=\"Yamuna Nagar Doctors Directory\"><h3 style=\"color:#FFFFFF; font-size:12px; margin-top:10px; margin-bottom:10px;\">Yamunanagar Doctors Directory</h3></a></li></ul></div></div></div></div></div> <div class=\"form-control-static\"> <div class=\"row\"> <div align=\"center\" class=\"col-lg-12 pull-center\" style=\"margin-top:2px; margin-bottom:1px;\"> <a href=\"https://www.facebook.com/drdata.in\" target=\"_blank\" title=\"Follow DrData on Facebook\"><img alt=\"follow drdata on facebook\" border=\"0\" src=\"images/facebook36x36.png\" title=\"Indian Medical Directory\"/></a><a href=\"https://www.twitter.com/drdata_in\" target=\"_blank\" title=\"Follow DrData on Twitter\"><img alt=\"follow drdata on twitter\" border=\"0\" src=\"images/twitter36x36.png\" title=\"Indian Medical Directory\"/></a><a href=\"https://www.instagram.com/drdata.in\" target=\"_blank\" title=\"Follow DrData on Instagram\"><img alt=\"follow drdata on instagram\" border=\"0\" src=\"images/instagram36x36.png\" title=\"Indian Medical Directory\"/></a><a href=\"https://www.linkedin.com/company-beta/13372131/\" target=\"_blank\" title=\"Follow DrData on Linkedin\"><img alt=\"follow drdata on linkedin\" border=\"0\" src=\"images/linkedin36x36.png\" title=\"Indian Medical Directory\"/></a><a href=\"https://plus.google.com/+DrdataIndoctordirectoryindia\" target=\"_blank\" title=\"Follow DrData on Google Plus\"><img alt=\"follow drdata on google plus\" border=\"0\" src=\"images/googleplus36x36.png\" title=\"Indian Medical Directory\"/></a> </div> <div align=\"center\" class=\"col-lg-12 pull-center visible-lg visible-md visible-sm\"><a style=\"color:#666666\"> <strong>DrData - Indian Medical Directory</strong><br/>Promoted By DDirect Communicare Private Limited © 2017 - DRDATA.IN All Rights Reserved</a> </div> <div align=\"center\" class=\"col-lg-12 pull-center visible-xs\"><a style=\"color:#666666\"> <strong>DrData - Indian Medical Directory</strong><br/>Promoted By<br/>DDirect Communicare Private Limited<br/>© 2017 - DRDATA.IN All Rights Reserved</a> </div> </div> </div></footer> </div> </div> <script src=\"slider/chns/scripts/jquery-1.9.0.min.js\" type=\"text/javascript\"></script><script type=\"text/javascript\">function newPopup(url){popupWindow=window.open(url,'popUpWindow','height=500,width=600,left=10,top=10,resizable=yes,scrollbars=yes,toolbar=yes,menubar=no,location=no,directories=no,status=yes')}</script><script src=\"js/chns.min.js\"></script><script src=\"//s7.addthis.com/js/300/addthis_widget.js#pubid=ra-599ca039f3fbb5bc\" type=\"text/javascript\"></script><button id=\"myBtn\" onclick=\"topFunction()\" title=\"Go to top\">Top</button><script>window.onscroll=function(){scrollFunction()};function scrollFunction(){if(document.body.scrollTop>20||document.documentElement.scrollTop>20){document.getElementById(\"myBtn\").style.display=\"block\"}else{document.getElementById(\"myBtn\").style.display=\"none\"}}\n",
              "function topFunction(){document.body.scrollTop=0;document.documentElement.scrollTop=0}</script></body></html>"
            ]
          },
          "metadata": {},
          "execution_count": 57
        }
      ]
    },
    {
      "cell_type": "code",
      "metadata": {
        "id": "vMnpczOfMfwj"
      },
      "source": [
        "phone_1=soup.find(\"table\",{\"class\":\"table-bordered table-striped table-condensed cf\"})"
      ],
      "execution_count": null,
      "outputs": []
    },
    {
      "cell_type": "code",
      "metadata": {
        "colab": {
          "base_uri": "https://localhost:8080/"
        },
        "id": "Xmch539MNlag",
        "outputId": "9612bc72-66fc-45ea-ca2d-699b0ef388b7"
      },
      "source": [
        "phone_1"
      ],
      "execution_count": null,
      "outputs": [
        {
          "output_type": "execute_result",
          "data": {
            "text/plain": [
              "<table class=\"table-bordered table-striped table-condensed cf\" style=\"width:100%; margin-top:2px; font-size:14px;\"> <thead class=\"cf\" style=\"width:100%\"> <tr> <th style=\"background-color:#1DA1F2; color:#FFF;\"><strong>Name of Doctor</strong></th> <th style=\"background-color:#1DA1F2; color:#FFF;\"><strong>Specialization</strong></th> <th style=\"background-color:#1DA1F2; color:#FFF;\"><strong>Degree</strong></th> <th style=\"background-color:#1DA1F2; color:#FFF;\"><strong>State</strong></th> <th style=\"background-color:#1DA1F2; color:#FFF;\"><strong>City</strong></th> <th style=\"background-color:#1DA1F2; color:#FFF;\"><strong>Details</strong></th> </tr> </thead> <tbody> <tr> <td data-title=\"Name\" valign=\"top\">Dr. Achwal Suvarna</td> <td data-title=\"Special.\" valign=\"top\">Gynaecologist</td> <td data-title=\"Degree\" valign=\"top\">MBBS, DGO</td> <td data-title=\"State\" valign=\"top\">Madhya Pradesh </td> <td data-title=\"City\" valign=\"top\">Sagar </td> <td data-title=\"Details\" valign=\"top\"> <a href=\"drachwalbina\" title=\"Dr. Achwal Suvarna Profile Page\"><button class=\"btn btn-info\" type=\"button\">Connect Profile ❯❯</button></a> </td> </tr> <tr> <td data-title=\"Name\" valign=\"top\">Dr. Agarwal Priyank</td> <td data-title=\"Special.\" valign=\"top\">Orthopaedic Surgeon</td> <td data-title=\"Degree\" valign=\"top\">MBBS, MS (Ortho)</td> <td data-title=\"State\" valign=\"top\">Madhya Pradesh </td> <td data-title=\"City\" valign=\"top\">Sagar </td> <td data-title=\"Details\" valign=\"top\"> <a href=\"drpriyankagarwalbina\" title=\"Dr. Agarwal Priyank Profile Page\"><button class=\"btn btn-info\" type=\"button\">Connect Profile ❯❯</button></a> </td> </tr> <tr> <td data-title=\"Name\" valign=\"top\">Dr. Aggarwal Supriya</td> <td data-title=\"Special.\" valign=\"top\">ENT Surgeon</td> <td data-title=\"Degree\" valign=\"top\">MBBS, DLO</td> <td data-title=\"State\" valign=\"top\">Madhya Pradesh </td> <td data-title=\"City\" valign=\"top\">Rewa </td> <td data-title=\"Details\" valign=\"top\"> <a href=\"drsupriyaaggarwal\" title=\"Dr. Aggarwal Supriya Profile Page\"><button class=\"btn btn-info\" type=\"button\">Connect Profile ❯❯</button></a> </td> </tr> <tr> <td data-title=\"Name\" valign=\"top\">Dr. Agnihotri Basant Kumar </td> <td data-title=\"Special.\" valign=\"top\">Paediatrician</td> <td data-title=\"Degree\" valign=\"top\">MBBS, MD (Paediatrics)</td> <td data-title=\"State\" valign=\"top\">Madhya Pradesh </td> <td data-title=\"City\" valign=\"top\">Rewa </td> <td data-title=\"Details\" valign=\"top\"> <a href=\"drbasantagnihotri\" title=\"Dr. Agnihotri Basant Kumar Profile Page\"><button class=\"btn btn-info\" type=\"button\">Connect Profile ❯❯</button></a> </td> </tr> <tr> <td data-title=\"Name\" valign=\"top\">Dr. Agrawal Arun Kumar </td> <td data-title=\"Special.\" valign=\"top\">Ophthalmologist</td> <td data-title=\"Degree\" valign=\"top\">MBBS, MS (Ophthalmology)</td> <td data-title=\"State\" valign=\"top\">Madhya Pradesh </td> <td data-title=\"City\" valign=\"top\">Rewa </td> <td data-title=\"Details\" valign=\"top\"> <a href=\"drarunagrawalrewa\" title=\"Dr. Agrawal Arun Kumar Profile Page\"><button class=\"btn btn-info\" type=\"button\">Connect Profile ❯❯</button></a> </td> </tr> <tr> <td data-title=\"Name\" valign=\"top\">Dr. Agrawal Ashutosh </td> <td data-title=\"Special.\" valign=\"top\">Radiologist</td> <td data-title=\"Degree\" valign=\"top\">MBBS, DMRD</td> <td data-title=\"State\" valign=\"top\">Madhya Pradesh </td> <td data-title=\"City\" valign=\"top\">Rewa </td> <td data-title=\"Details\" valign=\"top\"> <a href=\"drashutoshagrawal\" title=\"Dr. Agrawal Ashutosh Profile Page\"><button class=\"btn btn-info\" type=\"button\">Connect Profile ❯❯</button></a> </td> </tr> <tr> <td data-title=\"Name\" valign=\"top\">Dr. Agrawal Deepak </td> <td data-title=\"Special.\" valign=\"top\">Surgeon (MS General Surgery)</td> <td data-title=\"Degree\" valign=\"top\">MBBS, MS (Gen. Surg.)</td> <td data-title=\"State\" valign=\"top\">Madhya Pradesh </td> <td data-title=\"City\" valign=\"top\">Rewa </td> <td data-title=\"Details\" valign=\"top\"> <a href=\"drdeepakagrawal\" title=\"Dr. Agrawal Deepak Profile Page\"><button class=\"btn btn-info\" type=\"button\">Connect Profile ❯❯</button></a> </td> </tr> <tr> <td data-title=\"Name\" valign=\"top\">Dr. Agrawal Himanshu </td> <td data-title=\"Special.\" valign=\"top\">Ophthalmologist</td> <td data-title=\"Degree\" valign=\"top\">MBBS, MS (Ophthalmology)</td> <td data-title=\"State\" valign=\"top\">Madhya Pradesh </td> <td data-title=\"City\" valign=\"top\">Satna </td> <td data-title=\"Details\" valign=\"top\"> <a href=\"drhimanshuagrawal\" title=\"Dr. Agrawal Himanshu Profile Page\"><button class=\"btn btn-info\" type=\"button\">Connect Profile ❯❯</button></a> </td> </tr> <tr> <td data-title=\"Name\" valign=\"top\">Dr. Agrawal Nisha </td> <td data-title=\"Special.\" valign=\"top\">Gynaecologist</td> <td data-title=\"Degree\" valign=\"top\">MBBS, DGO</td> <td data-title=\"State\" valign=\"top\">Madhya Pradesh </td> <td data-title=\"City\" valign=\"top\">Rewa </td> <td data-title=\"Details\" valign=\"top\"> <a href=\"drnishaagrawalrewa\" title=\"Dr. Agrawal Nisha Profile Page\"><button class=\"btn btn-info\" type=\"button\">Connect Profile ❯❯</button></a> </td> </tr> <tr> <td data-title=\"Name\" valign=\"top\">Dr. Agrawal Shanu</td> <td data-title=\"Special.\" valign=\"top\">Gynaecologist</td> <td data-title=\"Degree\" valign=\"top\">MBBS, DGO</td> <td data-title=\"State\" valign=\"top\">Madhya Pradesh </td> <td data-title=\"City\" valign=\"top\">Katni </td> <td data-title=\"Details\" valign=\"top\"> <a href=\"drshanuagrawal\" title=\"Dr. Agrawal Shanu Profile Page\"><button class=\"btn btn-info\" type=\"button\">Connect Profile ❯❯</button></a> </td> </tr> <tr> <td data-title=\"Name\" valign=\"top\">Dr. Asati Pranav</td> <td data-title=\"Special.\" valign=\"top\">Dental Surgeon</td> <td data-title=\"Degree\" valign=\"top\">BDS, MDS (Oral &amp; Maxillofacial Surgery)</td> <td data-title=\"State\" valign=\"top\">Madhya Pradesh </td> <td data-title=\"City\" valign=\"top\">Jabalpur </td> <td data-title=\"Details\" valign=\"top\"> <a href=\"pranavasati\" title=\"Dr. Asati Pranav Profile Page\"><button class=\"btn btn-info\" type=\"button\">Connect Profile ❯❯</button></a> </td> </tr> <tr> <td data-title=\"Name\" valign=\"top\">Dr. Asrani Sumit</td> <td data-title=\"Special.\" valign=\"top\">Dental Surgeon</td> <td data-title=\"Degree\" valign=\"top\">BDS, MDS (Oral &amp; Maxillofacial Surgery)</td> <td data-title=\"State\" valign=\"top\">Madhya Pradesh </td> <td data-title=\"City\" valign=\"top\">Jabalpur </td> <td data-title=\"Details\" valign=\"top\"> <a href=\"asranisumit\" title=\"Dr. Asrani Sumit Profile Page\"><button class=\"btn btn-info\" type=\"button\">Connect Profile ❯❯</button></a> </td> </tr> <tr> <td data-title=\"Name\" valign=\"top\">Dr. Baghel Satyendra Singh</td> <td data-title=\"Special.\" valign=\"top\">AYUSH Doctor</td> <td data-title=\"Degree\" valign=\"top\">DHB, BHMS, CSD</td> <td data-title=\"State\" valign=\"top\">Madhya Pradesh </td> <td data-title=\"City\" valign=\"top\">Jabalpur </td> <td data-title=\"Details\" valign=\"top\"> <a href=\"drssbaghel\" title=\"Dr. Baghel Satyendra Singh Profile Page\"><button class=\"btn btn-info\" type=\"button\">Connect Profile ❯❯</button></a> </td> </tr> <tr> <td data-title=\"Name\" valign=\"top\">Dr. Baghel Yadvendra Singh </td> <td data-title=\"Special.\" valign=\"top\">ENT Surgeon</td> <td data-title=\"Degree\" valign=\"top\">MBBS, DLO</td> <td data-title=\"State\" valign=\"top\">Madhya Pradesh </td> <td data-title=\"City\" valign=\"top\">Rewa </td> <td data-title=\"Details\" valign=\"top\"> <a href=\"drysbaghelrewa\" title=\"Dr. Baghel Yadvendra Singh Profile Page\"><button class=\"btn btn-info\" type=\"button\">Connect Profile ❯❯</button></a> </td> </tr> <tr> <td data-title=\"Name\" valign=\"top\">Dr. Bansal Amardeep Singh</td> <td data-title=\"Special.\" valign=\"top\">Gastro Surgeon</td> <td data-title=\"Degree\" valign=\"top\">MBBS, MS, FIAGES, Diploma in Minimal Access Surgery, FAIS</td> <td data-title=\"State\" valign=\"top\">Madhya Pradesh </td> <td data-title=\"City\" valign=\"top\">Jabalpur </td> <td data-title=\"Details\" valign=\"top\"> <a href=\"drasbansal\" title=\"Dr. Bansal Amardeep Singh Profile Page\"><button class=\"btn btn-info\" type=\"button\">Connect Profile ❯❯</button></a> </td> </tr> <input id=\"pri_con_id\" name=\"pri_con_id\" type=\"hidden\"/> <input id=\"pri_view_icon_id\" name=\"pri_view_icon_id\" type=\"hidden\"/> </tbody> </table>"
            ]
          },
          "metadata": {},
          "execution_count": 59
        }
      ]
    },
    {
      "cell_type": "code",
      "metadata": {
        "id": "6oNtIjx7Mfzy"
      },
      "source": [
        "x=phone_1.find_all(\"td\",{\"data-title\":\"Phone Number\"})\n",
        "  "
      ],
      "execution_count": null,
      "outputs": []
    },
    {
      "cell_type": "code",
      "metadata": {
        "colab": {
          "base_uri": "https://localhost:8080/"
        },
        "id": "EDe0HlwpfAEt",
        "outputId": "da4f59f2-f163-4bf5-c496-2804bdf12205"
      },
      "source": [
        "x"
      ],
      "execution_count": null,
      "outputs": [
        {
          "output_type": "execute_result",
          "data": {
            "text/plain": [
              "[]"
            ]
          },
          "metadata": {},
          "execution_count": 61
        }
      ]
    },
    {
      "cell_type": "code",
      "metadata": {
        "id": "k-m9pmZcfABR"
      },
      "source": [
        "\n",
        "\n",
        "\n"
      ],
      "execution_count": null,
      "outputs": []
    },
    {
      "cell_type": "code",
      "metadata": {
        "id": "IVC1ETJhe_3I"
      },
      "source": [
        ""
      ],
      "execution_count": null,
      "outputs": []
    },
    {
      "cell_type": "code",
      "metadata": {
        "id": "gtLhYyZBe_zZ"
      },
      "source": [
        ""
      ],
      "execution_count": null,
      "outputs": []
    },
    {
      "cell_type": "code",
      "metadata": {
        "id": "-Rwc9Hrxe_wo"
      },
      "source": [
        ""
      ],
      "execution_count": null,
      "outputs": []
    },
    {
      "cell_type": "code",
      "metadata": {
        "id": "LXU0KggvMf3W",
        "colab": {
          "base_uri": "https://localhost:8080/"
        },
        "outputId": "639fefc9-d346-4700-a4d1-1650f07f4d05"
      },
      "source": [
        "for i in phone_1.find_all(\"tbody\"):\n",
        "  rows=i.find_all(\"tr\")\n",
        "  print(rows)\n",
        "\n",
        "  "
      ],
      "execution_count": null,
      "outputs": [
        {
          "output_type": "stream",
          "name": "stdout",
          "text": [
            "[<tr> <td data-title=\"Name\" valign=\"top\">Dr. Achwal Suvarna</td> <td data-title=\"Special.\" valign=\"top\">Gynaecologist</td> <td data-title=\"Degree\" valign=\"top\">MBBS, DGO</td> <td data-title=\"State\" valign=\"top\">Madhya Pradesh </td> <td data-title=\"City\" valign=\"top\">Sagar </td> <td data-title=\"Details\" valign=\"top\"> <a href=\"drachwalbina\" title=\"Dr. Achwal Suvarna Profile Page\"><button class=\"btn btn-info\" type=\"button\">Connect Profile ❯❯</button></a> </td> </tr>, <tr> <td data-title=\"Name\" valign=\"top\">Dr. Agarwal Priyank</td> <td data-title=\"Special.\" valign=\"top\">Orthopaedic Surgeon</td> <td data-title=\"Degree\" valign=\"top\">MBBS, MS (Ortho)</td> <td data-title=\"State\" valign=\"top\">Madhya Pradesh </td> <td data-title=\"City\" valign=\"top\">Sagar </td> <td data-title=\"Details\" valign=\"top\"> <a href=\"drpriyankagarwalbina\" title=\"Dr. Agarwal Priyank Profile Page\"><button class=\"btn btn-info\" type=\"button\">Connect Profile ❯❯</button></a> </td> </tr>, <tr> <td data-title=\"Name\" valign=\"top\">Dr. Aggarwal Supriya</td> <td data-title=\"Special.\" valign=\"top\">ENT Surgeon</td> <td data-title=\"Degree\" valign=\"top\">MBBS, DLO</td> <td data-title=\"State\" valign=\"top\">Madhya Pradesh </td> <td data-title=\"City\" valign=\"top\">Rewa </td> <td data-title=\"Details\" valign=\"top\"> <a href=\"drsupriyaaggarwal\" title=\"Dr. Aggarwal Supriya Profile Page\"><button class=\"btn btn-info\" type=\"button\">Connect Profile ❯❯</button></a> </td> </tr>, <tr> <td data-title=\"Name\" valign=\"top\">Dr. Agnihotri Basant Kumar </td> <td data-title=\"Special.\" valign=\"top\">Paediatrician</td> <td data-title=\"Degree\" valign=\"top\">MBBS, MD (Paediatrics)</td> <td data-title=\"State\" valign=\"top\">Madhya Pradesh </td> <td data-title=\"City\" valign=\"top\">Rewa </td> <td data-title=\"Details\" valign=\"top\"> <a href=\"drbasantagnihotri\" title=\"Dr. Agnihotri Basant Kumar Profile Page\"><button class=\"btn btn-info\" type=\"button\">Connect Profile ❯❯</button></a> </td> </tr>, <tr> <td data-title=\"Name\" valign=\"top\">Dr. Agrawal Arun Kumar </td> <td data-title=\"Special.\" valign=\"top\">Ophthalmologist</td> <td data-title=\"Degree\" valign=\"top\">MBBS, MS (Ophthalmology)</td> <td data-title=\"State\" valign=\"top\">Madhya Pradesh </td> <td data-title=\"City\" valign=\"top\">Rewa </td> <td data-title=\"Details\" valign=\"top\"> <a href=\"drarunagrawalrewa\" title=\"Dr. Agrawal Arun Kumar Profile Page\"><button class=\"btn btn-info\" type=\"button\">Connect Profile ❯❯</button></a> </td> </tr>, <tr> <td data-title=\"Name\" valign=\"top\">Dr. Agrawal Ashutosh </td> <td data-title=\"Special.\" valign=\"top\">Radiologist</td> <td data-title=\"Degree\" valign=\"top\">MBBS, DMRD</td> <td data-title=\"State\" valign=\"top\">Madhya Pradesh </td> <td data-title=\"City\" valign=\"top\">Rewa </td> <td data-title=\"Details\" valign=\"top\"> <a href=\"drashutoshagrawal\" title=\"Dr. Agrawal Ashutosh Profile Page\"><button class=\"btn btn-info\" type=\"button\">Connect Profile ❯❯</button></a> </td> </tr>, <tr> <td data-title=\"Name\" valign=\"top\">Dr. Agrawal Deepak </td> <td data-title=\"Special.\" valign=\"top\">Surgeon (MS General Surgery)</td> <td data-title=\"Degree\" valign=\"top\">MBBS, MS (Gen. Surg.)</td> <td data-title=\"State\" valign=\"top\">Madhya Pradesh </td> <td data-title=\"City\" valign=\"top\">Rewa </td> <td data-title=\"Details\" valign=\"top\"> <a href=\"drdeepakagrawal\" title=\"Dr. Agrawal Deepak Profile Page\"><button class=\"btn btn-info\" type=\"button\">Connect Profile ❯❯</button></a> </td> </tr>, <tr> <td data-title=\"Name\" valign=\"top\">Dr. Agrawal Himanshu </td> <td data-title=\"Special.\" valign=\"top\">Ophthalmologist</td> <td data-title=\"Degree\" valign=\"top\">MBBS, MS (Ophthalmology)</td> <td data-title=\"State\" valign=\"top\">Madhya Pradesh </td> <td data-title=\"City\" valign=\"top\">Satna </td> <td data-title=\"Details\" valign=\"top\"> <a href=\"drhimanshuagrawal\" title=\"Dr. Agrawal Himanshu Profile Page\"><button class=\"btn btn-info\" type=\"button\">Connect Profile ❯❯</button></a> </td> </tr>, <tr> <td data-title=\"Name\" valign=\"top\">Dr. Agrawal Nisha </td> <td data-title=\"Special.\" valign=\"top\">Gynaecologist</td> <td data-title=\"Degree\" valign=\"top\">MBBS, DGO</td> <td data-title=\"State\" valign=\"top\">Madhya Pradesh </td> <td data-title=\"City\" valign=\"top\">Rewa </td> <td data-title=\"Details\" valign=\"top\"> <a href=\"drnishaagrawalrewa\" title=\"Dr. Agrawal Nisha Profile Page\"><button class=\"btn btn-info\" type=\"button\">Connect Profile ❯❯</button></a> </td> </tr>, <tr> <td data-title=\"Name\" valign=\"top\">Dr. Agrawal Shanu</td> <td data-title=\"Special.\" valign=\"top\">Gynaecologist</td> <td data-title=\"Degree\" valign=\"top\">MBBS, DGO</td> <td data-title=\"State\" valign=\"top\">Madhya Pradesh </td> <td data-title=\"City\" valign=\"top\">Katni </td> <td data-title=\"Details\" valign=\"top\"> <a href=\"drshanuagrawal\" title=\"Dr. Agrawal Shanu Profile Page\"><button class=\"btn btn-info\" type=\"button\">Connect Profile ❯❯</button></a> </td> </tr>, <tr> <td data-title=\"Name\" valign=\"top\">Dr. Asati Pranav</td> <td data-title=\"Special.\" valign=\"top\">Dental Surgeon</td> <td data-title=\"Degree\" valign=\"top\">BDS, MDS (Oral &amp; Maxillofacial Surgery)</td> <td data-title=\"State\" valign=\"top\">Madhya Pradesh </td> <td data-title=\"City\" valign=\"top\">Jabalpur </td> <td data-title=\"Details\" valign=\"top\"> <a href=\"pranavasati\" title=\"Dr. Asati Pranav Profile Page\"><button class=\"btn btn-info\" type=\"button\">Connect Profile ❯❯</button></a> </td> </tr>, <tr> <td data-title=\"Name\" valign=\"top\">Dr. Asrani Sumit</td> <td data-title=\"Special.\" valign=\"top\">Dental Surgeon</td> <td data-title=\"Degree\" valign=\"top\">BDS, MDS (Oral &amp; Maxillofacial Surgery)</td> <td data-title=\"State\" valign=\"top\">Madhya Pradesh </td> <td data-title=\"City\" valign=\"top\">Jabalpur </td> <td data-title=\"Details\" valign=\"top\"> <a href=\"asranisumit\" title=\"Dr. Asrani Sumit Profile Page\"><button class=\"btn btn-info\" type=\"button\">Connect Profile ❯❯</button></a> </td> </tr>, <tr> <td data-title=\"Name\" valign=\"top\">Dr. Baghel Satyendra Singh</td> <td data-title=\"Special.\" valign=\"top\">AYUSH Doctor</td> <td data-title=\"Degree\" valign=\"top\">DHB, BHMS, CSD</td> <td data-title=\"State\" valign=\"top\">Madhya Pradesh </td> <td data-title=\"City\" valign=\"top\">Jabalpur </td> <td data-title=\"Details\" valign=\"top\"> <a href=\"drssbaghel\" title=\"Dr. Baghel Satyendra Singh Profile Page\"><button class=\"btn btn-info\" type=\"button\">Connect Profile ❯❯</button></a> </td> </tr>, <tr> <td data-title=\"Name\" valign=\"top\">Dr. Baghel Yadvendra Singh </td> <td data-title=\"Special.\" valign=\"top\">ENT Surgeon</td> <td data-title=\"Degree\" valign=\"top\">MBBS, DLO</td> <td data-title=\"State\" valign=\"top\">Madhya Pradesh </td> <td data-title=\"City\" valign=\"top\">Rewa </td> <td data-title=\"Details\" valign=\"top\"> <a href=\"drysbaghelrewa\" title=\"Dr. Baghel Yadvendra Singh Profile Page\"><button class=\"btn btn-info\" type=\"button\">Connect Profile ❯❯</button></a> </td> </tr>, <tr> <td data-title=\"Name\" valign=\"top\">Dr. Bansal Amardeep Singh</td> <td data-title=\"Special.\" valign=\"top\">Gastro Surgeon</td> <td data-title=\"Degree\" valign=\"top\">MBBS, MS, FIAGES, Diploma in Minimal Access Surgery, FAIS</td> <td data-title=\"State\" valign=\"top\">Madhya Pradesh </td> <td data-title=\"City\" valign=\"top\">Jabalpur </td> <td data-title=\"Details\" valign=\"top\"> <a href=\"drasbansal\" title=\"Dr. Bansal Amardeep Singh Profile Page\"><button class=\"btn btn-info\" type=\"button\">Connect Profile ❯❯</button></a> </td> </tr>]\n"
          ]
        }
      ]
    },
    {
      "cell_type": "code",
      "metadata": {
        "id": "OuvMtLwoMf69",
        "colab": {
          "base_uri": "https://localhost:8080/"
        },
        "outputId": "b23f488c-5781-4a20-c8da-9535f8506026"
      },
      "source": [
        "for row in rows:\n",
        "  number=row.find(\"td\")\n",
        "  print(number)  "
      ],
      "execution_count": null,
      "outputs": [
        {
          "output_type": "stream",
          "name": "stdout",
          "text": [
            "<td data-title=\"Name\" valign=\"top\">Dr. Achwal Suvarna</td>\n",
            "<td data-title=\"Name\" valign=\"top\">Dr. Agarwal Priyank</td>\n",
            "<td data-title=\"Name\" valign=\"top\">Dr. Aggarwal Supriya</td>\n",
            "<td data-title=\"Name\" valign=\"top\">Dr. Agnihotri Basant Kumar </td>\n",
            "<td data-title=\"Name\" valign=\"top\">Dr. Agrawal Arun Kumar </td>\n",
            "<td data-title=\"Name\" valign=\"top\">Dr. Agrawal Ashutosh </td>\n",
            "<td data-title=\"Name\" valign=\"top\">Dr. Agrawal Deepak </td>\n",
            "<td data-title=\"Name\" valign=\"top\">Dr. Agrawal Himanshu </td>\n",
            "<td data-title=\"Name\" valign=\"top\">Dr. Agrawal Nisha </td>\n",
            "<td data-title=\"Name\" valign=\"top\">Dr. Agrawal Shanu</td>\n",
            "<td data-title=\"Name\" valign=\"top\">Dr. Asati Pranav</td>\n",
            "<td data-title=\"Name\" valign=\"top\">Dr. Asrani Sumit</td>\n",
            "<td data-title=\"Name\" valign=\"top\">Dr. Baghel Satyendra Singh</td>\n",
            "<td data-title=\"Name\" valign=\"top\">Dr. Baghel Yadvendra Singh </td>\n",
            "<td data-title=\"Name\" valign=\"top\">Dr. Bansal Amardeep Singh</td>\n"
          ]
        }
      ]
    },
    {
      "cell_type": "code",
      "metadata": {
        "colab": {
          "base_uri": "https://localhost:8080/"
        },
        "id": "JhOX1md8VMoj",
        "outputId": "5bc9b513-e982-4c5c-c305-b26df802d589"
      },
      "source": [
        "df1.conatc_detail_link"
      ],
      "execution_count": null,
      "outputs": [
        {
          "output_type": "execute_result",
          "data": {
            "text/plain": [
              "0             http://www.drdata.in/drachwalbina\n",
              "1     http://www.drdata.in/drpriyankagarwalbina\n",
              "2        http://www.drdata.in/drsupriyaaggarwal\n",
              "3        http://www.drdata.in/drbasantagnihotri\n",
              "4        http://www.drdata.in/drarunagrawalrewa\n",
              "5        http://www.drdata.in/drashutoshagrawal\n",
              "6          http://www.drdata.in/drdeepakagrawal\n",
              "7        http://www.drdata.in/drhimanshuagrawal\n",
              "8       http://www.drdata.in/drnishaagrawalrewa\n",
              "9           http://www.drdata.in/drshanuagrawal\n",
              "10             http://www.drdata.in/pranavasati\n",
              "11             http://www.drdata.in/asranisumit\n",
              "12              http://www.drdata.in/drssbaghel\n",
              "13          http://www.drdata.in/drysbaghelrewa\n",
              "14              http://www.drdata.in/drasbansal\n",
              "Name: conatc_detail_link, dtype: object"
            ]
          },
          "metadata": {},
          "execution_count": 69
        }
      ]
    },
    {
      "cell_type": "code",
      "metadata": {
        "colab": {
          "base_uri": "https://localhost:8080/"
        },
        "id": "jk68lEWhKm5G",
        "outputId": "2b4ec956-d58d-45c7-b817-f3737c5b3af1"
      },
      "source": [
        "df1[\"conatc_detail_link\"]"
      ],
      "execution_count": null,
      "outputs": [
        {
          "output_type": "execute_result",
          "data": {
            "text/plain": [
              "0             http://www.drdata.in/drachwalbina\n",
              "1     http://www.drdata.in/drpriyankagarwalbina\n",
              "2        http://www.drdata.in/drsupriyaaggarwal\n",
              "3        http://www.drdata.in/drbasantagnihotri\n",
              "4        http://www.drdata.in/drarunagrawalrewa\n",
              "5        http://www.drdata.in/drashutoshagrawal\n",
              "6          http://www.drdata.in/drdeepakagrawal\n",
              "7        http://www.drdata.in/drhimanshuagrawal\n",
              "8       http://www.drdata.in/drnishaagrawalrewa\n",
              "9           http://www.drdata.in/drshanuagrawal\n",
              "10             http://www.drdata.in/pranavasati\n",
              "11             http://www.drdata.in/asranisumit\n",
              "12              http://www.drdata.in/drssbaghel\n",
              "13          http://www.drdata.in/drysbaghelrewa\n",
              "14              http://www.drdata.in/drasbansal\n",
              "Name: conatc_detail_link, dtype: object"
            ]
          },
          "metadata": {},
          "execution_count": 77
        }
      ]
    },
    {
      "cell_type": "code",
      "metadata": {
        "colab": {
          "base_uri": "https://localhost:8080/"
        },
        "id": "Dr5jVVDAPqby",
        "outputId": "f2dd5909-9339-410f-ae51-47d9d6f72f08"
      },
      "source": [
        "#main code \n",
        "contact_number=[]\n",
        "for link in detail_link:\n",
        "  r1=requests.get(link)\n",
        "  try:\n",
        "    \"Phone Number\" in r1.text\n",
        "    match = re.search(\"Phone Number</strong></td> <td>(\\d+)-(\\d+)\",r1.text)\n",
        "    a=str(match.group(1))\n",
        "    b=str(match.group(2))\n",
        "    contact_number.append(a+b)\n",
        "    print(a+b)\n",
        "  except:\n",
        "     \"Phone Number\" not in r1.text\n",
        "     print(\"nil\")\n",
        "     contact_number.append(\"nil\")\n",
        "\n",
        "      "
      ],
      "execution_count": null,
      "outputs": [
        {
          "output_type": "stream",
          "name": "stdout",
          "text": [
            "07580223076\n",
            "07580223068\n",
            "0762403891\n",
            "07662250059\n",
            "nil\n",
            "07662409111\n",
            "nil\n",
            "07672251077\n",
            "nil\n",
            "nil\n",
            "nil\n",
            "07614006382\n",
            "07612623113\n",
            "nil\n",
            "07612419312\n"
          ]
        }
      ]
    },
    {
      "cell_type": "code",
      "metadata": {
        "colab": {
          "base_uri": "https://localhost:8080/"
        },
        "id": "2jYoUBhbPsSy",
        "outputId": "e8c93cc6-5eaa-4d25-81c9-c08e3ef9cc8a"
      },
      "source": [
        "contact_number"
      ],
      "execution_count": null,
      "outputs": [
        {
          "output_type": "execute_result",
          "data": {
            "text/plain": [
              "['07580223076',\n",
              " '07580223068',\n",
              " '0762403891',\n",
              " '07662250059',\n",
              " 'nil',\n",
              " '07662409111',\n",
              " 'nil',\n",
              " '07672251077',\n",
              " 'nil',\n",
              " 'nil',\n",
              " 'nil',\n",
              " '07614006382',\n",
              " '07612623113',\n",
              " 'nil',\n",
              " '07612419312']"
            ]
          },
          "metadata": {},
          "execution_count": 98
        }
      ]
    },
    {
      "cell_type": "code",
      "metadata": {
        "id": "RqZEJJjzPsV-"
      },
      "source": [
        ""
      ],
      "execution_count": null,
      "outputs": []
    },
    {
      "cell_type": "code",
      "metadata": {
        "id": "_eJWUg2iPsa9"
      },
      "source": [
        ""
      ],
      "execution_count": null,
      "outputs": []
    },
    {
      "cell_type": "code",
      "metadata": {
        "id": "JHeG85IkPse5"
      },
      "source": [
        ""
      ],
      "execution_count": null,
      "outputs": []
    },
    {
      "cell_type": "code",
      "metadata": {
        "id": "hVEwAlHPPsiX"
      },
      "source": [
        ""
      ],
      "execution_count": null,
      "outputs": []
    },
    {
      "cell_type": "code",
      "metadata": {
        "colab": {
          "base_uri": "https://localhost:8080/"
        },
        "id": "sjeEGtgJPspm",
        "outputId": "a26d487b-47dd-4207-cc4b-eb57ad3845b0"
      },
      "source": [
        "doc_url = \"https://www.drdata.in/drbasantagnihotri\"\n",
        "r=requests.get(doc_url)\n",
        "\n",
        "try:\n",
        "  \"Phone Number\" in r.text\n",
        "  match = re.search(\"Phone Number</strong></td> <td>(\\d+)-(\\d+)\",r.text)\n",
        "  a=str(match.group(1))\n",
        "  b=str(match.group(2))\n",
        "  print(a+b)\n",
        "except:\n",
        "  \"Phone Number\" not in r.text\n",
        "  print(\"nil\")\n"
      ],
      "execution_count": null,
      "outputs": [
        {
          "output_type": "stream",
          "name": "stdout",
          "text": [
            "07662250059\n"
          ]
        }
      ]
    },
    {
      "cell_type": "code",
      "metadata": {
        "colab": {
          "base_uri": "https://localhost:8080/",
          "height": 126
        },
        "id": "YPZ7oTNbPssb",
        "outputId": "b0dd9bad-0020-454b-c9ec-f6ff6a114042"
      },
      "source": [
        "mobile_nm_list=[]\n",
        "doctor_url= df1[\"conatc_detail_link\"]\n",
        "for j in doctor_url:\n",
        "  r=r=requests.get(j)\n",
        "  for i in r.text:\n",
        "     if \"Phone Number\" in i== True :\n",
        "       match = re.search(\"Phone Number</strong></td> <td>(\\d+)-(\\d+)\",r.text) \n",
        "       print(str(match.group(1)) +str(match.group(2)) )\n",
        "     else:\n",
        "      # print(\"nil\")"
      ],
      "execution_count": null,
      "outputs": [
        {
          "output_type": "error",
          "ename": "SyntaxError",
          "evalue": "ignored",
          "traceback": [
            "\u001b[0;36m  File \u001b[0;32m\"<ipython-input-66-db06c9eaa46b>\"\u001b[0;36m, line \u001b[0;32m10\u001b[0m\n\u001b[0;31m    # print(\"nil\")\u001b[0m\n\u001b[0m                  ^\u001b[0m\n\u001b[0;31mSyntaxError\u001b[0m\u001b[0;31m:\u001b[0m unexpected EOF while parsing\n"
          ]
        }
      ]
    },
    {
      "cell_type": "code",
      "metadata": {
        "id": "kysbzUhyPsvb"
      },
      "source": [
        "detail_tag= soup.find_all(\"td\",{\"data-title\":\"Details\"})\n",
        "detail_link=[]\n",
        "for i in detail_tag[0:15]:\n",
        "  detail_link_url=i.find_all(\"a\")\n",
        "  for j in detail_link_url[0:15]:\n",
        "    detail_link.append(\"http://www.drdata.in/\" + j[\"href\"])\n",
        "print(detail_link)"
      ],
      "execution_count": null,
      "outputs": []
    },
    {
      "cell_type": "code",
      "metadata": {
        "id": "__P7lDGxemJ5"
      },
      "source": [
        "def check_url_link(n):\n",
        "  url=\"https://www.drdata.in/list-doctors.php?search=Doctor&page=\" +str(n)\n",
        "  return url"
      ],
      "execution_count": null,
      "outputs": []
    },
    {
      "cell_type": "code",
      "metadata": {
        "id": "owoL7jhXf_Iq"
      },
      "source": [
        "check_url_link(2) #### its wrong "
      ],
      "execution_count": null,
      "outputs": []
    },
    {
      "cell_type": "code",
      "metadata": {
        "id": "O-vtBZXPgEDt"
      },
      "source": [
        "for page in range (1,10):\n",
        "  print(page)"
      ],
      "execution_count": null,
      "outputs": []
    },
    {
      "cell_type": "code",
      "metadata": {
        "id": "YYS7QUPyhZHL"
      },
      "source": [
        ""
      ],
      "execution_count": null,
      "outputs": []
    }
  ]
}